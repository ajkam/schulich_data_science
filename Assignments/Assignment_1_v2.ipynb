{
 "cells": [
  {
   "attachments": {},
   "cell_type": "markdown",
   "metadata": {},
   "source": [
    "The objective for Data Analysis: I will be assuming the role of a data analyst in an e-commerce company that operates overall multiple regions with multiple product skews. The goal of this data analysis is to understand more about the sales performance of various products.\n",
    "The data analysis will take three steps:\n",
    "Step 1: Cleaning the data.\n",
    "\tThis will involve removing missing values and outliers.\n",
    "Step 2: Transforming the data.\n",
    "\tThis will involve adding new columns and modifying data to make it easier for analysis.\n",
    "Step 3: Analyzing the data.\n",
    "\tThis will involve analyzing the data at an overall VP level and analyzing the data at a regional sales manager level.\n",
    "Each step will have its own description before it starts. Furthermore, each line of code will be annotated to explain its purpose. Also any assumptions that are made will be stated.\n"
   ]
  },
  {
   "cell_type": "code",
   "execution_count": null,
   "metadata": {},
   "outputs": [],
   "source": [
    "import pandas as pd\n",
    "import seaborn as sns\n",
    "import numpy as np\n",
    "import matplotlib.pyplot as plt\n",
    "import math\n",
    "import scipy.stats"
   ]
  },
  {
   "attachments": {},
   "cell_type": "markdown",
   "metadata": {},
   "source": [
    "The above line of code is necessary to import pandas, seaborn, numpy, matplotlib, math, and scipy numpy which are the packages required for this analysis."
   ]
  },
  {
   "cell_type": "code",
   "execution_count": null,
   "metadata": {},
   "outputs": [],
   "source": [
    "df = pd.read_csv(\"https://raw.githubusercontent.com/ajkam/schulich_data_science/main/Assignments/sales_data%20(1)%20-%20Copy.csv\")"
   ]
  },
  {
   "attachments": {},
   "cell_type": "markdown",
   "metadata": {},
   "source": [
    "The above line of code is used to read the excel file store on github and store into a dataframe titled 'df'. "
   ]
  },
  {
   "cell_type": "code",
   "execution_count": null,
   "metadata": {},
   "outputs": [],
   "source": [
    "df"
   ]
  },
  {
   "attachments": {},
   "cell_type": "markdown",
   "metadata": {},
   "source": [
    "print the dataframe"
   ]
  },
  {
   "cell_type": "code",
   "execution_count": null,
   "metadata": {},
   "outputs": [],
   "source": [
    "df.info()"
   ]
  },
  {
   "attachments": {},
   "cell_type": "markdown",
   "metadata": {},
   "source": [
    "display info on the dataframe"
   ]
  },
  {
   "cell_type": "code",
   "execution_count": null,
   "metadata": {},
   "outputs": [],
   "source": [
    "df.describe(include='all')"
   ]
  },
  {
   "attachments": {},
   "cell_type": "markdown",
   "metadata": {},
   "source": [
    "describe some statistics regarding the datrame"
   ]
  },
  {
   "attachments": {},
   "cell_type": "markdown",
   "metadata": {},
   "source": [
    "Step 1: Cleaning the data.\n",
    "\n",
    "The data analysis will help the sales managers and sales VP come up with an efficient strategy for the 2025 sales year. Before coming up with those questions to answer, visualizing observations, and recommending actions, I will start by cleaning the dataset. \n",
    "\n",
    "The idea of cleaning this dataset is to ensure that someone coming into this code for the first time will be able to understand precisely what variables I removed and why I did so. I would also like the guarantee that if they need to make modifications to my analysis due to new information on values or rerun the same analysis for themselves, they will have the means to do so within the code.\n",
    "\n",
    "The issue of tackling missing data will be solved by deciding to replace and fill in the values.\n",
    "If the missing data is numerical then the data should be filled with an appropriate value-based central limit theory. This is because it will not affect the spread of the data. \n",
    "\n",
    "If the missing data is categorical, then the data should be removed for the purpose of the analysis. This is because filling these values with an appropriate value based on the central limit theory would affect the spread of data without contributing additional insights as the soultion would be to add new categorical variables for undefined and missing values.\n",
    "\n",
    "The next part would be to take care of outliers. To identify if there are outliers histograms, boxplots, and scatterplots will be used to determine if the data has outliers. Then based on central limit theory they will be removed from the analysis.\n"
   ]
  },
  {
   "cell_type": "code",
   "execution_count": null,
   "metadata": {},
   "outputs": [],
   "source": [
    "column_dict = {'Product':'product_sku', 'Region':'region','Price':'price_per_unit', \n",
    "               'Units Sold':'units_sold','Sale Date':'sale_date' }\n",
    "df= df.rename(columns=column_dict)\n",
    "df"
   ]
  },
  {
   "attachments": {},
   "cell_type": "markdown",
   "metadata": {},
   "source": [
    "Create a list of  the old column headings and new easier to work with headings\n",
    "use the rename function to replace the column headings. Note that an assumption was made that the Price column represented price per unit."
   ]
  },
  {
   "cell_type": "code",
   "execution_count": null,
   "metadata": {},
   "outputs": [],
   "source": [
    "df.isna().sum()"
   ]
  },
  {
   "attachments": {},
   "cell_type": "markdown",
   "metadata": {},
   "source": [
    "Use the isna function to check if their any missing values in each column and sum the total number of missing values."
   ]
  },
  {
   "cell_type": "code",
   "execution_count": null,
   "metadata": {},
   "outputs": [],
   "source": [
    "print(df.isna().any())\n"
   ]
  },
  {
   "attachments": {},
   "cell_type": "markdown",
   "metadata": {},
   "source": [
    "Use the boolean function .any to check if the dataframe columns has any missing values so its easy to compare with down the line."
   ]
  },
  {
   "cell_type": "code",
   "execution_count": null,
   "metadata": {},
   "outputs": [],
   "source": [
    "print(df.isnull())"
   ]
  },
  {
   "attachments": {},
   "cell_type": "markdown",
   "metadata": {},
   "source": [
    "Print the data set with the boolean function isnull to see true and false for where data is missing."
   ]
  },
  {
   "cell_type": "code",
   "execution_count": null,
   "metadata": {},
   "outputs": [],
   "source": [
    "sns.histplot(df['units_sold'])"
   ]
  },
  {
   "attachments": {},
   "cell_type": "markdown",
   "metadata": {},
   "source": [
    "Create a histogram for the units_sold column to see how it is distributed. Based on the output it seems that is normally distributed with no skewness."
   ]
  },
  {
   "cell_type": "code",
   "execution_count": null,
   "metadata": {},
   "outputs": [],
   "source": [
    "data =df['units_sold']\n"
   ]
  },
  {
   "attachments": {},
   "cell_type": "markdown",
   "metadata": {},
   "source": [
    "Create a temporary dataframe called data with the units sold column to check kurtosis and skewness."
   ]
  },
  {
   "cell_type": "code",
   "execution_count": null,
   "metadata": {},
   "outputs": [],
   "source": [
    "print(\"Kurtosis (scipy): \", scipy.stats.kurtosis(data, fisher=True))\n"
   ]
  },
  {
   "attachments": {},
   "cell_type": "markdown",
   "metadata": {},
   "source": [
    "Use the scipy.stats.kurtosis to check the kurtosis value.\n",
    "Since it is positive yet very close to zero the data is very slightly peaked."
   ]
  },
  {
   "cell_type": "code",
   "execution_count": null,
   "metadata": {},
   "outputs": [],
   "source": [
    "def skewness(data):\n",
    "    n = len(data)\n",
    "    mean = sum(data) / n\n",
    "    variance = sum((x - mean) ** 2 for x in data) / n\n",
    "    std_dev = math.sqrt(variance)\n",
    "    \n",
    "    skewness = sum((x - mean) ** 3 for x in data) / (n * std_dev ** 3)\n",
    "    return skewness"
   ]
  },
  {
   "attachments": {},
   "cell_type": "markdown",
   "metadata": {},
   "source": [
    "Create a formula using the length of the data, the mean of the data divided by length, the variance which is calculated by getting the total sum of squares, and then the standard deviation which is the square root of variance.\n",
    "\n",
    "The calculate the skewneness which is sum each datapoint subratec the mean cubed divied by the standard deviation."
   ]
  },
  {
   "cell_type": "code",
   "execution_count": null,
   "metadata": {},
   "outputs": [],
   "source": [
    "print(skewness(data))\n"
   ]
  },
  {
   "attachments": {},
   "cell_type": "markdown",
   "metadata": {},
   "source": [
    "Based on the above return the skewness. Since the skew is between -0.5 and 0.5 that data is not skewed positively or negatively."
   ]
  },
  {
   "cell_type": "code",
   "execution_count": null,
   "metadata": {},
   "outputs": [],
   "source": [
    "units_sold_mean = df['units_sold'].mean()\n"
   ]
  },
  {
   "attachments": {},
   "cell_type": "markdown",
   "metadata": {},
   "source": [
    "Since it is normally distriubted with no skewness I have determined the best approach is to fill the missing data with the mean. So this function uses the .mean() function to get the mean of units sold and store the value in units_sold_mean."
   ]
  },
  {
   "cell_type": "code",
   "execution_count": null,
   "metadata": {},
   "outputs": [],
   "source": [
    "df['units_sold'].fillna(value=units_sold_mean, inplace= True)"
   ]
  },
  {
   "attachments": {},
   "cell_type": "markdown",
   "metadata": {},
   "source": [
    "This uses the fillna function to replace empty values in units_sold with the units_sold_mean value. The inplace argument is left as True so the change is permanent."
   ]
  },
  {
   "cell_type": "code",
   "execution_count": null,
   "metadata": {},
   "outputs": [],
   "source": [
    "sns.histplot(df['units_sold'])"
   ]
  },
  {
   "attachments": {},
   "cell_type": "markdown",
   "metadata": {},
   "source": [
    "We dispaly the histogram again to view the change as a new column that is over a count of 200 is a direct result of filling in the missing values we saw earlier."
   ]
  },
  {
   "cell_type": "code",
   "execution_count": null,
   "metadata": {},
   "outputs": [],
   "source": [
    "df.describe(include='all')"
   ]
  },
  {
   "attachments": {},
   "cell_type": "markdown",
   "metadata": {},
   "source": [
    "We run the describe function to check if the mean has changed and it has not."
   ]
  },
  {
   "cell_type": "code",
   "execution_count": null,
   "metadata": {},
   "outputs": [],
   "source": [
    "sns.histplot(df['price_per_unit'])"
   ]
  },
  {
   "attachments": {},
   "cell_type": "markdown",
   "metadata": {},
   "source": [
    "Create a histogram for the price_per_unit column to see how it is distributed. Based on the output it seems that the data skewed to the left."
   ]
  },
  {
   "cell_type": "code",
   "execution_count": null,
   "metadata": {},
   "outputs": [],
   "source": [
    "data2 =df['price_per_unit']"
   ]
  },
  {
   "attachments": {},
   "cell_type": "markdown",
   "metadata": {},
   "source": [
    "Create a temporary dataframe called data2 with the price_per_unit column to check kurtosis and skewness."
   ]
  },
  {
   "cell_type": "code",
   "execution_count": null,
   "metadata": {},
   "outputs": [],
   "source": [
    "print(\"Kurtosis (scipy): \", scipy.stats.kurtosis(data2, fisher=True))"
   ]
  },
  {
   "attachments": {},
   "cell_type": "markdown",
   "metadata": {},
   "source": [
    "Use the scipy.stats.kurtosis to check the kurtosis value.\n",
    "Since it is positive and greater than 3 this indicates a leptokurtic distriubtion. This means the data has very thick tails, with a high concentration of data around the tails, and there is a high chance of outliers. This means we should be careful when removing outliers."
   ]
  },
  {
   "cell_type": "code",
   "execution_count": null,
   "metadata": {},
   "outputs": [],
   "source": [
    "def skewness(data2):\n",
    "    n = len(data2)\n",
    "    mean = sum(data2) / n\n",
    "    variance = sum((x - mean) ** 2 for x in data2) / n\n",
    "    std_dev = math.sqrt(variance)\n",
    "    \n",
    "    skewness = sum((x - mean) ** 3 for x in data2) / (n * std_dev ** 3)\n",
    "    return skewness"
   ]
  },
  {
   "attachments": {},
   "cell_type": "markdown",
   "metadata": {},
   "source": [
    "Create a formula using the length of the data, the mean of the data divided by length, the variance which is calculated by getting the total sum of squares, and then the standard deviation which is the square root of variance.\n",
    "\n",
    "The calculate the skewneness which is sum each datapoint subratec the mean cubed divied by the standard deviation."
   ]
  },
  {
   "cell_type": "code",
   "execution_count": null,
   "metadata": {},
   "outputs": [],
   "source": [
    "print(skewness(data2))"
   ]
  },
  {
   "attachments": {},
   "cell_type": "markdown",
   "metadata": {},
   "source": [
    "Based on the above return the skewness. Since the skew is greater than 1 the data is extremely positivley skewed. This means that there is a huge tail on the right hand side of the data."
   ]
  },
  {
   "cell_type": "code",
   "execution_count": null,
   "metadata": {},
   "outputs": [],
   "source": [
    "price_per_unit_median = df['price_per_unit'].median()"
   ]
  },
  {
   "attachments": {},
   "cell_type": "markdown",
   "metadata": {},
   "source": [
    "Since there the data is extremely positively skewed I have determined the best approach is to fill the missing data with the median. So this function uses the .median() function to get the median of price_per_unit and store the value in price_per_unit_median"
   ]
  },
  {
   "cell_type": "code",
   "execution_count": null,
   "metadata": {},
   "outputs": [],
   "source": [
    "df['price_per_unit'].fillna(value=price_per_unit_median, inplace= True)"
   ]
  },
  {
   "attachments": {},
   "cell_type": "markdown",
   "metadata": {},
   "source": [
    "This uses the fillna function to replace empty values in price_per_unit with the price_per_unit_median value. The inplace argument is left as True so the change is permanent."
   ]
  },
  {
   "cell_type": "code",
   "execution_count": null,
   "metadata": {},
   "outputs": [],
   "source": [
    "sns.histplot(df['price_per_unit'])"
   ]
  },
  {
   "attachments": {},
   "cell_type": "markdown",
   "metadata": {},
   "source": [
    "We dispaly the histogram again to view the change as a large column that is over a count of 175 that is a direct result of filling in the missing values we saw earlier."
   ]
  },
  {
   "cell_type": "code",
   "execution_count": null,
   "metadata": {},
   "outputs": [],
   "source": [
    "df.describe(include='all')"
   ]
  },
  {
   "attachments": {},
   "cell_type": "markdown",
   "metadata": {},
   "source": [
    "We run the describe function to check if the mean has changed and it has but only 3 units of the currency the price is in."
   ]
  },
  {
   "cell_type": "code",
   "execution_count": null,
   "metadata": {},
   "outputs": [],
   "source": [
    "df.drop_duplicates(inplace=True)"
   ]
  },
  {
   "attachments": {},
   "cell_type": "markdown",
   "metadata": {},
   "source": [
    "We use the drop_duplicates value to see drop any values that are the exact same. This is to account for any entry error."
   ]
  },
  {
   "cell_type": "code",
   "execution_count": null,
   "metadata": {},
   "outputs": [],
   "source": [
    "print(df.isna().any())"
   ]
  },
  {
   "attachments": {},
   "cell_type": "markdown",
   "metadata": {},
   "source": [
    "We print to ensure the values we just filled are in the dataset. Since price_per_unit and units_sold return false they have been filled."
   ]
  },
  {
   "cell_type": "code",
   "execution_count": null,
   "metadata": {},
   "outputs": [],
   "source": [
    "df_storage = df['product_sku'].fillna(\"sku_undefined\")\n",
    "df_storage = df['region'].fillna(\"region_missing\")"
   ]
  },
  {
   "attachments": {},
   "cell_type": "markdown",
   "metadata": {},
   "source": [
    "This code fills the missing product_sku and missing region with text values and stores them in a dataset in df_storage. This is so if someone from the internal side of the company can look in the code fill in those missing variables and re run the dataset they can do it within the code. They would not have to input the values into the excel stored on github as they could enter them directly into df_storage."
   ]
  },
  {
   "cell_type": "code",
   "execution_count": null,
   "metadata": {},
   "outputs": [],
   "source": [
    "print(df.isna().any())\n"
   ]
  },
  {
   "attachments": {},
   "cell_type": "markdown",
   "metadata": {},
   "source": [
    "This code checks to ensure that product_sku and regions are still missing values in 'df'. This is because we do not believe they are unusable for the analysis detailed at the beginning due to the missing values."
   ]
  },
  {
   "cell_type": "code",
   "execution_count": null,
   "metadata": {},
   "outputs": [],
   "source": [
    "print(df_storage.isna().any())"
   ]
  },
  {
   "attachments": {},
   "cell_type": "markdown",
   "metadata": {},
   "source": [
    "This code checks that dataframe storage has no missing values."
   ]
  },
  {
   "cell_type": "code",
   "execution_count": null,
   "metadata": {},
   "outputs": [],
   "source": [
    "df.dropna(inplace=True)"
   ]
  },
  {
   "attachments": {},
   "cell_type": "markdown",
   "metadata": {},
   "source": [
    "This code then drops the missing values in product_sku and region. This is because I do not believe this data is useful for the data analysis. If they are listed as underfined and other they will not contribute to making insights for specific product performance. "
   ]
  },
  {
   "cell_type": "code",
   "execution_count": null,
   "metadata": {},
   "outputs": [],
   "source": [
    "df"
   ]
  },
  {
   "attachments": {},
   "cell_type": "markdown",
   "metadata": {},
   "source": [
    "We print the dataframe again cause we have not seen it in awhile just to check."
   ]
  },
  {
   "cell_type": "code",
   "execution_count": null,
   "metadata": {},
   "outputs": [],
   "source": [
    "print(df.isna().any())"
   ]
  },
  {
   "attachments": {},
   "cell_type": "markdown",
   "metadata": {},
   "source": [
    "This code checks that dataframe 'df' has no missing values."
   ]
  },
  {
   "cell_type": "code",
   "execution_count": null,
   "metadata": {},
   "outputs": [],
   "source": [
    "df.info()"
   ]
  },
  {
   "attachments": {},
   "cell_type": "markdown",
   "metadata": {},
   "source": [
    "We print some basic info that mainly shows us that we are now at 810 entries from the initial 1050. This means we have cleared about 240 entries from the data."
   ]
  },
  {
   "cell_type": "code",
   "execution_count": null,
   "metadata": {},
   "outputs": [],
   "source": [
    "df.describe(include='all')"
   ]
  },
  {
   "attachments": {},
   "cell_type": "markdown",
   "metadata": {},
   "source": [
    "We print some statistics and see that our mean for both units_sold and price_per_unit have changed slightly."
   ]
  },
  {
   "cell_type": "code",
   "execution_count": null,
   "metadata": {},
   "outputs": [],
   "source": [
    "sns.histplot(df['price_per_unit'])"
   ]
  },
  {
   "attachments": {},
   "cell_type": "markdown",
   "metadata": {},
   "source": [
    "We noticed above that their was an outlier in the histogram and now we are going to treat it."
   ]
  },
  {
   "cell_type": "code",
   "execution_count": null,
   "metadata": {},
   "outputs": [],
   "source": [
    "df[df['price_per_unit']>2000]"
   ]
  },
  {
   "attachments": {},
   "cell_type": "markdown",
   "metadata": {},
   "source": [
    "We isolate for any indexes above 2000 and we find index 969."
   ]
  },
  {
   "cell_type": "code",
   "execution_count": null,
   "metadata": {},
   "outputs": [],
   "source": [
    "df.drop(969, axis=0, inplace=True)"
   ]
  },
  {
   "attachments": {},
   "cell_type": "markdown",
   "metadata": {},
   "source": [
    "We drop index 969 from the dataplace permanently with the drop function and inplace = True."
   ]
  },
  {
   "cell_type": "code",
   "execution_count": null,
   "metadata": {},
   "outputs": [],
   "source": [
    "sns.histplot(df['price_per_unit'])"
   ]
  },
  {
   "attachments": {},
   "cell_type": "markdown",
   "metadata": {},
   "source": [
    "We print our new histogram to see that we have removed the outlier."
   ]
  },
  {
   "cell_type": "code",
   "execution_count": null,
   "metadata": {},
   "outputs": [],
   "source": [
    "sns.histplot(df['units_sold'])"
   ]
  },
  {
   "attachments": {},
   "cell_type": "markdown",
   "metadata": {},
   "source": [
    "We repeat the same process with units_sold to check for outliers."
   ]
  },
  {
   "cell_type": "code",
   "execution_count": null,
   "metadata": {},
   "outputs": [],
   "source": [
    "df[df['units_sold']>20]"
   ]
  },
  {
   "attachments": {},
   "cell_type": "markdown",
   "metadata": {},
   "source": [
    "We isolate for indexes above 20 and find index 719."
   ]
  },
  {
   "cell_type": "code",
   "execution_count": null,
   "metadata": {},
   "outputs": [],
   "source": [
    "df.drop(719, axis=0, inplace=True)"
   ]
  },
  {
   "attachments": {},
   "cell_type": "markdown",
   "metadata": {},
   "source": [
    "We drop index 969 from the dataplace permanently with the drop function and inplace = True."
   ]
  },
  {
   "cell_type": "code",
   "execution_count": null,
   "metadata": {},
   "outputs": [],
   "source": [
    "sns.histplot(df['units_sold'])"
   ]
  },
  {
   "attachments": {},
   "cell_type": "markdown",
   "metadata": {},
   "source": [
    "We print our new histogram to see that we have removed the outlier."
   ]
  },
  {
   "cell_type": "code",
   "execution_count": null,
   "metadata": {},
   "outputs": [],
   "source": [
    "sns.boxplot(data = df, x = 'price_per_unit')"
   ]
  },
  {
   "attachments": {},
   "cell_type": "markdown",
   "metadata": {},
   "source": [
    "We print a boxplot to check if their are any more outliers in the data. We come across a lot of data being greater than 300 which approximatley the upper extreme of the whisker."
   ]
  },
  {
   "cell_type": "code",
   "execution_count": null,
   "metadata": {},
   "outputs": [],
   "source": [
    "df[df['price_per_unit']>300]"
   ]
  },
  {
   "attachments": {},
   "cell_type": "markdown",
   "metadata": {},
   "source": [
    "We isolate those under 300 and determine there are a lot of indices above 300 and decide to come back to analyze it further using a different plot."
   ]
  },
  {
   "cell_type": "code",
   "execution_count": null,
   "metadata": {},
   "outputs": [],
   "source": [
    "sns.boxplot(data = df, x = 'units_sold')"
   ]
  },
  {
   "attachments": {},
   "cell_type": "markdown",
   "metadata": {},
   "source": [
    "We create a boxplot of the units_sold which presents a more reasonable boxplot since it is normally distributed."
   ]
  },
  {
   "cell_type": "code",
   "execution_count": null,
   "metadata": {},
   "outputs": [],
   "source": [
    "df[df['units_sold']>18]"
   ]
  },
  {
   "attachments": {},
   "cell_type": "markdown",
   "metadata": {},
   "source": [
    "We isolate for units above the upper extreme and find some indices."
   ]
  },
  {
   "cell_type": "code",
   "execution_count": null,
   "metadata": {},
   "outputs": [],
   "source": [
    "df.drop(df[df['units_sold']>18].index, axis=0, inplace=True)\n"
   ]
  },
  {
   "attachments": {},
   "cell_type": "markdown",
   "metadata": {},
   "source": [
    "We decide to use the drop function to permanently drop all indices that met the boolean of being greater than 18 using inpalce=True to make it permanent."
   ]
  },
  {
   "cell_type": "code",
   "execution_count": null,
   "metadata": {},
   "outputs": [],
   "source": [
    "sns.boxplot(data = df, x = 'units_sold')"
   ]
  },
  {
   "attachments": {},
   "cell_type": "markdown",
   "metadata": {},
   "source": [
    "We remake the boxplot to show no more outliers."
   ]
  },
  {
   "cell_type": "code",
   "execution_count": null,
   "metadata": {},
   "outputs": [],
   "source": [
    "sns.scatterplot(data=df, x='units_sold',y='price_per_unit')"
   ]
  },
  {
   "attachments": {},
   "cell_type": "markdown",
   "metadata": {},
   "source": [
    "We create a scatterplot to see if we can further find outliers in price_per_unit or if the boxplot was just misdjuding due the data being skewed to the left."
   ]
  },
  {
   "cell_type": "code",
   "execution_count": null,
   "metadata": {},
   "outputs": [],
   "source": [
    "sns.lmplot(data=df, x='price_per_unit',y='units_sold', fit_reg=True)"
   ]
  },
  {
   "attachments": {},
   "cell_type": "markdown",
   "metadata": {},
   "source": [
    "We create a scatterplot with a line of best and a different orientation to see if we can further enhance the findings from the scatterplot."
   ]
  },
  {
   "cell_type": "code",
   "execution_count": null,
   "metadata": {},
   "outputs": [],
   "source": [
    "df[df['price_per_unit']>550]"
   ]
  },
  {
   "attachments": {},
   "cell_type": "markdown",
   "metadata": {},
   "source": [
    "Based on the two scatterplots and the boxplot there seems to be a cluster data from 300 to 550. However past 550 there are only a few datapoints. Therefore the conclusion is to isolate for indices greater than 550."
   ]
  },
  {
   "cell_type": "code",
   "execution_count": null,
   "metadata": {},
   "outputs": [],
   "source": [
    "df.drop(df[df['price_per_unit']>550].index, axis=0, inplace=True)"
   ]
  },
  {
   "attachments": {},
   "cell_type": "markdown",
   "metadata": {},
   "source": [
    "This conclusion seems much more reasonable than the number of outliers concluded from the sole analysis of the boxplot. Therefore we will use the drop function to permanaently drop any index above 550 using inplace=True to ensure it is permanent."
   ]
  },
  {
   "cell_type": "code",
   "execution_count": null,
   "metadata": {},
   "outputs": [],
   "source": [
    "sns.lmplot(data=df, x='price_per_unit',y='units_sold', fit_reg=True)"
   ]
  },
  {
   "attachments": {},
   "cell_type": "markdown",
   "metadata": {},
   "source": [
    "We reprint scatter plot with line of best fit to ensure the data looks good."
   ]
  },
  {
   "cell_type": "code",
   "execution_count": null,
   "metadata": {},
   "outputs": [],
   "source": [
    "df.info()"
   ]
  },
  {
   "attachments": {},
   "cell_type": "markdown",
   "metadata": {},
   "source": [
    "We run the info function to determine that we now have 799 entries. This means we have cleaned about 11 entries from the 810. In total we have cleaned 11+240=251 entries from the orignal data set of 1050 entries."
   ]
  },
  {
   "cell_type": "code",
   "execution_count": null,
   "metadata": {},
   "outputs": [],
   "source": [
    "df.describe(include='all')"
   ]
  },
  {
   "attachments": {},
   "cell_type": "markdown",
   "metadata": {},
   "source": [
    "Now that we have removed our outliers we can see that the units_sold mean has marginally changed from the initial 10.04 to 10.03. While the price_per_unit mean slightly decreased from the initial 107.59 to 98.03. We make a careful note that this was due to removing & filling missing data, dropping duplicates, removing outliers."
   ]
  },
  {
   "attachments": {},
   "cell_type": "markdown",
   "metadata": {},
   "source": [
    "Step 2 and 3:\n",
    "I will transform the data based on the following questions I want to answer. Then I will use the data to visualize the observations. These observations will take two categories. Firstly, the data of summary statistics will be organized and visualized to figure out the big-picture decisions on a department-wide and regional sales level. Secondly, specific product-by-region recommendations will be made according to the recommendation matrix to find the specific fixes for the sales performance of products on department-wide and regional sales levels. The table is located in the attached microsoft document.\n"
   ]
  },
  {
   "cell_type": "code",
   "execution_count": null,
   "metadata": {},
   "outputs": [],
   "source": [
    "print(df['product_sku'].unique())"
   ]
  },
  {
   "attachments": {},
   "cell_type": "markdown",
   "metadata": {},
   "source": [
    "Firstly I want to prepare the data so that the labels are shorter and taht they can be sorted numerically so I am going to print a unique list of product_sku."
   ]
  },
  {
   "cell_type": "code",
   "execution_count": null,
   "metadata": {},
   "outputs": [],
   "source": [
    "\n",
    "df = df.replace(['Product_46', 'Product_36', 'Product_17', 'Product_45', 'Product_31',\n",
    " 'Product_18', 'Product_16', 'Product_9', 'Product_20', 'Product_1',\n",
    " 'Product_2', 'Product_3', 'Product_43', 'Product_33', 'Product_14',\n",
    " 'Product_50', 'Product_6', 'Product_13', 'Product_11', 'Product_27',\n",
    " 'Product_28', 'Product_24', 'Product_34', 'Product_25', 'Product_4',\n",
    " 'Product_48', 'Product_10', 'Product_49', 'Product_12', 'Product_42',\n",
    " 'Product_5', 'Product_26', 'Product_8', 'Product_37', 'Product_22',\n",
    " 'Product_32', 'Product_23', 'Product_35', 'Product_15', 'Product_29',\n",
    " 'Product_44', 'Product_47', 'Product_41', 'Product_39', 'Product_30',\n",
    " 'Product_40', 'Product_21', 'Product_38', 'Product_19', 'Product_7'], [46, 36, 17, 45, 31,\n",
    " 18, 16, 9, 20, 1,\n",
    " 2, 3, 43, 33, 14,\n",
    " 50, 6, 13, 11, 27,\n",
    " 28, 24, 34, 25, 4,\n",
    " 48, 10, 49, 12, 42,\n",
    " 5, 26, 8, 37, 22,\n",
    " 32, 23, 35, 15, 29,\n",
    " 44, 47, 41, 39, 30,\n",
    " 40, 21, 38, 19, 7]\n",
    ")\n",
    "\n",
    "df"
   ]
  },
  {
   "attachments": {},
   "cell_type": "markdown",
   "metadata": {},
   "source": [
    "Then I am going to replace the string Product_#X with the integer #X."
   ]
  },
  {
   "cell_type": "code",
   "execution_count": null,
   "metadata": {},
   "outputs": [],
   "source": [
    "df.sort_values(by=['product_sku'], ascending=True,inplace=True)\n",
    "df"
   ]
  },
  {
   "attachments": {},
   "cell_type": "markdown",
   "metadata": {},
   "source": [
    "Then I am going to sort by product_sku."
   ]
  },
  {
   "cell_type": "code",
   "execution_count": null,
   "metadata": {},
   "outputs": [],
   "source": [
    "print(df['region'].unique())"
   ]
  },
  {
   "attachments": {},
   "cell_type": "markdown",
   "metadata": {},
   "source": [
    "I am going to do the same with the labels for Region starting printing a list of unique values."
   ]
  },
  {
   "cell_type": "code",
   "execution_count": null,
   "metadata": {},
   "outputs": [],
   "source": [
    "df = df.replace(['Region_3', 'Region_1', 'Region_6', 'Region_7', 'Region_9', 'Region_2',\n",
    " 'Region_4', 'Region_5', 'Region_8', 'Region_10'], [3, 1, 6, 7, 9, 2,\n",
    " 4, 5, 8, 10] \n",
    ")\n",
    "df"
   ]
  },
  {
   "attachments": {},
   "cell_type": "markdown",
   "metadata": {},
   "source": [
    "I am replacing the string Region_#X with the integer #X."
   ]
  },
  {
   "cell_type": "code",
   "execution_count": null,
   "metadata": {},
   "outputs": [],
   "source": [
    "df.sort_values(by=['region'], ascending=True,inplace=True)\n",
    "df"
   ]
  },
  {
   "attachments": {},
   "cell_type": "markdown",
   "metadata": {},
   "source": [
    "Then I am going to sort by region."
   ]
  },
  {
   "cell_type": "code",
   "execution_count": null,
   "metadata": {},
   "outputs": [],
   "source": [
    "columns_titles = [\"region\",\"product_sku\",\"price_per_unit\",\"units_sold\",\"sale_date\"]\n",
    "df=df.reindex(columns=columns_titles)\n",
    "df"
   ]
  },
  {
   "attachments": {},
   "cell_type": "markdown",
   "metadata": {},
   "source": [
    "I decided that for my analysis it would better to have region first so I reindexed the columns accordingly."
   ]
  },
  {
   "cell_type": "code",
   "execution_count": null,
   "metadata": {},
   "outputs": [],
   "source": [
    "print(df.groupby('product_sku')['units_sold'].mean())"
   ]
  },
  {
   "cell_type": "code",
   "execution_count": null,
   "metadata": {},
   "outputs": [],
   "source": [
    "df['year_sold'] = pd.DatetimeIndex(df['sale_date']).year\n",
    "df['month_sold'] = pd.DatetimeIndex(df['sale_date']).month\n",
    "df['quarter_sold'] = pd.DatetimeIndex(df['sale_date']).quarter\n",
    "df['sales_revenue'] = df['units_sold'] * df['price_per_unit']\n",
    "df['CW_units_sold'] = df.groupby('product_sku')['units_sold'].transform('mean')\n",
    "df['CW_price_per_unit'] = df.groupby('product_sku')['price_per_unit'].transform('mean')\n",
    "df['CW_sales_revenue'] = df.groupby('product_sku')['sales_revenue'].transform('mean')\n",
    "df['Dif_sales_revenue'] = (df['sales_revenue']- df['CW_sales_revenue'])/df['CW_sales_revenue']\n",
    "df['Dif_price_per_unit'] = (df['price_per_unit']- df['CW_price_per_unit'])/df['CW_price_per_unit']\n",
    "df['Dif_units_sold'] = (df['units_sold']- df['CW_units_sold'])/df['CW_units_sold']\n",
    "\n",
    "\n",
    "\n",
    "def conditions(df):    \n",
    "    if df['Dif_sales_revenue'] > 0: matrix = 1\n",
    "    elif df['Dif_sales_revenue'] == 0:     matrix = 0\n",
    "    elif df['Dif_sales_revenue'] < 0:     matrix = -1\n",
    "    else: matrix = \"ERR\"\n",
    "        \n",
    "    return matrix\n",
    "\n",
    "df['mtr_sales_revenue'] = df.apply(conditions, axis=1)\n",
    "\n",
    "\n",
    "def conditions1(df):    \n",
    "    if df['Dif_price_per_unit'] > 0: matrix = 1\n",
    "    elif df['Dif_price_per_unit'] == 0:     matrix = 0\n",
    "    elif df['Dif_price_per_unit'] < 0:     matrix = -1\n",
    "    else: matrix = \"ERR\"\n",
    "        \n",
    "    return matrix\n",
    "\n",
    "df['mtr_price_per_unit'] = df.apply(conditions1, axis=1)\n",
    "\n",
    "def conditions2(df):    \n",
    "    if df['Dif_units_sold'] > 0: matrix = 1\n",
    "    elif df['Dif_units_sold'] == 0:     matrix = 0\n",
    "    elif df['Dif_units_sold'] < 0:     matrix = -1\n",
    "    else: matrix = \"ERR\"\n",
    "        \n",
    "    return matrix\n",
    "\n",
    "df['mtr_units_sold'] = df.apply(conditions2, axis=1)\n",
    "\n",
    "\n",
    "\n",
    "df\n"
   ]
  },
  {
   "cell_type": "code",
   "execution_count": null,
   "metadata": {},
   "outputs": [],
   "source": [
    "sns.histplot(df['mtr_sales_revenue'])"
   ]
  },
  {
   "attachments": {},
   "cell_type": "markdown",
   "metadata": {},
   "source": [
    "The above columns will help me answer my questions in the big picture statistical summary and the detailed product by region recommendation.\n",
    "The year_sold, month_sold, quarter_sold will help me output summary statistics grouped by a certain time period (year, month, and season/quarter).\n",
    "The columns with the prefix CW are the company-wide averages of units_sold, price_per_unit, and sales_revenue.\n",
    "The columns with the prefix Dif are the differential statistics based on much greater or less the units_sold, price_per_unit, and sales_revenue are to the CW versions in decimals.\n",
    "The columns with the prefix mtr are the boolean operators to determine which scenario each sale falls into based on units_sold, sales_revenue, and price_per_unit. To create these columns I created a variable called conditions. Then I stated one condition if the differential is greater than zero to return the value \"High\", if equal to zero then return the value \"Avg\", and if less than zero to return the value \"low\" in the next condition. as specified in the matrix table attached."
   ]
  },
  {
   "attachments": {},
   "cell_type": "markdown",
   "metadata": {},
   "source": [
    "Step 3: For the VP of sales, I plan to answer to following questions by extracting observations and providing recommendations for the business:\n",
    "\n",
    "What is the overall performance of the company over the three years of data?\n",
    "What quarter does the company have best/worst sales?\n",
    "What was the company’s highest and lowest month?\n",
    "What was the max and min sales for each year?\n",
    "\n"
   ]
  },
  {
   "cell_type": "code",
   "execution_count": 540,
   "metadata": {},
   "outputs": [
    {
     "data": {
      "text/plain": [
       "<Axes: xlabel='year_sold', ylabel='sales_revenue'>"
      ]
     },
     "execution_count": 540,
     "metadata": {},
     "output_type": "execute_result"
    },
    {
     "data": {
      "image/png": "[encoded data removed]",
      "text/plain": [
       "<Figure size 640x480 with 1 Axes>"
      ]
     },
     "metadata": {},
     "output_type": "display_data"
    }
   ],
   "source": [
    "sns.barplot(x='year_sold',y='sales_revenue',data=df, estimator=sum, errorbar=None)\n"
   ]
  },
  {
   "attachments": {},
   "cell_type": "markdown",
   "metadata": {},
   "source": [
    "What is the overall performance of the company over the three years of data?\n",
    "\n",
    "As shown by the data it is difficult so visualize from the barchart of the total revenue to see which year is performing the best. Note that 2024 data only goes up until the third quarter as it ends in September. Looking at the numerical values might help answer this question."
   ]
  },
  {
   "cell_type": "code",
   "execution_count": 542,
   "metadata": {},
   "outputs": [
    {
     "data": {
      "text/plain": [
       "<Axes: xlabel='quarter_sold', ylabel='sales_revenue'>"
      ]
     },
     "execution_count": 542,
     "metadata": {},
     "output_type": "execute_result"
    },
    {
     "data": {
      "image/png": "[encoded data removed]",
      "text/plain": [
       "<Figure size 640x480 with 1 Axes>"
      ]
     },
     "metadata": {},
     "output_type": "display_data"
    }
   ],
   "source": [
    "sns.barplot(x='quarter_sold',y='sales_revenue',data=df, errorbar=None)\n"
   ]
  },
  {
   "attachments": {},
   "cell_type": "markdown",
   "metadata": {},
   "source": [
    "What quarter does the company have best/worst sales?\n",
    "\n",
    "Since the data from quarter 4 are missing in 2024. The average was used instead of the sum. This shows that the best quarter is quarter 4. This is important it shows that the last quarter might cause a rush as managers might be scrambling to increase sales as managers want to meet their bonuses. On the other hand the first quarter is the worst on average which demonstrates that after the end of the year sales managers might be relaxed for the first quarter of the new year. The VP of Sales should look into creating bonuses per quarter so regional sales managers are incentived throughout the entire year. However it is important to look into whether this is because sales managers being lax or just due to the holiday season. Typically ecommerce companies have a surge of sales during the Christmas season and then during January very few people are purchasing. Therfore, before deciding on implementing quarterly bonuses the gap between q1 and q4 should invesetigated further to see if it caused by managers or seasonality."
   ]
  },
  {
   "cell_type": "code",
   "execution_count": 544,
   "metadata": {},
   "outputs": [
    {
     "data": {
      "text/plain": [
       "<Axes: xlabel='month_sold', ylabel='sales_revenue'>"
      ]
     },
     "execution_count": 544,
     "metadata": {},
     "output_type": "execute_result"
    },
    {
     "data": {
      "image/png": "[encoded data removed]",
      "text/plain": [
       "<Figure size 640x480 with 1 Axes>"
      ]
     },
     "metadata": {},
     "output_type": "display_data"
    }
   ],
   "source": [
    "sns.barplot(x='month_sold',y='sales_revenue',data=df, errorbar=None)\n"
   ]
  },
  {
   "attachments": {},
   "cell_type": "markdown",
   "metadata": {},
   "source": [
    "What was the company’s highest and lowest month?\n",
    "\n",
    "This graph visualizes the average sales revenue by month. The top 3 months are July, October, and December. This explains in the previous result why Q4 is the most successful as it has 2 of the top 3 months. The bottom fourr months are September, Jaunary, February, and May. This explains why Q1 is the lowest as it has 2 of the worst months. This again demonstrates the seasonal trend for company. However data from q4 2024 is not included. One recommendation for the VP of Sales might be to employ department wide promotions on the bottom 4 months. This might help increase units_sold although a lower price_per_unit."
   ]
  },
  {
   "cell_type": "code",
   "execution_count": 548,
   "metadata": {},
   "outputs": [
    {
     "name": "stdout",
     "output_type": "stream",
     "text": [
      "The max sale for 2022 was 5855.360000000001\n",
      "The min sale for 2022 was 2.2\n",
      "The max sale for 2023 was 5555.11\n",
      "The min sale for 2023 was 0.99\n",
      "The max sale for 2024 was 5100.6\n",
      "The min sale for 2024 was 14.170000000000002\n"
     ]
    }
   ],
   "source": [
    "df_2022 = df[df[\"year_sold\"]==2022]\n",
    "df_2022\n",
    "print(\"The max sale for 2022 was \" + str(df_2022['sales_revenue'].max()))\n",
    "print(\"The min sale for 2022 was \" + str(df_2022['sales_revenue'].min()))\n",
    "\n",
    "df_2023 = df[df[\"year_sold\"]==2023]\n",
    "df_2023\n",
    "print(\"The max sale for 2023 was \" + str(df_2023['sales_revenue'].max()))\n",
    "print(\"The min sale for 2023 was \"+ str(df_2023['sales_revenue'].min()))\n",
    "\n",
    "df_2024 = df[df[\"year_sold\"]==2024]\n",
    "df_2024\n",
    "print(\"The max sale for 2024 was \" + str(df_2024['sales_revenue'].max()))\n",
    "print(\"The min sale for 2024 was \" + str(df_2024['sales_revenue'].min()))"
   ]
  },
  {
   "attachments": {},
   "cell_type": "markdown",
   "metadata": {},
   "source": [
    "What was the max and min sales for each year?\n",
    "\n",
    "The above cell outputs the min and max sale. This reveals some interesting data as their are some abnormally high sales and low sales. For example the min sales in 2023 is less than a dollar which means that price_per_unit was abnormlly low. This should be investigated as it shows that there is no standard guideline for how much discounts are allowed per product. The regional managers are completely out of wack when it comes to charging prices. There needs to be a standard set by the Vice President of Sales at least for a mininum price for each product as this would ensure that the company maeks a profit on each sale. This holds true as unless the 0.99 sale revenue in 2023 and the 2.2 sale revenue in 2022 were a clearance sale it is unlikely that there was a return on investment for those sales.  "
   ]
  },
  {
   "cell_type": "code",
   "execution_count": 554,
   "metadata": {},
   "outputs": [
    {
     "name": "stdout",
     "output_type": "stream",
     "text": [
      "The total sales for Q1 2022 was 54715.520422832975\n",
      "The total sales for Q2 2022 was 59691.78164904862\n",
      "The total sales for Q3 2022 was 78426.14697674419\n",
      "The total sales for Q4 2022 was 87867.13570824525\n",
      "The total sales for Q1 2023 was 65823.15940803383\n",
      "The total sales for Q2 2023 was 70671.76143763213\n",
      "The total sales for Q3 2023 was 75156.08617336152\n",
      "The total sales for Q4 2023 was 68580.46644820296\n",
      "The total sales for Q1 2024 was 73894.73274841438\n",
      "The total sales for Q2 2024 was 69174.29687103594\n",
      "The total sales for Q3 2024 was 73161.15659619455\n",
      "The total sales for Q4 2024 was 0.0\n"
     ]
    }
   ],
   "source": [
    "df_2022_q1 = df[(df[\"year_sold\"]==2022) & (df[\"quarter_sold\"]==1)]\n",
    "df_2022_q2 = df[(df[\"year_sold\"]==2022) & (df[\"quarter_sold\"]==2)]\n",
    "df_2022_q3 = df[(df[\"year_sold\"]==2022) & (df[\"quarter_sold\"]==3)]\n",
    "df_2022_q4 = df[(df[\"year_sold\"]==2022) & (df[\"quarter_sold\"]==4)]\n",
    "print(\"The total sales for Q1 2022 was \" + str(df_2022_q1['sales_revenue'].sum()))\n",
    "print(\"The total sales for Q2 2022 was \" + str(df_2022_q2['sales_revenue'].sum()))\n",
    "print(\"The total sales for Q3 2022 was \" + str(df_2022_q3['sales_revenue'].sum()))\n",
    "print(\"The total sales for Q4 2022 was \" + str(df_2022_q4['sales_revenue'].sum()))\n",
    "\n",
    "\n",
    "df_2023_q1 = df[(df[\"year_sold\"]==2023) & (df[\"quarter_sold\"]==1)]\n",
    "df_2023_q2 = df[(df[\"year_sold\"]==2023) & (df[\"quarter_sold\"]==2)]\n",
    "df_2023_q3 = df[(df[\"year_sold\"]==2023) & (df[\"quarter_sold\"]==3)]\n",
    "df_2023_q4 = df[(df[\"year_sold\"]==2023) & (df[\"quarter_sold\"]==4)]\n",
    "print(\"The total sales for Q1 2023 was \" + str(df_2023_q1['sales_revenue'].sum()))\n",
    "print(\"The total sales for Q2 2023 was \" + str(df_2023_q2['sales_revenue'].sum()))\n",
    "print(\"The total sales for Q3 2023 was \" + str(df_2023_q3['sales_revenue'].sum()))\n",
    "print(\"The total sales for Q4 2023 was \" + str(df_2023_q4['sales_revenue'].sum()))\n",
    "\n",
    "df_2024_q1 = df[(df[\"year_sold\"]==2024) & (df[\"quarter_sold\"]==1)]\n",
    "df_2024_q2 = df[(df[\"year_sold\"]==2024) & (df[\"quarter_sold\"]==2)]\n",
    "df_2024_q3 = df[(df[\"year_sold\"]==2024) & (df[\"quarter_sold\"]==3)]\n",
    "df_2024_q4 = df[(df[\"year_sold\"]==2024) & (df[\"quarter_sold\"]==4)]\n",
    "print(\"The total sales for Q1 2024 was \" + str(df_2024_q1['sales_revenue'].sum()))\n",
    "print(\"The total sales for Q2 2024 was \" + str(df_2024_q2['sales_revenue'].sum()))\n",
    "print(\"The total sales for Q3 2024 was \" + str(df_2024_q3['sales_revenue'].sum()))\n",
    "print(\"The total sales for Q4 2024 was \" + str(df_2024_q4['sales_revenue'].sum()))\n",
    "\n",
    "\n",
    "\n"
   ]
  },
  {
   "attachments": {},
   "cell_type": "markdown",
   "metadata": {},
   "source": [
    "What quarter does the company have best/worst sales?\n",
    "\n",
    "This question was already answered with a visualization. However a recommendation of addng bonsuses per quarter to motivate managers was suggested.\n",
    "\n",
    "For 2022 Q4 had the highest sales. For 2023 Q3 had the highest sales. For 2024 noting missing Q4 Q1 had the highest sales.\n",
    "\n",
    "Depedning on how the data for Q4 turns it it seems that the highest sales are concentrated in Q3 and Q4. This would support the decision to have a quarterly bonus so the VP of sales can motivate the regional sales managers throughout the year."
   ]
  },
  {
   "cell_type": "code",
   "execution_count": 559,
   "metadata": {},
   "outputs": [
    {
     "name": "stdout",
     "output_type": "stream",
     "text": [
      "The total sales for 2022 was 280700.58475687105\n",
      "The total sales for 2023 was 280231.47346723045\n",
      "The total sales for 2024 was 216230.18621564482\n",
      "78223.8010782241\n",
      "If the company perfomrs at their average sales for the past two years they will surpass 2023 sales with a 2024 total of 294453.9872938689\n"
     ]
    }
   ],
   "source": [
    "print(\"The total sales for 2022 was \" + str(df_2022['sales_revenue'].sum()))\n",
    "print(\"The total sales for 2023 was \" + str(df_2023['sales_revenue'].sum()))\n",
    "print(\"The total sales for 2024 was \" + str(df_2024['sales_revenue'].sum()))\n",
    "\n",
    "x= (df_2022_q4['sales_revenue'].sum() + df_2023_q4['sales_revenue'].sum())/2\n",
    "print(x)\n",
    "print(\"If the company perfomrs at their average sales for the past two years they will surpass 2023 sales with a 2024 total of \" + \n",
    "      str(x + df_2024['sales_revenue'].sum()))"
   ]
  },
  {
   "attachments": {},
   "cell_type": "markdown",
   "metadata": {},
   "source": [
    "What is the overall performance of the company over the three years of data?\n",
    "\n",
    "Earlier a visualization was used to attempt to answer this question. It was unclear because the first two datapoints were so close and the 2024 datapoint was much lower so the visualization scale was not able to demonstrate it properly. So the numeric data shows that sales decreased from 2022 to 2023 which shows a slight dip in performance. However if their quarter 4 remains on track based on the average of the past two years they will surpass their performance."
   ]
  },
  {
   "cell_type": "code",
   "execution_count": null,
   "metadata": {},
   "outputs": [],
   "source": [
    "sns.barplot(x='region',y='sales_revenue',data=df, estimator=sum, errorbar=None)\n"
   ]
  },
  {
   "cell_type": "code",
   "execution_count": null,
   "metadata": {},
   "outputs": [],
   "source": [
    "sns.barplot(x='region',y='sales_revenue',data=df_2022, estimator=sum, errorbar=None)\n"
   ]
  },
  {
   "cell_type": "code",
   "execution_count": null,
   "metadata": {},
   "outputs": [],
   "source": [
    "sns.barplot(x='region',y='sales_revenue',data=df_2023, estimator=sum, errorbar=None)\n"
   ]
  },
  {
   "cell_type": "code",
   "execution_count": null,
   "metadata": {},
   "outputs": [],
   "source": [
    "sns.barplot(x='region',y='sales_revenue',data=df_2024, estimator=sum, errorbar=None)\n"
   ]
  },
  {
   "attachments": {},
   "cell_type": "markdown",
   "metadata": {},
   "source": [
    "Break"
   ]
  },
  {
   "cell_type": "code",
   "execution_count": null,
   "metadata": {},
   "outputs": [],
   "source": [
    "t = sns.barplot(x='product_sku',y='sales_revenue',data=df, estimator=sum, errorbar=None)\n",
    "t.tick_params(labelsize=5)\n"
   ]
  },
  {
   "cell_type": "code",
   "execution_count": null,
   "metadata": {},
   "outputs": [],
   "source": [
    "t = sns.barplot(x='product_sku',y='sales_revenue',data=df_2022, estimator=sum, errorbar=None)\n",
    "t.tick_params(labelsize=5)"
   ]
  },
  {
   "cell_type": "code",
   "execution_count": null,
   "metadata": {},
   "outputs": [],
   "source": [
    "t = sns.barplot(x='product_sku',y='sales_revenue',data=df_2023, estimator=sum, errorbar=None)\n",
    "t.tick_params(labelsize=5)"
   ]
  },
  {
   "cell_type": "code",
   "execution_count": null,
   "metadata": {},
   "outputs": [],
   "source": [
    "t = sns.barplot(x='product_sku',y='sales_revenue',data=df_2024, estimator=sum, errorbar=None)\n",
    "t.tick_params(labelsize=5)"
   ]
  },
  {
   "cell_type": "code",
   "execution_count": null,
   "metadata": {},
   "outputs": [],
   "source": [
    "p = df.pivot_table(index='product_sku', columns='region', values=['mtr_sales_revenue',\n",
    "                                                                  'mtr_price_per_unit', \n",
    "                                                                  'mtr_units_sold'])\n",
    "p"
   ]
  },
  {
   "cell_type": "code",
   "execution_count": null,
   "metadata": {},
   "outputs": [],
   "source": [
    "regioninput = input(\"Welcome Regional Manageer. Please enter your region between 1 to 10\")\n",
    "regiondataframe= \"df_\" + str(regioninput)\n",
    "print(regiondataframe)\n",
    "type(regiondataframe)"
   ]
  },
  {
   "cell_type": "code",
   "execution_count": null,
   "metadata": {},
   "outputs": [],
   "source": [
    "regiondataframe = df[df[\"region\"]==int(regioninput)]\n",
    "regiondataframe"
   ]
  },
  {
   "cell_type": "code",
   "execution_count": null,
   "metadata": {},
   "outputs": [],
   "source": [
    "p = regiondataframe.pivot_table(index='product_sku', columns='region', values=['mtr_sales_revenue',\n",
    "                                                                  'mtr_price_per_unit', \n",
    "                                                                  'mtr_units_sold'])\n",
    "p"
   ]
  },
  {
   "cell_type": "code",
   "execution_count": null,
   "metadata": {},
   "outputs": [],
   "source": [
    "sns.barplot(x='year_sold',y='sales_revenue',data=regiondataframe, estimator=sum, errorbar=None)"
   ]
  },
  {
   "cell_type": "code",
   "execution_count": null,
   "metadata": {},
   "outputs": [],
   "source": [
    "sns.barplot(x='month_sold',y='sales_revenue',data=regiondataframe, estimator=sum, errorbar=None)\n"
   ]
  },
  {
   "cell_type": "code",
   "execution_count": null,
   "metadata": {},
   "outputs": [],
   "source": [
    "sns.barplot(x='quarter_sold',y='sales_revenue',data=regiondataframe, estimator=sum, errorbar=None)\n"
   ]
  }
 ],
 "metadata": {
  "kernelspec": {
   "display_name": "Python 3",
   "language": "python",
   "name": "python3"
  },
  "language_info": {
   "codemirror_mode": {
    "name": "ipython",
    "version": 3
   },
   "file_extension": ".py",
   "mimetype": "text/x-python",
   "name": "python",
   "nbconvert_exporter": "python",
   "pygments_lexer": "ipython3",
   "version": "3.10.7"
  },
  "orig_nbformat": 4
 },
 "nbformat": 4,
 "nbformat_minor": 2
}
