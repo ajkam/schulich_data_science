{
 "cells": [
  {
   "attachments": {},
   "cell_type": "markdown",
   "metadata": {},
   "source": [
    "The objective for Data Analysis: I will be assuming the role of a data analyst in an e-commerce company that operates overall multiple regions with multiple product skews. The goal of this data analysis is to understand more about the sales performance of various products.\n",
    "The data analysis will take three steps:\n",
    "Step 1: Cleaning the data.\n",
    "\tThis will involve removing missing values and outliers.\n",
    "Step 2: Transforming the data.\n",
    "\tThis will involve adding new columns and modifying data to make it easier for analysis.\n",
    "Step 3: Analyzing the data.\n",
    "\tThis will involve analyzing the data at an overall VP level and analyzing the data at a regional sales manager level.\n",
    "Each step will have its own description before it starts. Furthermore, each line of code will be annotated to explain its purpose. Also any assumptions that are made will be stated.\n"
   ]
  },
  {
   "cell_type": "code",
   "execution_count": null,
   "metadata": {},
   "outputs": [],
   "source": [
    "import pandas as pd\n",
    "import seaborn as sns\n",
    "import numpy as np\n",
    "import matplotlib.pyplot as plt\n",
    "import math\n",
    "import scipy.stats"
   ]
  },
  {
   "attachments": {},
   "cell_type": "markdown",
   "metadata": {},
   "source": [
    "The above line of code is necessary to import pandas, seaborn, numpy, matplotlib, math, and scipy numpy which are the packages required for this analysis."
   ]
  },
  {
   "cell_type": "code",
   "execution_count": null,
   "metadata": {},
   "outputs": [],
   "source": [
    "df = pd.read_csv(\"https://raw.githubusercontent.com/ajkam/schulich_data_science/main/Assignments/sales_data%20(1)%20-%20Copy.csv\")"
   ]
  },
  {
   "attachments": {},
   "cell_type": "markdown",
   "metadata": {},
   "source": [
    "The above line of code is used to read the excel file store on github and store into a dataframe titled 'df'. "
   ]
  },
  {
   "cell_type": "code",
   "execution_count": null,
   "metadata": {},
   "outputs": [],
   "source": [
    "df"
   ]
  },
  {
   "attachments": {},
   "cell_type": "markdown",
   "metadata": {},
   "source": [
    "print the dataframe"
   ]
  },
  {
   "cell_type": "code",
   "execution_count": null,
   "metadata": {},
   "outputs": [],
   "source": [
    "df.info()"
   ]
  },
  {
   "attachments": {},
   "cell_type": "markdown",
   "metadata": {},
   "source": [
    "display info on the dataframe"
   ]
  },
  {
   "cell_type": "code",
   "execution_count": null,
   "metadata": {},
   "outputs": [],
   "source": [
    "df.describe(include='all')"
   ]
  },
  {
   "attachments": {},
   "cell_type": "markdown",
   "metadata": {},
   "source": [
    "describe some statistics regarding the datrame"
   ]
  },
  {
   "attachments": {},
   "cell_type": "markdown",
   "metadata": {},
   "source": [
    "# Step 1: Cleaning the data.\n",
    "\n",
    "The data analysis will help the sales managers and sales VP come up with an efficient strategy for the 2025 sales year. Before coming up with those questions to answer, visualizing observations, and recommending actions, I will start by cleaning the dataset. \n",
    "\n",
    "The idea of cleaning this dataset is to ensure that someone coming into this code for the first time will be able to understand precisely what variables I removed and why I did so. I would also like the guarantee that if they need to make modifications to my analysis due to new information on values or rerun the same analysis for themselves, they will have the means to do so within the code.\n",
    "\n",
    "The issue of tackling missing data will be solved by deciding to replace and fill in the values.\n",
    "If the missing data is numerical then the data should be filled with an appropriate value-based central limit theory. This is because it will not affect the spread of the data. \n",
    "\n",
    "If the missing data is categorical, then the data should be removed for the purpose of the analysis. This is because filling these values with an appropriate value based on the central limit theory would affect the spread of data without contributing additional insights as the soultion would be to add new categorical variables for undefined and missing values.\n",
    "\n",
    "The next part would be to take care of outliers. To identify if there are outliers histograms, boxplots, and scatterplots will be used to determine if the data has outliers. Then based on central limit theory they will be removed from the analysis.\n"
   ]
  },
  {
   "cell_type": "code",
   "execution_count": null,
   "metadata": {},
   "outputs": [],
   "source": [
    "column_dict = {'Product':'product_sku', 'Region':'region','Price':'price_per_unit', \n",
    "               'Units Sold':'units_sold','Sale Date':'sale_date' }\n",
    "df= df.rename(columns=column_dict)\n",
    "df"
   ]
  },
  {
   "attachments": {},
   "cell_type": "markdown",
   "metadata": {},
   "source": [
    "Create a list of  the old column headings and new easier to work with headings\n",
    "use the rename function to replace the column headings. Note that an assumption was made that the Price column represented price per unit."
   ]
  },
  {
   "cell_type": "code",
   "execution_count": null,
   "metadata": {},
   "outputs": [],
   "source": [
    "df.isna().sum()"
   ]
  },
  {
   "attachments": {},
   "cell_type": "markdown",
   "metadata": {},
   "source": [
    "Use the isna function to check if their any missing values in each column and sum the total number of missing values."
   ]
  },
  {
   "cell_type": "code",
   "execution_count": null,
   "metadata": {},
   "outputs": [],
   "source": [
    "print(df.isna().any())\n"
   ]
  },
  {
   "attachments": {},
   "cell_type": "markdown",
   "metadata": {},
   "source": [
    "Use the boolean function .any to check if the dataframe columns has any missing values so its easy to compare with down the line."
   ]
  },
  {
   "cell_type": "code",
   "execution_count": null,
   "metadata": {},
   "outputs": [],
   "source": [
    "print(df.isnull())"
   ]
  },
  {
   "attachments": {},
   "cell_type": "markdown",
   "metadata": {},
   "source": [
    "Print the data set with the boolean function isnull to see true and false for where data is missing."
   ]
  },
  {
   "cell_type": "code",
   "execution_count": null,
   "metadata": {},
   "outputs": [],
   "source": [
    "sns.histplot(df['units_sold'])"
   ]
  },
  {
   "attachments": {},
   "cell_type": "markdown",
   "metadata": {},
   "source": [
    "Create a histogram for the units_sold column to see how it is distributed. Based on the output it seems that is normally distributed with no skewness."
   ]
  },
  {
   "cell_type": "code",
   "execution_count": null,
   "metadata": {},
   "outputs": [],
   "source": [
    "data =df['units_sold']\n"
   ]
  },
  {
   "attachments": {},
   "cell_type": "markdown",
   "metadata": {},
   "source": [
    "Create a temporary dataframe called data with the units sold column to check kurtosis and skewness."
   ]
  },
  {
   "cell_type": "code",
   "execution_count": null,
   "metadata": {},
   "outputs": [],
   "source": [
    "print(\"Kurtosis (scipy): \", scipy.stats.kurtosis(data, fisher=True))\n"
   ]
  },
  {
   "attachments": {},
   "cell_type": "markdown",
   "metadata": {},
   "source": [
    "Use the scipy.stats.kurtosis to check the kurtosis value.\n",
    "Since it is positive yet very close to zero the data is very slightly peaked."
   ]
  },
  {
   "cell_type": "code",
   "execution_count": null,
   "metadata": {},
   "outputs": [],
   "source": [
    "def skewness(data):\n",
    "    n = len(data)\n",
    "    mean = sum(data) / n\n",
    "    variance = sum((x - mean) ** 2 for x in data) / n\n",
    "    std_dev = math.sqrt(variance)\n",
    "    \n",
    "    skewness = sum((x - mean) ** 3 for x in data) / (n * std_dev ** 3)\n",
    "    return skewness"
   ]
  },
  {
   "attachments": {},
   "cell_type": "markdown",
   "metadata": {},
   "source": [
    "Create a formula using the length of the data, the mean of the data divided by length, the variance which is calculated by getting the total sum of squares, and then the standard deviation which is the square root of variance. The used the sum along with power to the cubed to return skewness."
   ]
  },
  {
   "cell_type": "code",
   "execution_count": null,
   "metadata": {},
   "outputs": [],
   "source": [
    "print(skewness(data))\n"
   ]
  },
  {
   "attachments": {},
   "cell_type": "markdown",
   "metadata": {},
   "source": [
    "Based on the above return the skewness. Since the skew is between -0.5 and 0.5 that data is not skewed positively or negatively."
   ]
  },
  {
   "cell_type": "code",
   "execution_count": null,
   "metadata": {},
   "outputs": [],
   "source": [
    "units_sold_mean = df['units_sold'].mean()\n"
   ]
  },
  {
   "attachments": {},
   "cell_type": "markdown",
   "metadata": {},
   "source": [
    "Since it is normally distriubted with no skewness I have determined the best approach is to fill the missing data with the mean. So this function uses the .mean() function to get the mean of units sold and store the value in units_sold_mean."
   ]
  },
  {
   "cell_type": "code",
   "execution_count": null,
   "metadata": {},
   "outputs": [],
   "source": [
    "df['units_sold'].fillna(value=units_sold_mean, inplace= True)"
   ]
  },
  {
   "attachments": {},
   "cell_type": "markdown",
   "metadata": {},
   "source": [
    "This uses the fillna function to replace empty values in units_sold with the units_sold_mean value. The inplace argument is left as True so the change is permanent."
   ]
  },
  {
   "cell_type": "code",
   "execution_count": null,
   "metadata": {},
   "outputs": [],
   "source": [
    "sns.histplot(df['units_sold'])"
   ]
  },
  {
   "attachments": {},
   "cell_type": "markdown",
   "metadata": {},
   "source": [
    "We dispaly the histogram again to view the change as a new column that is over a count of 200 is a direct result of filling in the missing values we saw earlier."
   ]
  },
  {
   "cell_type": "code",
   "execution_count": null,
   "metadata": {},
   "outputs": [],
   "source": [
    "df.describe(include='all')"
   ]
  },
  {
   "attachments": {},
   "cell_type": "markdown",
   "metadata": {},
   "source": [
    "We run the describe function to check if the mean has changed and it has not."
   ]
  },
  {
   "cell_type": "code",
   "execution_count": null,
   "metadata": {},
   "outputs": [],
   "source": [
    "sns.histplot(df['price_per_unit'])"
   ]
  },
  {
   "attachments": {},
   "cell_type": "markdown",
   "metadata": {},
   "source": [
    "Create a histogram for the price_per_unit column to see how it is distributed. Based on the output it seems that the data skewed to the left."
   ]
  },
  {
   "cell_type": "code",
   "execution_count": null,
   "metadata": {},
   "outputs": [],
   "source": [
    "data2 =df['price_per_unit']"
   ]
  },
  {
   "attachments": {},
   "cell_type": "markdown",
   "metadata": {},
   "source": [
    "Create a temporary dataframe called data2 with the price_per_unit column to check kurtosis and skewness."
   ]
  },
  {
   "cell_type": "code",
   "execution_count": null,
   "metadata": {},
   "outputs": [],
   "source": [
    "print(\"Kurtosis (scipy): \", scipy.stats.kurtosis(data2, fisher=True))"
   ]
  },
  {
   "attachments": {},
   "cell_type": "markdown",
   "metadata": {},
   "source": [
    "Use the scipy.stats.kurtosis to check the kurtosis value.\n",
    "Since it is positive and greater than 3 this indicates a leptokurtic distriubtion. This means the data has very thick tails, with a high concentration of data around the tails, and there is a high chance of outliers. This means we should be careful when removing outliers."
   ]
  },
  {
   "cell_type": "code",
   "execution_count": null,
   "metadata": {},
   "outputs": [],
   "source": [
    "def skewness(data2):\n",
    "    n = len(data2)\n",
    "    mean = sum(data2) / n\n",
    "    variance = sum((x - mean) ** 2 for x in data2) / n\n",
    "    std_dev = math.sqrt(variance)\n",
    "    \n",
    "    skewness = sum((x - mean) ** 3 for x in data2) / (n * std_dev ** 3)\n",
    "    return skewness"
   ]
  },
  {
   "attachments": {},
   "cell_type": "markdown",
   "metadata": {},
   "source": [
    "Create a formula using the length of the data, the mean of the data divided by length, the variance which is calculated by getting the total sum of squares, and then the standard deviation which is the square root of variance.\n",
    "\n",
    "The calculate the skewneness which is sum each datapoint subratec the mean cubed divied by the standard deviation."
   ]
  },
  {
   "cell_type": "code",
   "execution_count": null,
   "metadata": {},
   "outputs": [],
   "source": [
    "print(skewness(data2))"
   ]
  },
  {
   "attachments": {},
   "cell_type": "markdown",
   "metadata": {},
   "source": [
    "Based on the above return the skewness. Since the skew is greater than 1 the data is extremely positivley skewed. This means that there is a huge tail on the right hand side of the data."
   ]
  },
  {
   "cell_type": "code",
   "execution_count": null,
   "metadata": {},
   "outputs": [],
   "source": [
    "price_per_unit_median = df['price_per_unit'].median()"
   ]
  },
  {
   "attachments": {},
   "cell_type": "markdown",
   "metadata": {},
   "source": [
    "Since there the data is extremely positively skewed I have determined the best approach is to fill the missing data with the median. So this function uses the .median() function to get the median of price_per_unit and store the value in price_per_unit_median"
   ]
  },
  {
   "cell_type": "code",
   "execution_count": null,
   "metadata": {},
   "outputs": [],
   "source": [
    "df['price_per_unit'].fillna(value=price_per_unit_median, inplace= True)"
   ]
  },
  {
   "attachments": {},
   "cell_type": "markdown",
   "metadata": {},
   "source": [
    "This uses the fillna function to replace empty values in price_per_unit with the price_per_unit_median value. The inplace argument is left as True so the change is permanent."
   ]
  },
  {
   "cell_type": "code",
   "execution_count": null,
   "metadata": {},
   "outputs": [],
   "source": [
    "sns.histplot(df['price_per_unit'])"
   ]
  },
  {
   "attachments": {},
   "cell_type": "markdown",
   "metadata": {},
   "source": [
    "We dispaly the histogram again to view the change as a large column that is over a count of 175 that is a direct result of filling in the missing values we saw earlier."
   ]
  },
  {
   "cell_type": "code",
   "execution_count": null,
   "metadata": {},
   "outputs": [],
   "source": [
    "df.describe(include='all')"
   ]
  },
  {
   "attachments": {},
   "cell_type": "markdown",
   "metadata": {},
   "source": [
    "We run the describe function to check if the mean has changed and it has but only 3 units of the currency the price is in."
   ]
  },
  {
   "cell_type": "code",
   "execution_count": null,
   "metadata": {},
   "outputs": [],
   "source": [
    "df.drop_duplicates(inplace=True)"
   ]
  },
  {
   "attachments": {},
   "cell_type": "markdown",
   "metadata": {},
   "source": [
    "We use the drop_duplicates value to see drop any values that are the exact same. This is to account for any entry error."
   ]
  },
  {
   "cell_type": "code",
   "execution_count": null,
   "metadata": {},
   "outputs": [],
   "source": [
    "print(df.isna().any())"
   ]
  },
  {
   "attachments": {},
   "cell_type": "markdown",
   "metadata": {},
   "source": [
    "We print to ensure the values we just filled are in the dataset. Since price_per_unit and units_sold return false they have been filled."
   ]
  },
  {
   "cell_type": "code",
   "execution_count": null,
   "metadata": {},
   "outputs": [],
   "source": [
    "df_storage = df['product_sku'].fillna(\"sku_undefined\")\n",
    "df_storage = df['region'].fillna(\"region_missing\")"
   ]
  },
  {
   "attachments": {},
   "cell_type": "markdown",
   "metadata": {},
   "source": [
    "This code fills the missing product_sku and missing region with text values and stores them in a dataset in df_storage. This is so if someone from the internal side of the company can look in the code fill in those missing variables and re run the dataset they can do it within the code. They would not have to input the values into the excel stored on github as they could enter them directly into df_storage."
   ]
  },
  {
   "cell_type": "code",
   "execution_count": null,
   "metadata": {},
   "outputs": [],
   "source": [
    "print(df.isna().any())\n"
   ]
  },
  {
   "attachments": {},
   "cell_type": "markdown",
   "metadata": {},
   "source": [
    "This code checks to ensure that product_sku and regions are still missing values in 'df'. This is because we do not believe they are unusable for the analysis detailed at the beginning due to the missing values."
   ]
  },
  {
   "cell_type": "code",
   "execution_count": null,
   "metadata": {},
   "outputs": [],
   "source": [
    "print(df_storage.isna().any())"
   ]
  },
  {
   "attachments": {},
   "cell_type": "markdown",
   "metadata": {},
   "source": [
    "This code checks that dataframe storage has no missing values."
   ]
  },
  {
   "cell_type": "code",
   "execution_count": null,
   "metadata": {},
   "outputs": [],
   "source": [
    "df.dropna(inplace=True)"
   ]
  },
  {
   "attachments": {},
   "cell_type": "markdown",
   "metadata": {},
   "source": [
    "This code then drops the missing values in product_sku and region. This is because I do not believe this data is useful for the data analysis. If they are listed as underfined and other they will not contribute to making insights for specific product performance. "
   ]
  },
  {
   "cell_type": "code",
   "execution_count": null,
   "metadata": {},
   "outputs": [],
   "source": [
    "df"
   ]
  },
  {
   "attachments": {},
   "cell_type": "markdown",
   "metadata": {},
   "source": [
    "We print the dataframe again cause we have not seen it in awhile just to check."
   ]
  },
  {
   "cell_type": "code",
   "execution_count": null,
   "metadata": {},
   "outputs": [],
   "source": [
    "print(df.isna().any())"
   ]
  },
  {
   "attachments": {},
   "cell_type": "markdown",
   "metadata": {},
   "source": [
    "This code checks that dataframe 'df' has no missing values."
   ]
  },
  {
   "cell_type": "code",
   "execution_count": null,
   "metadata": {},
   "outputs": [],
   "source": [
    "df.info()"
   ]
  },
  {
   "attachments": {},
   "cell_type": "markdown",
   "metadata": {},
   "source": [
    "We print some basic info that mainly shows us that we are now at 810 entries from the initial 1050. This means we have cleared about 240 entries from the data."
   ]
  },
  {
   "cell_type": "code",
   "execution_count": null,
   "metadata": {},
   "outputs": [],
   "source": [
    "df.describe(include='all')"
   ]
  },
  {
   "attachments": {},
   "cell_type": "markdown",
   "metadata": {},
   "source": [
    "We print some statistics and see that our mean for both units_sold and price_per_unit have changed slightly."
   ]
  },
  {
   "cell_type": "code",
   "execution_count": null,
   "metadata": {},
   "outputs": [],
   "source": [
    "sns.histplot(df['price_per_unit'])"
   ]
  },
  {
   "attachments": {},
   "cell_type": "markdown",
   "metadata": {},
   "source": [
    "We noticed above that their was an outlier in the histogram and now we are going to treat it."
   ]
  },
  {
   "cell_type": "code",
   "execution_count": null,
   "metadata": {},
   "outputs": [],
   "source": [
    "df[df['price_per_unit']>2000]"
   ]
  },
  {
   "attachments": {},
   "cell_type": "markdown",
   "metadata": {},
   "source": [
    "We isolate for any indexes above 2000 and we find index 969."
   ]
  },
  {
   "cell_type": "code",
   "execution_count": null,
   "metadata": {},
   "outputs": [],
   "source": [
    "df.drop(969, axis=0, inplace=True)"
   ]
  },
  {
   "attachments": {},
   "cell_type": "markdown",
   "metadata": {},
   "source": [
    "We drop index 969 from the dataplace permanently with the drop function and inplace = True."
   ]
  },
  {
   "cell_type": "code",
   "execution_count": null,
   "metadata": {},
   "outputs": [],
   "source": [
    "sns.histplot(df['price_per_unit'])"
   ]
  },
  {
   "attachments": {},
   "cell_type": "markdown",
   "metadata": {},
   "source": [
    "We print our new histogram to see that we have removed the outlier."
   ]
  },
  {
   "cell_type": "code",
   "execution_count": null,
   "metadata": {},
   "outputs": [],
   "source": [
    "sns.histplot(df['units_sold'])"
   ]
  },
  {
   "attachments": {},
   "cell_type": "markdown",
   "metadata": {},
   "source": [
    "We repeat the same process with units_sold to check for outliers."
   ]
  },
  {
   "cell_type": "code",
   "execution_count": null,
   "metadata": {},
   "outputs": [],
   "source": [
    "df[df['units_sold']>20]"
   ]
  },
  {
   "attachments": {},
   "cell_type": "markdown",
   "metadata": {},
   "source": [
    "We isolate for indexes above 20 and find index 719."
   ]
  },
  {
   "cell_type": "code",
   "execution_count": null,
   "metadata": {},
   "outputs": [],
   "source": [
    "df.drop(719, axis=0, inplace=True)"
   ]
  },
  {
   "attachments": {},
   "cell_type": "markdown",
   "metadata": {},
   "source": [
    "We drop index 969 from the dataplace permanently with the drop function and inplace = True."
   ]
  },
  {
   "cell_type": "code",
   "execution_count": null,
   "metadata": {},
   "outputs": [],
   "source": [
    "sns.histplot(df['units_sold'])"
   ]
  },
  {
   "attachments": {},
   "cell_type": "markdown",
   "metadata": {},
   "source": [
    "We print our new histogram to see that we have removed the outlier."
   ]
  },
  {
   "cell_type": "code",
   "execution_count": null,
   "metadata": {},
   "outputs": [],
   "source": [
    "sns.boxplot(data = df, x = 'price_per_unit')"
   ]
  },
  {
   "attachments": {},
   "cell_type": "markdown",
   "metadata": {},
   "source": [
    "We print a boxplot to check if their are any more outliers in the data. We come across a lot of data being greater than 300 which approximatley the upper extreme of the whisker."
   ]
  },
  {
   "cell_type": "code",
   "execution_count": null,
   "metadata": {},
   "outputs": [],
   "source": [
    "df[df['price_per_unit']>300]"
   ]
  },
  {
   "attachments": {},
   "cell_type": "markdown",
   "metadata": {},
   "source": [
    "We isolate those under 300 and determine there are a lot of indices above 300 and decide to come back to analyze it further using a different plot."
   ]
  },
  {
   "cell_type": "code",
   "execution_count": null,
   "metadata": {},
   "outputs": [],
   "source": [
    "sns.boxplot(data = df, x = 'units_sold')"
   ]
  },
  {
   "attachments": {},
   "cell_type": "markdown",
   "metadata": {},
   "source": [
    "We create a boxplot of the units_sold which presents a more reasonable boxplot since it is normally distributed."
   ]
  },
  {
   "cell_type": "code",
   "execution_count": null,
   "metadata": {},
   "outputs": [],
   "source": [
    "df[df['units_sold']>18]"
   ]
  },
  {
   "attachments": {},
   "cell_type": "markdown",
   "metadata": {},
   "source": [
    "We isolate for units above the upper extreme and find some indices."
   ]
  },
  {
   "cell_type": "code",
   "execution_count": null,
   "metadata": {},
   "outputs": [],
   "source": [
    "df.drop(df[df['units_sold']>18].index, axis=0, inplace=True)\n"
   ]
  },
  {
   "attachments": {},
   "cell_type": "markdown",
   "metadata": {},
   "source": [
    "We decide to use the drop function to permanently drop all indices that met the boolean of being greater than 18 using inpalce=True to make it permanent."
   ]
  },
  {
   "cell_type": "code",
   "execution_count": null,
   "metadata": {},
   "outputs": [],
   "source": [
    "sns.boxplot(data = df, x = 'units_sold')"
   ]
  },
  {
   "attachments": {},
   "cell_type": "markdown",
   "metadata": {},
   "source": [
    "We remake the boxplot to show no more outliers."
   ]
  },
  {
   "cell_type": "code",
   "execution_count": null,
   "metadata": {},
   "outputs": [],
   "source": [
    "sns.scatterplot(data=df, x='units_sold',y='price_per_unit')"
   ]
  },
  {
   "attachments": {},
   "cell_type": "markdown",
   "metadata": {},
   "source": [
    "We create a scatterplot to see if we can further find outliers in price_per_unit or if the boxplot was just misdjuding due the data being skewed to the left."
   ]
  },
  {
   "cell_type": "code",
   "execution_count": null,
   "metadata": {},
   "outputs": [],
   "source": [
    "sns.lmplot(data=df, x='price_per_unit',y='units_sold', fit_reg=True)"
   ]
  },
  {
   "attachments": {},
   "cell_type": "markdown",
   "metadata": {},
   "source": [
    "We create a scatterplot with a line of best and a different orientation to see if we can further enhance the findings from the scatterplot."
   ]
  },
  {
   "cell_type": "code",
   "execution_count": null,
   "metadata": {},
   "outputs": [],
   "source": [
    "df[df['price_per_unit']>550]"
   ]
  },
  {
   "attachments": {},
   "cell_type": "markdown",
   "metadata": {},
   "source": [
    "Based on the two scatterplots and the boxplot there seems to be a cluster data from 300 to 550. However past 550 there are only a few datapoints. Therefore the conclusion is to isolate for indices greater than 550."
   ]
  },
  {
   "cell_type": "code",
   "execution_count": null,
   "metadata": {},
   "outputs": [],
   "source": [
    "df.drop(df[df['price_per_unit']>550].index, axis=0, inplace=True)"
   ]
  },
  {
   "attachments": {},
   "cell_type": "markdown",
   "metadata": {},
   "source": [
    "This conclusion seems much more reasonable than the number of outliers concluded from the sole analysis of the boxplot. Therefore we will use the drop function to permanaently drop any index above 550 using inplace=True to ensure it is permanent."
   ]
  },
  {
   "cell_type": "code",
   "execution_count": null,
   "metadata": {},
   "outputs": [],
   "source": [
    "sns.lmplot(data=df, x='price_per_unit',y='units_sold', fit_reg=True)"
   ]
  },
  {
   "attachments": {},
   "cell_type": "markdown",
   "metadata": {},
   "source": [
    "We reprint scatter plot with line of best fit to ensure the data looks good."
   ]
  },
  {
   "cell_type": "code",
   "execution_count": null,
   "metadata": {},
   "outputs": [],
   "source": [
    "df.info()"
   ]
  },
  {
   "attachments": {},
   "cell_type": "markdown",
   "metadata": {},
   "source": [
    "We run the info function to determine that we now have 799 entries. This means we have cleaned about 11 entries from the 810. In total we have cleaned 11+240=251 entries from the orignal data set of 1050 entries."
   ]
  },
  {
   "cell_type": "code",
   "execution_count": null,
   "metadata": {},
   "outputs": [],
   "source": [
    "df.describe(include='all')"
   ]
  },
  {
   "attachments": {},
   "cell_type": "markdown",
   "metadata": {},
   "source": [
    "Now that we have removed our outliers we can see that the units_sold mean has marginally changed from the initial 10.04 to 10.03. While the price_per_unit mean slightly decreased from the initial 107.59 to 98.03. We make a careful note that this was due to removing & filling missing data, dropping duplicates, removing outliers."
   ]
  },
  {
   "attachments": {},
   "cell_type": "markdown",
   "metadata": {},
   "source": [
    "# Step 2 Tranforming the data\n",
    "I will transform the data based on the following questions I want to answer. Then I will use the data to visualize the observations. These observations will take two categories. Firstly, the data of summary statistics will be organized and visualized to figure out the big-picture decisions on a department-wide and regional sales level. Secondly, specific product-by-region recommendations will be made according to the recommendation matrix to find the specific fixes for the sales performance of products on department-wide and regional sales levels. The table is located in the attached microsoft document.\n"
   ]
  },
  {
   "cell_type": "code",
   "execution_count": null,
   "metadata": {},
   "outputs": [],
   "source": [
    "print(df['product_sku'].unique())"
   ]
  },
  {
   "attachments": {},
   "cell_type": "markdown",
   "metadata": {},
   "source": [
    "Firstly I want to prepare the data so that the labels are shorter and that they can be sorted numerically so I am going to print a unique list of product_sku."
   ]
  },
  {
   "cell_type": "code",
   "execution_count": null,
   "metadata": {},
   "outputs": [],
   "source": [
    "\n",
    "df = df.replace(['Product_46', 'Product_36', 'Product_17', 'Product_45', 'Product_31',\n",
    " 'Product_18', 'Product_16', 'Product_9', 'Product_20', 'Product_1',\n",
    " 'Product_2', 'Product_3', 'Product_43', 'Product_33', 'Product_14',\n",
    " 'Product_50', 'Product_6', 'Product_13', 'Product_11', 'Product_27',\n",
    " 'Product_28', 'Product_24', 'Product_34', 'Product_25', 'Product_4',\n",
    " 'Product_48', 'Product_10', 'Product_49', 'Product_12', 'Product_42',\n",
    " 'Product_5', 'Product_26', 'Product_8', 'Product_37', 'Product_22',\n",
    " 'Product_32', 'Product_23', 'Product_35', 'Product_15', 'Product_29',\n",
    " 'Product_44', 'Product_47', 'Product_41', 'Product_39', 'Product_30',\n",
    " 'Product_40', 'Product_21', 'Product_38', 'Product_19', 'Product_7'], [46, 36, 17, 45, 31,\n",
    " 18, 16, 9, 20, 1,\n",
    " 2, 3, 43, 33, 14,\n",
    " 50, 6, 13, 11, 27,\n",
    " 28, 24, 34, 25, 4,\n",
    " 48, 10, 49, 12, 42,\n",
    " 5, 26, 8, 37, 22,\n",
    " 32, 23, 35, 15, 29,\n",
    " 44, 47, 41, 39, 30,\n",
    " 40, 21, 38, 19, 7]\n",
    ")\n",
    "\n",
    "df"
   ]
  },
  {
   "attachments": {},
   "cell_type": "markdown",
   "metadata": {},
   "source": [
    "Then I am going to replace the string Product_#X with the integer #X."
   ]
  },
  {
   "cell_type": "code",
   "execution_count": null,
   "metadata": {},
   "outputs": [],
   "source": [
    "df.sort_values(by=['product_sku'], ascending=True,inplace=True)\n",
    "df"
   ]
  },
  {
   "attachments": {},
   "cell_type": "markdown",
   "metadata": {},
   "source": [
    "Then I am going to sort by product_sku."
   ]
  },
  {
   "cell_type": "code",
   "execution_count": null,
   "metadata": {},
   "outputs": [],
   "source": [
    "print(df['region'].unique())"
   ]
  },
  {
   "attachments": {},
   "cell_type": "markdown",
   "metadata": {},
   "source": [
    "I am going to do the same with the labels for Region starting printing a list of unique values."
   ]
  },
  {
   "cell_type": "code",
   "execution_count": null,
   "metadata": {},
   "outputs": [],
   "source": [
    "df = df.replace(['Region_3', 'Region_1', 'Region_6', 'Region_7', 'Region_9', 'Region_2',\n",
    " 'Region_4', 'Region_5', 'Region_8', 'Region_10'], [3, 1, 6, 7, 9, 2,\n",
    " 4, 5, 8, 10] \n",
    ")\n",
    "df"
   ]
  },
  {
   "attachments": {},
   "cell_type": "markdown",
   "metadata": {},
   "source": [
    "I am replacing the string Region_#X with the integer #X."
   ]
  },
  {
   "cell_type": "code",
   "execution_count": null,
   "metadata": {},
   "outputs": [],
   "source": [
    "df.sort_values(by=['region'], ascending=True,inplace=True)\n",
    "df"
   ]
  },
  {
   "attachments": {},
   "cell_type": "markdown",
   "metadata": {},
   "source": [
    "Then I am going to sort by region."
   ]
  },
  {
   "cell_type": "code",
   "execution_count": null,
   "metadata": {},
   "outputs": [],
   "source": [
    "columns_titles = [\"region\",\"product_sku\",\"price_per_unit\",\"units_sold\",\"sale_date\"]\n",
    "df=df.reindex(columns=columns_titles)\n",
    "df"
   ]
  },
  {
   "attachments": {},
   "cell_type": "markdown",
   "metadata": {},
   "source": [
    "I decided that for my analysis it would better to have region first so I reindexed the columns accordingly."
   ]
  },
  {
   "cell_type": "code",
   "execution_count": null,
   "metadata": {},
   "outputs": [],
   "source": [
    "print(df.groupby('product_sku')['units_sold'].mean())"
   ]
  },
  {
   "cell_type": "code",
   "execution_count": null,
   "metadata": {},
   "outputs": [],
   "source": [
    "df['year_sold'] = pd.DatetimeIndex(df['sale_date']).year\n",
    "df['month_sold'] = pd.DatetimeIndex(df['sale_date']).month\n",
    "df['quarter_sold'] = pd.DatetimeIndex(df['sale_date']).quarter\n",
    "df['sales_revenue'] = df['units_sold'] * df['price_per_unit']\n",
    "df['CW_units_sold'] = df.groupby('product_sku')['units_sold'].transform('mean')\n",
    "df['CW_price_per_unit'] = df.groupby('product_sku')['price_per_unit'].transform('mean')\n",
    "df['CW_sales_revenue'] = df.groupby('product_sku')['sales_revenue'].transform('mean')\n",
    "df['Dif_sales_revenue'] = (df['sales_revenue']- df['CW_sales_revenue'])/df['CW_sales_revenue']\n",
    "df['Dif_price_per_unit'] = (df['price_per_unit']- df['CW_price_per_unit'])/df['CW_price_per_unit']\n",
    "df['Dif_units_sold'] = (df['units_sold']- df['CW_units_sold'])/df['CW_units_sold']\n",
    "\n",
    "\n",
    "\n",
    "df\n"
   ]
  },
  {
   "attachments": {},
   "cell_type": "markdown",
   "metadata": {},
   "source": [
    "The above columns will help me answer my questions in the big picture statistical summary and the detailed product by region recommendation.\n",
    "The year_sold, month_sold, quarter_sold will help me output summary statistics grouped by a certain time period (year, month, and season/quarter).\n",
    "The columns with the prefix CW are the company-wide averages of units_sold, price_per_unit, and sales_revenue.\n",
    "The columns with the prefix Dif are the differential statistics based on much greater or less the units_sold, price_per_unit, and sales_revenue are to the CW versions in decimals.\n",
    "The columns with the prefix mtr are the boolean operators to determine which scenario each sale falls into based on units_sold, sales_revenue, and price_per_unit. To create these columns I created a variable called conditions. Then I stated one condition if the differential is greater than zero to return the value \"High\", if equal to zero then return the value \"Avg\", and if less than zero to return the value \"low\" in the next condition. as specified in the matrix table attached."
   ]
  },
  {
   "attachments": {},
   "cell_type": "markdown",
   "metadata": {},
   "source": [
    "# Step 3a: For the VP of sales, I plan to answer to following questions by extracting observations and providing recommendations for the business:\n",
    "\n",
    "What is the overall performance of the company over the three years of data?\n",
    "What quarter does the company have best/worst sales?\n",
    "What was the company’s highest and lowest month?\n",
    "What was the max and min sales for each year?\n",
    "\n"
   ]
  },
  {
   "cell_type": "code",
   "execution_count": 540,
   "metadata": {},
   "outputs": [
    {
     "data": {
      "text/plain": [
       "<Axes: xlabel='year_sold', ylabel='sales_revenue'>"
      ]
     },
     "execution_count": 540,
     "metadata": {},
     "output_type": "execute_result"
    },
    {
     "data": {
      "image/png": "[encoded data removed]",
      "text/plain": [
       "<Figure size 640x480 with 1 Axes>"
      ]
     },
     "metadata": {},
     "output_type": "display_data"
    }
   ],
   "source": [
    "sns.barplot(x='year_sold',y='sales_revenue',data=df, estimator=sum, errorbar=None)\n"
   ]
  },
  {
   "attachments": {},
   "cell_type": "markdown",
   "metadata": {},
   "source": [
    "What is the overall performance of the company over the three years of data?\n",
    "\n",
    "As shown by the data it is difficult so visualize from the barchart of the total revenue to see which year is performing the best. Note that 2024 data only goes up until the third quarter as it ends in September. Looking at the numerical values might help answer this question."
   ]
  },
  {
   "cell_type": "code",
   "execution_count": 542,
   "metadata": {},
   "outputs": [
    {
     "data": {
      "text/plain": [
       "<Axes: xlabel='quarter_sold', ylabel='sales_revenue'>"
      ]
     },
     "execution_count": 542,
     "metadata": {},
     "output_type": "execute_result"
    },
    {
     "data": {
      "image/png": "[encoded data removed]",
      "text/plain": [
       "<Figure size 640x480 with 1 Axes>"
      ]
     },
     "metadata": {},
     "output_type": "display_data"
    }
   ],
   "source": [
    "sns.barplot(x='quarter_sold',y='sales_revenue',data=df, errorbar=None)\n"
   ]
  },
  {
   "attachments": {},
   "cell_type": "markdown",
   "metadata": {},
   "source": [
    "What quarter does the company have best/worst sales?\n",
    "\n",
    "Since the data from quarter 4 are missing in 2024. The average was used instead of the sum. This shows that the best quarter is quarter 4. This is important it shows that the last quarter might cause a rush as managers might be scrambling to increase sales as managers want to meet their bonuses. On the other hand the first quarter is the worst on average which demonstrates that after the end of the year sales managers might be relaxed for the first quarter of the new year. The VP of Sales should look into creating bonuses per quarter so regional sales managers are incentived throughout the entire year. However it is important to look into whether this is because sales managers being lax or just due to the holiday season. Typically ecommerce companies have a surge of sales during the Christmas season and then during January very few people are purchasing. Therfore, before deciding on implementing quarterly bonuses the gap between q1 and q4 should invesetigated further to see if it caused by managers or seasonality."
   ]
  },
  {
   "cell_type": "code",
   "execution_count": 544,
   "metadata": {},
   "outputs": [
    {
     "data": {
      "text/plain": [
       "<Axes: xlabel='month_sold', ylabel='sales_revenue'>"
      ]
     },
     "execution_count": 544,
     "metadata": {},
     "output_type": "execute_result"
    },
    {
     "data": {
      "image/png": "[encoded data removed]",
      "text/plain": [
       "<Figure size 640x480 with 1 Axes>"
      ]
     },
     "metadata": {},
     "output_type": "display_data"
    }
   ],
   "source": [
    "sns.barplot(x='month_sold',y='sales_revenue',data=df, errorbar=None)\n"
   ]
  },
  {
   "attachments": {},
   "cell_type": "markdown",
   "metadata": {},
   "source": [
    "What was the company’s highest and lowest month?\n",
    "\n",
    "This graph visualizes the average sales revenue by month. The top 3 months are July, October, and December. This explains in the previous result why Q4 is the most successful as it has 2 of the top 3 months. The bottom fourr months are September, Jaunary, February, and May. This explains why Q1 is the lowest as it has 2 of the worst months. This again demonstrates the seasonal trend for company. However data from q4 2024 is not included. One recommendation for the VP of Sales might be to employ department wide promotions on the bottom 4 months. This might help increase units_sold although a lower price_per_unit."
   ]
  },
  {
   "cell_type": "code",
   "execution_count": 548,
   "metadata": {},
   "outputs": [
    {
     "name": "stdout",
     "output_type": "stream",
     "text": [
      "The max sale for 2022 was 5855.360000000001\n",
      "The min sale for 2022 was 2.2\n",
      "The max sale for 2023 was 5555.11\n",
      "The min sale for 2023 was 0.99\n",
      "The max sale for 2024 was 5100.6\n",
      "The min sale for 2024 was 14.170000000000002\n"
     ]
    }
   ],
   "source": [
    "df_2022 = df[df[\"year_sold\"]==2022]\n",
    "df_2022\n",
    "print(\"The max sale for 2022 was \" + str(df_2022['sales_revenue'].max()))\n",
    "print(\"The min sale for 2022 was \" + str(df_2022['sales_revenue'].min()))\n",
    "\n",
    "df_2023 = df[df[\"year_sold\"]==2023]\n",
    "df_2023\n",
    "print(\"The max sale for 2023 was \" + str(df_2023['sales_revenue'].max()))\n",
    "print(\"The min sale for 2023 was \"+ str(df_2023['sales_revenue'].min()))\n",
    "\n",
    "df_2024 = df[df[\"year_sold\"]==2024]\n",
    "df_2024\n",
    "print(\"The max sale for 2024 was \" + str(df_2024['sales_revenue'].max()))\n",
    "print(\"The min sale for 2024 was \" + str(df_2024['sales_revenue'].min()))"
   ]
  },
  {
   "attachments": {},
   "cell_type": "markdown",
   "metadata": {},
   "source": [
    "What was the max and min sales for each year?\n",
    "\n",
    "The above cell outputs the min and max sale. This reveals some interesting data as their are some abnormally high sales and low sales. For example the min sales in 2023 is less than a dollar which means that price_per_unit was abnormlly low. This should be investigated as it shows that there is no standard guideline for how much discounts are allowed per product. The regional managers are completely out of wack when it comes to charging prices. There needs to be a standard set by the Vice President of Sales at least for a mininum price for each product as this would ensure that the company maeks a profit on each sale. This holds true as unless the 0.99 sale revenue in 2023 and the 2.2 sale revenue in 2022 were a clearance sale it is unlikely that there was a return on investment for those sales.  "
   ]
  },
  {
   "cell_type": "code",
   "execution_count": 554,
   "metadata": {},
   "outputs": [
    {
     "name": "stdout",
     "output_type": "stream",
     "text": [
      "The total sales for Q1 2022 was 54715.520422832975\n",
      "The total sales for Q2 2022 was 59691.78164904862\n",
      "The total sales for Q3 2022 was 78426.14697674419\n",
      "The total sales for Q4 2022 was 87867.13570824525\n",
      "The total sales for Q1 2023 was 65823.15940803383\n",
      "The total sales for Q2 2023 was 70671.76143763213\n",
      "The total sales for Q3 2023 was 75156.08617336152\n",
      "The total sales for Q4 2023 was 68580.46644820296\n",
      "The total sales for Q1 2024 was 73894.73274841438\n",
      "The total sales for Q2 2024 was 69174.29687103594\n",
      "The total sales for Q3 2024 was 73161.15659619455\n",
      "The total sales for Q4 2024 was 0.0\n"
     ]
    }
   ],
   "source": [
    "df_2022_q1 = df[(df[\"year_sold\"]==2022) & (df[\"quarter_sold\"]==1)]\n",
    "df_2022_q2 = df[(df[\"year_sold\"]==2022) & (df[\"quarter_sold\"]==2)]\n",
    "df_2022_q3 = df[(df[\"year_sold\"]==2022) & (df[\"quarter_sold\"]==3)]\n",
    "df_2022_q4 = df[(df[\"year_sold\"]==2022) & (df[\"quarter_sold\"]==4)]\n",
    "print(\"The total sales for Q1 2022 was \" + str(df_2022_q1['sales_revenue'].sum()))\n",
    "print(\"The total sales for Q2 2022 was \" + str(df_2022_q2['sales_revenue'].sum()))\n",
    "print(\"The total sales for Q3 2022 was \" + str(df_2022_q3['sales_revenue'].sum()))\n",
    "print(\"The total sales for Q4 2022 was \" + str(df_2022_q4['sales_revenue'].sum()))\n",
    "\n",
    "\n",
    "df_2023_q1 = df[(df[\"year_sold\"]==2023) & (df[\"quarter_sold\"]==1)]\n",
    "df_2023_q2 = df[(df[\"year_sold\"]==2023) & (df[\"quarter_sold\"]==2)]\n",
    "df_2023_q3 = df[(df[\"year_sold\"]==2023) & (df[\"quarter_sold\"]==3)]\n",
    "df_2023_q4 = df[(df[\"year_sold\"]==2023) & (df[\"quarter_sold\"]==4)]\n",
    "print(\"The total sales for Q1 2023 was \" + str(df_2023_q1['sales_revenue'].sum()))\n",
    "print(\"The total sales for Q2 2023 was \" + str(df_2023_q2['sales_revenue'].sum()))\n",
    "print(\"The total sales for Q3 2023 was \" + str(df_2023_q3['sales_revenue'].sum()))\n",
    "print(\"The total sales for Q4 2023 was \" + str(df_2023_q4['sales_revenue'].sum()))\n",
    "\n",
    "df_2024_q1 = df[(df[\"year_sold\"]==2024) & (df[\"quarter_sold\"]==1)]\n",
    "df_2024_q2 = df[(df[\"year_sold\"]==2024) & (df[\"quarter_sold\"]==2)]\n",
    "df_2024_q3 = df[(df[\"year_sold\"]==2024) & (df[\"quarter_sold\"]==3)]\n",
    "df_2024_q4 = df[(df[\"year_sold\"]==2024) & (df[\"quarter_sold\"]==4)]\n",
    "print(\"The total sales for Q1 2024 was \" + str(df_2024_q1['sales_revenue'].sum()))\n",
    "print(\"The total sales for Q2 2024 was \" + str(df_2024_q2['sales_revenue'].sum()))\n",
    "print(\"The total sales for Q3 2024 was \" + str(df_2024_q3['sales_revenue'].sum()))\n",
    "print(\"The total sales for Q4 2024 was \" + str(df_2024_q4['sales_revenue'].sum()))\n",
    "\n",
    "\n",
    "\n"
   ]
  },
  {
   "attachments": {},
   "cell_type": "markdown",
   "metadata": {},
   "source": [
    "What quarter does the company have best/worst sales?\n",
    "\n",
    "This question was already answered with a visualization. However a recommendation of addng bonsuses per quarter to motivate managers was suggested.\n",
    "\n",
    "For 2022 Q4 had the highest sales. For 2023 Q3 had the highest sales. For 2024 noting missing Q4 Q1 had the highest sales.\n",
    "\n",
    "Depedning on how the data for Q4 turns it it seems that the highest sales are concentrated in Q3 and Q4. This would support the decision to have a quarterly bonus so the VP of sales can motivate the regional sales managers throughout the year."
   ]
  },
  {
   "cell_type": "code",
   "execution_count": 559,
   "metadata": {},
   "outputs": [
    {
     "name": "stdout",
     "output_type": "stream",
     "text": [
      "The total sales for 2022 was 280700.58475687105\n",
      "The total sales for 2023 was 280231.47346723045\n",
      "The total sales for 2024 was 216230.18621564482\n",
      "78223.8010782241\n",
      "If the company perfomrs at their average sales for the past two years they will surpass 2023 sales with a 2024 total of 294453.9872938689\n"
     ]
    }
   ],
   "source": [
    "print(\"The total sales for 2022 was \" + str(df_2022['sales_revenue'].sum()))\n",
    "print(\"The total sales for 2023 was \" + str(df_2023['sales_revenue'].sum()))\n",
    "print(\"The total sales for 2024 was \" + str(df_2024['sales_revenue'].sum()))\n",
    "\n",
    "x= (df_2022_q4['sales_revenue'].sum() + df_2023_q4['sales_revenue'].sum())/2\n",
    "print(x)\n",
    "print(\"If the company perfomrs at their average sales for the past two years they will surpass 2023 sales with a 2024 total of \" + \n",
    "      str(x + df_2024['sales_revenue'].sum()))"
   ]
  },
  {
   "attachments": {},
   "cell_type": "markdown",
   "metadata": {},
   "source": [
    "What is the overall performance of the company over the three years of data?\n",
    "\n",
    "Earlier a visualization was used to attempt to answer this question. It was unclear because the first two datapoints were so close and the 2024 datapoint was much lower so the visualization scale was not able to demonstrate it properly. So the numeric data shows that sales decreased from 2022 to 2023 which shows a slight dip in performance. This means the changes the VP of Sales made in 2023 caused a dip in sales. The VP of sales should review department wide and regional sales strategy implemented in the calendar to see what caused the dip in sals.  However if their quarter 4 remains on track based on the average of the past two years they will surpass their performance. If they are able to surpass their performance it indicates the strategy changes they made in the 2024 calendar year were successful. However, if they are unable to surpass their performance it indicates that they still need to revise their sales strategy to remain competitive in the ecommerce industry."
   ]
  },
  {
   "attachments": {},
   "cell_type": "markdown",
   "metadata": {},
   "source": [
    "# Step 3b: Which region has the most sales revenue and which has the least sales revenue?\n",
    "\n",
    "This will be done by creating a sales revenue column by multiplying the price by the units sold.\n",
    "\n",
    "Then I will output a bar chart to show the sales revenue by region sorted from least to greatest for each year. \n",
    "\n",
    "This will help identify the strategy for the VP of which key regions to target for the next year and which regions to pull back from. Also, to identify which regional managers to reward and which regional managers need more assistance and training.\n"
   ]
  },
  {
   "cell_type": "code",
   "execution_count": 561,
   "metadata": {},
   "outputs": [
    {
     "data": {
      "text/plain": [
       "<Axes: xlabel='region', ylabel='sales_revenue'>"
      ]
     },
     "execution_count": 561,
     "metadata": {},
     "output_type": "execute_result"
    },
    {
     "data": {
      "image/png": "[encoded data removed]",
      "text/plain": [
       "<Figure size 640x480 with 1 Axes>"
      ]
     },
     "metadata": {},
     "output_type": "display_data"
    }
   ],
   "source": [
    "sns.barplot(x='region',y='sales_revenue',data=df, errorbar=None)\n"
   ]
  },
  {
   "attachments": {},
   "cell_type": "markdown",
   "metadata": {},
   "source": [
    "Overall performance demonstrating the average of sales revenue of each region for each year.\n",
    "The top three regions based on average sales performance over the 2 years and 3 quarters of data is region 2, region 8 and region 9. The bottom three regions based on average sales performance over the 2 years and 3 quarters of data is region 3, region 6 and region 7.\n",
    "\n",
    "This shows that the VP should target the top 3 regions as they have generated the most sales overall. The VP should also focus on phasing out operations from the bottom 3 regions. \n",
    "\n"
   ]
  },
  {
   "cell_type": "code",
   "execution_count": 562,
   "metadata": {},
   "outputs": [
    {
     "data": {
      "text/plain": [
       "<Axes: xlabel='region', ylabel='sales_revenue'>"
      ]
     },
     "execution_count": 562,
     "metadata": {},
     "output_type": "execute_result"
    },
    {
     "data": {
      "image/png": "[encoded data removed]",
      "text/plain": [
       "<Figure size 640x480 with 1 Axes>"
      ]
     },
     "metadata": {},
     "output_type": "display_data"
    }
   ],
   "source": [
    "sns.barplot(x='region',y='sales_revenue',data=df_2022, estimator=sum, errorbar=None)\n"
   ]
  },
  {
   "attachments": {},
   "cell_type": "markdown",
   "metadata": {},
   "source": [
    "The manager performance will be evaluated by the sum of sales revenue for each year. This chart outputs those values 2022. The top performing regions are region 2, region 9, and region 4. This shows that these managers brought in the most sales that year. These managers should have been rewarded for conributing a lot to the company's sales revenue in 2022. On the oher hand region 3, reigon 5, and region 10 are the lowest in terms of sales revenue in 2022. This should be dealt with by offering traininng, incentives, and support to these managers so that they perform better in the future."
   ]
  },
  {
   "cell_type": "code",
   "execution_count": 563,
   "metadata": {},
   "outputs": [
    {
     "data": {
      "text/plain": [
       "<Axes: xlabel='region', ylabel='sales_revenue'>"
      ]
     },
     "execution_count": 563,
     "metadata": {},
     "output_type": "execute_result"
    },
    {
     "data": {
      "image/png": "[encoded data removed]",
      "text/plain": [
       "<Figure size 640x480 with 1 Axes>"
      ]
     },
     "metadata": {},
     "output_type": "display_data"
    }
   ],
   "source": [
    "sns.barplot(x='region',y='sales_revenue',data=df_2023, estimator=sum, errorbar=None)\n"
   ]
  },
  {
   "attachments": {},
   "cell_type": "markdown",
   "metadata": {},
   "source": [
    "The manager performance will be evaluated by the sum of sales revenue for each year. This chart outputs those values 2023. According to the previous analysis conducted in part 3a there was a dip in sales from 2022 to 2023. This graph gives context as to what happenened region wise. Firstly yearly sales for region 1 dropped from approximatley 25000 in 20222 to 10000 in 2023. This has been the lowest sales_revenue so far. In addition the highest selling region, region 2, dropped from appoximately 39000 in sales_revenue to 27000.\n",
    "\n",
    "The top performing regions are region 5, region 10, and region 8 which means none of the top 3 from 2022 remained. This could indicate that region 5, 8 and 10 adpated to make changes based on their last years performance for the 2023 calendar year. Region 10 went from a bottom 3 contender to a top 3 which shows major improvement either in managment style or demand in that region. The VP of Sales should determine whether these regions improved in demand or management style so that he can use the best practices from their improvement as lessons for the other regional managers.\n",
    "\n",
    "On the flipside region 1, region 3, and region 7 are in the bottom 3. I think high attention needs to given from the VP of Sales into region 1 to discover the reason for the drop in sales. In addition, region 3 has been in the bottom two years in a row. At this point it might be time  for the VP of Sales to consider giving the regional sales manager in region 3 a performance review.\n"
   ]
  },
  {
   "cell_type": "code",
   "execution_count": 564,
   "metadata": {},
   "outputs": [
    {
     "data": {
      "text/plain": [
       "<Axes: xlabel='region', ylabel='sales_revenue'>"
      ]
     },
     "execution_count": 564,
     "metadata": {},
     "output_type": "execute_result"
    },
    {
     "data": {
      "image/png": "[encoded data removed]",
      "text/plain": [
       "<Figure size 640x480 with 1 Axes>"
      ]
     },
     "metadata": {},
     "output_type": "display_data"
    }
   ],
   "source": [
    "sns.barplot(x='region',y='sales_revenue',data=df_2024, estimator=sum, errorbar=None)\n"
   ]
  },
  {
   "attachments": {},
   "cell_type": "markdown",
   "metadata": {},
   "source": [
    "The manager performance will be evaluated by the sum of sales revenue for each year. This chart outputs those values 2024. Note that these values are missing due to Q4 2024 not being in the dataset.\n",
    "\n",
    "The top 3 from this year are region 1, region 8, and region 9. This is interesting as region 1 was in the bottom 3 with sales of 10,000 in 2023 to sales of just under 30,0000 in three quarters of 2024. The best practices from this improvement should be compared aganst the explanation of what went wrong in 2023 to compare notes. Interstingly enough region 8 has been in the top 3 twice in a row which is important as it demonstrates consistency. In addition, region 9 which was in the top 3 in 2022 and just shy of the top 3 in 2023 made it back in 2024. The VP Of sales staff shoul document the practicess that ensured these two regions to consistently produce sales_revenue should documented.\n",
    "\n",
    "On the flipside region 2, 5, and 7 are in bottom 3 as of year-to-date 2024. This is interesting as 2 was in the top 3 in 2022 yet slowly decreased to bottom 3 over the 2 years and 9 months. The reasons for region 2 decline should be documented by the VP of Sales staff to ensure this situation does not happen again. Furthemore, region 7 is also in the bottom 3 again showing no improvement. In addition, region 5 had a fall from grace like region 1 and 2 as t finds itself in the bottom 3. The reasons for the decline should be studieed by the VP os sales staff to ensure this does not happen again."
   ]
  },
  {
   "attachments": {},
   "cell_type": "markdown",
   "metadata": {},
   "source": [
    "# Step 3c Which product has the most sales revenue, and which has the least sales revenue?\n",
    "\n",
    "This will be done by creating a sales revenue column and multiplying the price by the units sold.\n",
    "\n",
    "Then I will output a bar chart to show the sales revenue by product from least to most lavish for each year.\n",
    "\n",
    "This will help identify the strategy for the VP of which essential products to target for the next year and which products to pull back from.\n",
    "\n",
    "The main insights from this data will be communicated in step 3d.\n"
   ]
  },
  {
   "cell_type": "code",
   "execution_count": 566,
   "metadata": {},
   "outputs": [
    {
     "data": {
      "image/png": "[encoded data removed]",
      "text/plain": [
       "<Figure size 640x480 with 1 Axes>"
      ]
     },
     "metadata": {},
     "output_type": "display_data"
    }
   ],
   "source": [
    "t = sns.barplot(x='product_sku',y='sales_revenue',data=df, estimator=sum, errorbar=None)\n",
    "t.tick_params(labelsize=5)\n"
   ]
  },
  {
   "cell_type": "code",
   "execution_count": 567,
   "metadata": {},
   "outputs": [
    {
     "data": {
      "image/png": "[encoded data removed]",
      "text/plain": [
       "<Figure size 640x480 with 1 Axes>"
      ]
     },
     "metadata": {},
     "output_type": "display_data"
    }
   ],
   "source": [
    "t = sns.barplot(x='product_sku',y='sales_revenue',data=df_2022, estimator=sum, errorbar=None)\n",
    "t.tick_params(labelsize=5)"
   ]
  },
  {
   "cell_type": "code",
   "execution_count": 568,
   "metadata": {},
   "outputs": [
    {
     "data": {
      "image/png": "[encoded data removed]",
      "text/plain": [
       "<Figure size 640x480 with 1 Axes>"
      ]
     },
     "metadata": {},
     "output_type": "display_data"
    }
   ],
   "source": [
    "t = sns.barplot(x='product_sku',y='sales_revenue',data=df_2023, estimator=sum, errorbar=None)\n",
    "t.tick_params(labelsize=5)"
   ]
  },
  {
   "cell_type": "code",
   "execution_count": 565,
   "metadata": {},
   "outputs": [
    {
     "data": {
      "image/png": "[encoded data removed]",
      "text/plain": [
       "<Figure size 640x480 with 1 Axes>"
      ]
     },
     "metadata": {},
     "output_type": "display_data"
    }
   ],
   "source": [
    "t = sns.barplot(x='product_sku',y='sales_revenue',data=df_2024, estimator=sum, errorbar=None)\n",
    "t.tick_params(labelsize=5)"
   ]
  },
  {
   "attachments": {},
   "cell_type": "markdown",
   "metadata": {},
   "source": [
    "# Step 3d Why are some products and regions doing better or worse regarding sales revenue?\n",
    "\n",
    "I plan to get more granular data for the Regional Sales Managers and the VP of Sales to create some specific recommendations.\n",
    "\n",
    "While answering the other questions will be simple, this question is more granular.\n",
    "\n",
    "This is because a product could be doing well. After all, it is popular among many regions, or it could be sold by regions that have a good sales strategy. On the other hand, a region could be doing well because it has a good sales strategy or because it has popular products.\n",
    "\n",
    "Firstly, we must determine which regions sell which products and display this data in a pivot table.\n",
    "\n",
    "Secondly, we need to analyze not only sales revenue to analyze the data on a units_sold and price_per_unit basis.\n",
    "\n",
    "Thirdly an average of each all regions sales_revenue, units_sold, and price_per_unit should be taken for each product. This should be outputted as Company Wide Average for Product_X sales_revenue, units_sold, price_per_unit for all products.\n",
    "\n",
    "Lastly a column for all regions compares to the average in terms of percentage (Region X sales_revenue for Product_X – Company Average sales revenue for Product_X divided by Company Average sales revenue for Product_X). This will be repeated for units_sold and price_per_unit for all products. This would create three differential statistics explaining whether a value was above or below the average. \n",
    "\n",
    "Further exploration could look into finding the standard deviations for all this data. Then dividing by the standard deviation could yield the z-score. This could return the probability. This could be used to calculate the likelihood of whether Product X in Region X has a unit price higher than $200. Furthermore, a confidence interval could be created to predict that the subsequent sale of Product X in Region X would be between a specific lower bound price and upper bound price to a Y% of confidence. \n",
    "\n",
    "There are 8 basic scenarios for the combination of the differential statistics. These scenarios along with the regional manager recommndations for each scenario along with the VP of Sales recommndation for each scenario are also listed on the document."
   ]
  },
  {
   "cell_type": "code",
   "execution_count": 569,
   "metadata": {},
   "outputs": [
    {
     "data": {
      "text/html": [
       "<div>\n",
       "<style scoped>\n",
       "    .dataframe tbody tr th:only-of-type {\n",
       "        vertical-align: middle;\n",
       "    }\n",
       "\n",
       "    .dataframe tbody tr th {\n",
       "        vertical-align: top;\n",
       "    }\n",
       "\n",
       "    .dataframe thead tr th {\n",
       "        text-align: left;\n",
       "    }\n",
       "\n",
       "    .dataframe thead tr:last-of-type th {\n",
       "        text-align: right;\n",
       "    }\n",
       "</style>\n",
       "<table border=\"1\" class=\"dataframe\">\n",
       "  <thead>\n",
       "    <tr>\n",
       "      <th></th>\n",
       "      <th colspan=\"10\" halign=\"left\">Dif_price_per_unit</th>\n",
       "      <th>...</th>\n",
       "      <th colspan=\"10\" halign=\"left\">Dif_units_sold</th>\n",
       "    </tr>\n",
       "    <tr>\n",
       "      <th>region</th>\n",
       "      <th>1</th>\n",
       "      <th>2</th>\n",
       "      <th>3</th>\n",
       "      <th>4</th>\n",
       "      <th>5</th>\n",
       "      <th>6</th>\n",
       "      <th>7</th>\n",
       "      <th>8</th>\n",
       "      <th>9</th>\n",
       "      <th>10</th>\n",
       "      <th>...</th>\n",
       "      <th>1</th>\n",
       "      <th>2</th>\n",
       "      <th>3</th>\n",
       "      <th>4</th>\n",
       "      <th>5</th>\n",
       "      <th>6</th>\n",
       "      <th>7</th>\n",
       "      <th>8</th>\n",
       "      <th>9</th>\n",
       "      <th>10</th>\n",
       "    </tr>\n",
       "    <tr>\n",
       "      <th>product_sku</th>\n",
       "      <th></th>\n",
       "      <th></th>\n",
       "      <th></th>\n",
       "      <th></th>\n",
       "      <th></th>\n",
       "      <th></th>\n",
       "      <th></th>\n",
       "      <th></th>\n",
       "      <th></th>\n",
       "      <th></th>\n",
       "      <th></th>\n",
       "      <th></th>\n",
       "      <th></th>\n",
       "      <th></th>\n",
       "      <th></th>\n",
       "      <th></th>\n",
       "      <th></th>\n",
       "      <th></th>\n",
       "      <th></th>\n",
       "      <th></th>\n",
       "      <th></th>\n",
       "    </tr>\n",
       "  </thead>\n",
       "  <tbody>\n",
       "    <tr>\n",
       "      <th>1</th>\n",
       "      <td>0.038431</td>\n",
       "      <td>-0.087647</td>\n",
       "      <td>1.262358</td>\n",
       "      <td>-0.357414</td>\n",
       "      <td>0.029756</td>\n",
       "      <td>-0.069515</td>\n",
       "      <td>NaN</td>\n",
       "      <td>-0.655096</td>\n",
       "      <td>-0.375154</td>\n",
       "      <td>0.153681</td>\n",
       "      <td>...</td>\n",
       "      <td>0.066845</td>\n",
       "      <td>0.016043</td>\n",
       "      <td>-0.085561</td>\n",
       "      <td>-0.161765</td>\n",
       "      <td>0.625668</td>\n",
       "      <td>-0.085561</td>\n",
       "      <td>NaN</td>\n",
       "      <td>0.117647</td>\n",
       "      <td>0.117647</td>\n",
       "      <td>-0.187166</td>\n",
       "    </tr>\n",
       "    <tr>\n",
       "      <th>2</th>\n",
       "      <td>-0.602890</td>\n",
       "      <td>0.447483</td>\n",
       "      <td>0.114073</td>\n",
       "      <td>0.692639</td>\n",
       "      <td>NaN</td>\n",
       "      <td>NaN</td>\n",
       "      <td>-0.378149</td>\n",
       "      <td>-0.788604</td>\n",
       "      <td>0.561471</td>\n",
       "      <td>-0.405821</td>\n",
       "      <td>...</td>\n",
       "      <td>0.336114</td>\n",
       "      <td>-0.192117</td>\n",
       "      <td>-0.471769</td>\n",
       "      <td>-0.112169</td>\n",
       "      <td>NaN</td>\n",
       "      <td>NaN</td>\n",
       "      <td>-0.347479</td>\n",
       "      <td>0.211825</td>\n",
       "      <td>0.258433</td>\n",
       "      <td>0.275480</td>\n",
       "    </tr>\n",
       "    <tr>\n",
       "      <th>3</th>\n",
       "      <td>NaN</td>\n",
       "      <td>0.001060</td>\n",
       "      <td>-0.728493</td>\n",
       "      <td>NaN</td>\n",
       "      <td>NaN</td>\n",
       "      <td>-0.990258</td>\n",
       "      <td>NaN</td>\n",
       "      <td>-0.663186</td>\n",
       "      <td>0.793272</td>\n",
       "      <td>NaN</td>\n",
       "      <td>...</td>\n",
       "      <td>NaN</td>\n",
       "      <td>0.466667</td>\n",
       "      <td>-0.733333</td>\n",
       "      <td>NaN</td>\n",
       "      <td>NaN</td>\n",
       "      <td>0.244444</td>\n",
       "      <td>NaN</td>\n",
       "      <td>0.155556</td>\n",
       "      <td>-0.200000</td>\n",
       "      <td>NaN</td>\n",
       "    </tr>\n",
       "    <tr>\n",
       "      <th>4</th>\n",
       "      <td>-0.905674</td>\n",
       "      <td>NaN</td>\n",
       "      <td>-0.020678</td>\n",
       "      <td>0.756579</td>\n",
       "      <td>-0.212037</td>\n",
       "      <td>NaN</td>\n",
       "      <td>-0.758811</td>\n",
       "      <td>-0.063782</td>\n",
       "      <td>0.403599</td>\n",
       "      <td>-0.549184</td>\n",
       "      <td>...</td>\n",
       "      <td>-0.350344</td>\n",
       "      <td>NaN</td>\n",
       "      <td>0.299311</td>\n",
       "      <td>-0.226600</td>\n",
       "      <td>0.022392</td>\n",
       "      <td>NaN</td>\n",
       "      <td>0.206504</td>\n",
       "      <td>-0.053359</td>\n",
       "      <td>0.113696</td>\n",
       "      <td>0.051824</td>\n",
       "    </tr>\n",
       "    <tr>\n",
       "      <th>5</th>\n",
       "      <td>-0.213357</td>\n",
       "      <td>-0.104139</td>\n",
       "      <td>0.957311</td>\n",
       "      <td>0.807180</td>\n",
       "      <td>0.292478</td>\n",
       "      <td>-0.585232</td>\n",
       "      <td>-0.784316</td>\n",
       "      <td>0.001424</td>\n",
       "      <td>1.269486</td>\n",
       "      <td>-0.038562</td>\n",
       "      <td>...</td>\n",
       "      <td>0.123634</td>\n",
       "      <td>-0.026184</td>\n",
       "      <td>-0.363274</td>\n",
       "      <td>0.235997</td>\n",
       "      <td>-0.213456</td>\n",
       "      <td>0.057309</td>\n",
       "      <td>-0.022541</td>\n",
       "      <td>0.030909</td>\n",
       "      <td>0.129098</td>\n",
       "      <td>0.129098</td>\n",
       "    </tr>\n",
       "    <tr>\n",
       "      <th>6</th>\n",
       "      <td>0.163561</td>\n",
       "      <td>-0.190106</td>\n",
       "      <td>NaN</td>\n",
       "      <td>-0.127095</td>\n",
       "      <td>3.013675</td>\n",
       "      <td>-0.431090</td>\n",
       "      <td>-0.202306</td>\n",
       "      <td>-0.681056</td>\n",
       "      <td>-0.807481</td>\n",
       "      <td>-0.025271</td>\n",
       "      <td>...</td>\n",
       "      <td>-0.194878</td>\n",
       "      <td>-0.426241</td>\n",
       "      <td>NaN</td>\n",
       "      <td>-0.080591</td>\n",
       "      <td>0.377021</td>\n",
       "      <td>-0.254114</td>\n",
       "      <td>-0.024610</td>\n",
       "      <td>0.153097</td>\n",
       "      <td>0.836028</td>\n",
       "      <td>0.262269</td>\n",
       "    </tr>\n",
       "    <tr>\n",
       "      <th>7</th>\n",
       "      <td>-0.244121</td>\n",
       "      <td>-0.484003</td>\n",
       "      <td>-0.459478</td>\n",
       "      <td>-0.478827</td>\n",
       "      <td>NaN</td>\n",
       "      <td>0.034218</td>\n",
       "      <td>-0.699119</td>\n",
       "      <td>2.041125</td>\n",
       "      <td>0.243287</td>\n",
       "      <td>1.732697</td>\n",
       "      <td>...</td>\n",
       "      <td>0.157534</td>\n",
       "      <td>-0.020548</td>\n",
       "      <td>0.068493</td>\n",
       "      <td>-0.168950</td>\n",
       "      <td>NaN</td>\n",
       "      <td>-0.465753</td>\n",
       "      <td>0.068493</td>\n",
       "      <td>-0.109589</td>\n",
       "      <td>0.513699</td>\n",
       "      <td>0.157534</td>\n",
       "    </tr>\n",
       "    <tr>\n",
       "      <th>8</th>\n",
       "      <td>NaN</td>\n",
       "      <td>NaN</td>\n",
       "      <td>NaN</td>\n",
       "      <td>-0.542491</td>\n",
       "      <td>NaN</td>\n",
       "      <td>-0.508963</td>\n",
       "      <td>-0.258345</td>\n",
       "      <td>0.481117</td>\n",
       "      <td>NaN</td>\n",
       "      <td>0.324768</td>\n",
       "      <td>...</td>\n",
       "      <td>NaN</td>\n",
       "      <td>NaN</td>\n",
       "      <td>NaN</td>\n",
       "      <td>0.289890</td>\n",
       "      <td>NaN</td>\n",
       "      <td>0.197755</td>\n",
       "      <td>-0.170785</td>\n",
       "      <td>-0.214612</td>\n",
       "      <td>NaN</td>\n",
       "      <td>-0.022473</td>\n",
       "    </tr>\n",
       "    <tr>\n",
       "      <th>9</th>\n",
       "      <td>-0.280121</td>\n",
       "      <td>2.331497</td>\n",
       "      <td>-0.054488</td>\n",
       "      <td>NaN</td>\n",
       "      <td>-0.650007</td>\n",
       "      <td>-0.800905</td>\n",
       "      <td>1.398981</td>\n",
       "      <td>0.505577</td>\n",
       "      <td>-0.968584</td>\n",
       "      <td>-0.081362</td>\n",
       "      <td>...</td>\n",
       "      <td>-0.080303</td>\n",
       "      <td>-0.356212</td>\n",
       "      <td>0.287575</td>\n",
       "      <td>NaN</td>\n",
       "      <td>0.149621</td>\n",
       "      <td>-0.075831</td>\n",
       "      <td>0.011666</td>\n",
       "      <td>-0.172273</td>\n",
       "      <td>-0.172273</td>\n",
       "      <td>-0.078067</td>\n",
       "    </tr>\n",
       "    <tr>\n",
       "      <th>10</th>\n",
       "      <td>0.230241</td>\n",
       "      <td>-0.078854</td>\n",
       "      <td>0.230241</td>\n",
       "      <td>-0.071034</td>\n",
       "      <td>3.590456</td>\n",
       "      <td>-0.553126</td>\n",
       "      <td>-0.469672</td>\n",
       "      <td>-0.645556</td>\n",
       "      <td>-0.431042</td>\n",
       "      <td>-0.797505</td>\n",
       "      <td>...</td>\n",
       "      <td>0.144304</td>\n",
       "      <td>0.408374</td>\n",
       "      <td>0.496398</td>\n",
       "      <td>0.202986</td>\n",
       "      <td>0.056281</td>\n",
       "      <td>0.232328</td>\n",
       "      <td>-0.383836</td>\n",
       "      <td>-0.119766</td>\n",
       "      <td>-0.323727</td>\n",
       "      <td>-0.471860</td>\n",
       "    </tr>\n",
       "    <tr>\n",
       "      <th>11</th>\n",
       "      <td>NaN</td>\n",
       "      <td>NaN</td>\n",
       "      <td>0.897485</td>\n",
       "      <td>NaN</td>\n",
       "      <td>0.292488</td>\n",
       "      <td>-0.252300</td>\n",
       "      <td>-0.431951</td>\n",
       "      <td>NaN</td>\n",
       "      <td>NaN</td>\n",
       "      <td>-0.878586</td>\n",
       "      <td>...</td>\n",
       "      <td>NaN</td>\n",
       "      <td>NaN</td>\n",
       "      <td>0.271042</td>\n",
       "      <td>NaN</td>\n",
       "      <td>-0.068312</td>\n",
       "      <td>-0.060379</td>\n",
       "      <td>0.271042</td>\n",
       "      <td>NaN</td>\n",
       "      <td>NaN</td>\n",
       "      <td>-0.087698</td>\n",
       "    </tr>\n",
       "    <tr>\n",
       "      <th>12</th>\n",
       "      <td>-0.624182</td>\n",
       "      <td>0.096821</td>\n",
       "      <td>-0.096810</td>\n",
       "      <td>NaN</td>\n",
       "      <td>-0.096810</td>\n",
       "      <td>-0.096810</td>\n",
       "      <td>NaN</td>\n",
       "      <td>-0.096810</td>\n",
       "      <td>1.022899</td>\n",
       "      <td>-0.377065</td>\n",
       "      <td>...</td>\n",
       "      <td>-0.214286</td>\n",
       "      <td>-0.312500</td>\n",
       "      <td>0.080357</td>\n",
       "      <td>NaN</td>\n",
       "      <td>-0.214286</td>\n",
       "      <td>0.178571</td>\n",
       "      <td>NaN</td>\n",
       "      <td>-0.312500</td>\n",
       "      <td>0.227679</td>\n",
       "      <td>0.113095</td>\n",
       "    </tr>\n",
       "    <tr>\n",
       "      <th>13</th>\n",
       "      <td>-0.509237</td>\n",
       "      <td>-0.920546</td>\n",
       "      <td>-0.141392</td>\n",
       "      <td>NaN</td>\n",
       "      <td>0.057628</td>\n",
       "      <td>-0.289118</td>\n",
       "      <td>0.009054</td>\n",
       "      <td>0.692820</td>\n",
       "      <td>0.175435</td>\n",
       "      <td>0.662013</td>\n",
       "      <td>...</td>\n",
       "      <td>0.129872</td>\n",
       "      <td>0.571996</td>\n",
       "      <td>-0.214002</td>\n",
       "      <td>NaN</td>\n",
       "      <td>-0.443251</td>\n",
       "      <td>0.204754</td>\n",
       "      <td>0.080747</td>\n",
       "      <td>-0.015114</td>\n",
       "      <td>-0.091190</td>\n",
       "      <td>-0.017502</td>\n",
       "    </tr>\n",
       "    <tr>\n",
       "      <th>14</th>\n",
       "      <td>-0.198728</td>\n",
       "      <td>-0.798202</td>\n",
       "      <td>NaN</td>\n",
       "      <td>NaN</td>\n",
       "      <td>-0.117570</td>\n",
       "      <td>-0.816233</td>\n",
       "      <td>0.550207</td>\n",
       "      <td>-0.084239</td>\n",
       "      <td>1.606191</td>\n",
       "      <td>-0.108690</td>\n",
       "      <td>...</td>\n",
       "      <td>-0.067271</td>\n",
       "      <td>-0.347090</td>\n",
       "      <td>NaN</td>\n",
       "      <td>NaN</td>\n",
       "      <td>-0.111640</td>\n",
       "      <td>-0.253817</td>\n",
       "      <td>-0.003578</td>\n",
       "      <td>0.026001</td>\n",
       "      <td>0.305820</td>\n",
       "      <td>0.305820</td>\n",
       "    </tr>\n",
       "    <tr>\n",
       "      <th>15</th>\n",
       "      <td>-0.580913</td>\n",
       "      <td>NaN</td>\n",
       "      <td>NaN</td>\n",
       "      <td>-0.003777</td>\n",
       "      <td>-0.195278</td>\n",
       "      <td>2.225632</td>\n",
       "      <td>-0.143071</td>\n",
       "      <td>-0.152540</td>\n",
       "      <td>-0.708964</td>\n",
       "      <td>-0.724923</td>\n",
       "      <td>...</td>\n",
       "      <td>0.174818</td>\n",
       "      <td>NaN</td>\n",
       "      <td>NaN</td>\n",
       "      <td>-0.064705</td>\n",
       "      <td>0.084448</td>\n",
       "      <td>-0.051108</td>\n",
       "      <td>0.265189</td>\n",
       "      <td>0.054324</td>\n",
       "      <td>0.129633</td>\n",
       "      <td>-0.367405</td>\n",
       "    </tr>\n",
       "    <tr>\n",
       "      <th>16</th>\n",
       "      <td>-0.990657</td>\n",
       "      <td>0.664893</td>\n",
       "      <td>-0.573180</td>\n",
       "      <td>3.215835</td>\n",
       "      <td>-0.603419</td>\n",
       "      <td>-0.694594</td>\n",
       "      <td>1.375221</td>\n",
       "      <td>0.039968</td>\n",
       "      <td>-0.050690</td>\n",
       "      <td>NaN</td>\n",
       "      <td>...</td>\n",
       "      <td>0.070270</td>\n",
       "      <td>0.264865</td>\n",
       "      <td>0.216216</td>\n",
       "      <td>0.264865</td>\n",
       "      <td>-0.085405</td>\n",
       "      <td>-0.318919</td>\n",
       "      <td>0.167568</td>\n",
       "      <td>-0.318919</td>\n",
       "      <td>-0.027027</td>\n",
       "      <td>NaN</td>\n",
       "    </tr>\n",
       "    <tr>\n",
       "      <th>17</th>\n",
       "      <td>-0.272064</td>\n",
       "      <td>-0.041734</td>\n",
       "      <td>-0.768313</td>\n",
       "      <td>-0.130199</td>\n",
       "      <td>0.571959</td>\n",
       "      <td>-0.250183</td>\n",
       "      <td>NaN</td>\n",
       "      <td>-0.731855</td>\n",
       "      <td>NaN</td>\n",
       "      <td>1.372340</td>\n",
       "      <td>...</td>\n",
       "      <td>-0.186664</td>\n",
       "      <td>0.220004</td>\n",
       "      <td>-0.084997</td>\n",
       "      <td>-0.017219</td>\n",
       "      <td>0.052207</td>\n",
       "      <td>0.050559</td>\n",
       "      <td>NaN</td>\n",
       "      <td>-0.118886</td>\n",
       "      <td>NaN</td>\n",
       "      <td>-0.034164</td>\n",
       "    </tr>\n",
       "    <tr>\n",
       "      <th>18</th>\n",
       "      <td>NaN</td>\n",
       "      <td>0.330661</td>\n",
       "      <td>-0.054667</td>\n",
       "      <td>-0.808755</td>\n",
       "      <td>0.082585</td>\n",
       "      <td>1.806266</td>\n",
       "      <td>-0.245861</td>\n",
       "      <td>-0.178035</td>\n",
       "      <td>-0.329792</td>\n",
       "      <td>NaN</td>\n",
       "      <td>...</td>\n",
       "      <td>NaN</td>\n",
       "      <td>-0.011091</td>\n",
       "      <td>0.148144</td>\n",
       "      <td>-0.114289</td>\n",
       "      <td>0.033330</td>\n",
       "      <td>0.180948</td>\n",
       "      <td>-0.212701</td>\n",
       "      <td>0.377773</td>\n",
       "      <td>-0.259515</td>\n",
       "      <td>NaN</td>\n",
       "    </tr>\n",
       "    <tr>\n",
       "      <th>19</th>\n",
       "      <td>-0.083152</td>\n",
       "      <td>0.225666</td>\n",
       "      <td>-0.569740</td>\n",
       "      <td>0.108111</td>\n",
       "      <td>NaN</td>\n",
       "      <td>0.447885</td>\n",
       "      <td>-0.512509</td>\n",
       "      <td>0.692547</td>\n",
       "      <td>-0.749809</td>\n",
       "      <td>-0.481102</td>\n",
       "      <td>...</td>\n",
       "      <td>0.293194</td>\n",
       "      <td>-0.104712</td>\n",
       "      <td>0.293194</td>\n",
       "      <td>-0.071553</td>\n",
       "      <td>NaN</td>\n",
       "      <td>0.027923</td>\n",
       "      <td>0.492147</td>\n",
       "      <td>-0.204188</td>\n",
       "      <td>-0.154450</td>\n",
       "      <td>-0.054974</td>\n",
       "    </tr>\n",
       "    <tr>\n",
       "      <th>20</th>\n",
       "      <td>-0.003555</td>\n",
       "      <td>0.290931</td>\n",
       "      <td>-0.150222</td>\n",
       "      <td>NaN</td>\n",
       "      <td>-0.122513</td>\n",
       "      <td>-0.463238</td>\n",
       "      <td>0.174724</td>\n",
       "      <td>NaN</td>\n",
       "      <td>1.163625</td>\n",
       "      <td>NaN</td>\n",
       "      <td>...</td>\n",
       "      <td>0.436862</td>\n",
       "      <td>-0.004242</td>\n",
       "      <td>-0.207249</td>\n",
       "      <td>NaN</td>\n",
       "      <td>0.040486</td>\n",
       "      <td>-0.108155</td>\n",
       "      <td>-0.108155</td>\n",
       "      <td>NaN</td>\n",
       "      <td>-0.004242</td>\n",
       "      <td>NaN</td>\n",
       "    </tr>\n",
       "    <tr>\n",
       "      <th>21</th>\n",
       "      <td>-0.143733</td>\n",
       "      <td>-0.735742</td>\n",
       "      <td>-0.394400</td>\n",
       "      <td>0.896297</td>\n",
       "      <td>0.184403</td>\n",
       "      <td>NaN</td>\n",
       "      <td>NaN</td>\n",
       "      <td>0.248141</td>\n",
       "      <td>0.152814</td>\n",
       "      <td>-0.344078</td>\n",
       "      <td>...</td>\n",
       "      <td>-0.177255</td>\n",
       "      <td>0.096993</td>\n",
       "      <td>-0.037908</td>\n",
       "      <td>-0.177255</td>\n",
       "      <td>0.098475</td>\n",
       "      <td>NaN</td>\n",
       "      <td>NaN</td>\n",
       "      <td>-0.081394</td>\n",
       "      <td>0.005577</td>\n",
       "      <td>0.279826</td>\n",
       "    </tr>\n",
       "    <tr>\n",
       "      <th>22</th>\n",
       "      <td>-0.033340</td>\n",
       "      <td>1.806409</td>\n",
       "      <td>NaN</td>\n",
       "      <td>-0.396486</td>\n",
       "      <td>NaN</td>\n",
       "      <td>NaN</td>\n",
       "      <td>NaN</td>\n",
       "      <td>-0.445683</td>\n",
       "      <td>-0.063874</td>\n",
       "      <td>-0.445942</td>\n",
       "      <td>...</td>\n",
       "      <td>0.195086</td>\n",
       "      <td>0.032479</td>\n",
       "      <td>NaN</td>\n",
       "      <td>-0.096629</td>\n",
       "      <td>NaN</td>\n",
       "      <td>NaN</td>\n",
       "      <td>NaN</td>\n",
       "      <td>0.047911</td>\n",
       "      <td>0.032479</td>\n",
       "      <td>-0.186966</td>\n",
       "    </tr>\n",
       "    <tr>\n",
       "      <th>23</th>\n",
       "      <td>NaN</td>\n",
       "      <td>0.781005</td>\n",
       "      <td>-0.367593</td>\n",
       "      <td>0.560927</td>\n",
       "      <td>-0.481735</td>\n",
       "      <td>NaN</td>\n",
       "      <td>-0.507125</td>\n",
       "      <td>0.974069</td>\n",
       "      <td>-0.962659</td>\n",
       "      <td>1.100478</td>\n",
       "      <td>...</td>\n",
       "      <td>NaN</td>\n",
       "      <td>-0.070293</td>\n",
       "      <td>-0.302720</td>\n",
       "      <td>0.022678</td>\n",
       "      <td>-0.006806</td>\n",
       "      <td>NaN</td>\n",
       "      <td>0.070293</td>\n",
       "      <td>0.162134</td>\n",
       "      <td>0.115648</td>\n",
       "      <td>0.022678</td>\n",
       "    </tr>\n",
       "    <tr>\n",
       "      <th>24</th>\n",
       "      <td>NaN</td>\n",
       "      <td>0.288458</td>\n",
       "      <td>NaN</td>\n",
       "      <td>-0.998043</td>\n",
       "      <td>1.558270</td>\n",
       "      <td>-0.415418</td>\n",
       "      <td>0.580853</td>\n",
       "      <td>-0.434228</td>\n",
       "      <td>0.053502</td>\n",
       "      <td>-0.207083</td>\n",
       "      <td>...</td>\n",
       "      <td>NaN</td>\n",
       "      <td>0.043934</td>\n",
       "      <td>NaN</td>\n",
       "      <td>-0.021312</td>\n",
       "      <td>-0.608525</td>\n",
       "      <td>-0.168115</td>\n",
       "      <td>0.565901</td>\n",
       "      <td>-0.263604</td>\n",
       "      <td>0.272295</td>\n",
       "      <td>0.125491</td>\n",
       "    </tr>\n",
       "    <tr>\n",
       "      <th>25</th>\n",
       "      <td>NaN</td>\n",
       "      <td>-0.070930</td>\n",
       "      <td>0.485397</td>\n",
       "      <td>-0.113741</td>\n",
       "      <td>0.381769</td>\n",
       "      <td>-0.609433</td>\n",
       "      <td>0.202857</td>\n",
       "      <td>0.895147</td>\n",
       "      <td>0.102268</td>\n",
       "      <td>-0.459093</td>\n",
       "      <td>...</td>\n",
       "      <td>NaN</td>\n",
       "      <td>0.062177</td>\n",
       "      <td>-0.256476</td>\n",
       "      <td>0.170117</td>\n",
       "      <td>-0.256476</td>\n",
       "      <td>-0.150258</td>\n",
       "      <td>-0.150258</td>\n",
       "      <td>0.699484</td>\n",
       "      <td>-0.150258</td>\n",
       "      <td>0.062177</td>\n",
       "    </tr>\n",
       "    <tr>\n",
       "      <th>26</th>\n",
       "      <td>NaN</td>\n",
       "      <td>0.254912</td>\n",
       "      <td>-0.253385</td>\n",
       "      <td>-0.640470</td>\n",
       "      <td>NaN</td>\n",
       "      <td>-0.204622</td>\n",
       "      <td>NaN</td>\n",
       "      <td>NaN</td>\n",
       "      <td>0.778530</td>\n",
       "      <td>0.820829</td>\n",
       "      <td>...</td>\n",
       "      <td>NaN</td>\n",
       "      <td>0.489362</td>\n",
       "      <td>0.010638</td>\n",
       "      <td>-0.007092</td>\n",
       "      <td>NaN</td>\n",
       "      <td>-0.361702</td>\n",
       "      <td>NaN</td>\n",
       "      <td>NaN</td>\n",
       "      <td>-0.042553</td>\n",
       "      <td>-0.042553</td>\n",
       "    </tr>\n",
       "    <tr>\n",
       "      <th>27</th>\n",
       "      <td>-0.571033</td>\n",
       "      <td>2.494382</td>\n",
       "      <td>-0.627302</td>\n",
       "      <td>0.300106</td>\n",
       "      <td>-0.039610</td>\n",
       "      <td>-0.435530</td>\n",
       "      <td>-0.558593</td>\n",
       "      <td>-0.791769</td>\n",
       "      <td>-0.290967</td>\n",
       "      <td>0.824895</td>\n",
       "      <td>...</td>\n",
       "      <td>-0.065772</td>\n",
       "      <td>0.301590</td>\n",
       "      <td>0.022678</td>\n",
       "      <td>-0.070293</td>\n",
       "      <td>0.270599</td>\n",
       "      <td>-0.256234</td>\n",
       "      <td>0.071423</td>\n",
       "      <td>-0.070293</td>\n",
       "      <td>-0.535147</td>\n",
       "      <td>-0.070293</td>\n",
       "    </tr>\n",
       "    <tr>\n",
       "      <th>28</th>\n",
       "      <td>NaN</td>\n",
       "      <td>NaN</td>\n",
       "      <td>0.154813</td>\n",
       "      <td>-0.496778</td>\n",
       "      <td>NaN</td>\n",
       "      <td>0.233964</td>\n",
       "      <td>NaN</td>\n",
       "      <td>0.100567</td>\n",
       "      <td>0.205719</td>\n",
       "      <td>-0.561364</td>\n",
       "      <td>...</td>\n",
       "      <td>NaN</td>\n",
       "      <td>NaN</td>\n",
       "      <td>-0.173314</td>\n",
       "      <td>-0.127182</td>\n",
       "      <td>NaN</td>\n",
       "      <td>0.293063</td>\n",
       "      <td>NaN</td>\n",
       "      <td>-0.321142</td>\n",
       "      <td>0.551676</td>\n",
       "      <td>0.163757</td>\n",
       "    </tr>\n",
       "    <tr>\n",
       "      <th>29</th>\n",
       "      <td>-0.195763</td>\n",
       "      <td>-0.024149</td>\n",
       "      <td>-0.614306</td>\n",
       "      <td>-0.258850</td>\n",
       "      <td>0.159549</td>\n",
       "      <td>-0.285748</td>\n",
       "      <td>-0.647561</td>\n",
       "      <td>-0.158433</td>\n",
       "      <td>0.136666</td>\n",
       "      <td>2.750985</td>\n",
       "      <td>...</td>\n",
       "      <td>-0.069745</td>\n",
       "      <td>-0.173107</td>\n",
       "      <td>-0.069745</td>\n",
       "      <td>0.038642</td>\n",
       "      <td>0.009032</td>\n",
       "      <td>0.038642</td>\n",
       "      <td>0.033616</td>\n",
       "      <td>0.136978</td>\n",
       "      <td>0.136978</td>\n",
       "      <td>-0.276469</td>\n",
       "    </tr>\n",
       "    <tr>\n",
       "      <th>30</th>\n",
       "      <td>0.355710</td>\n",
       "      <td>-0.706905</td>\n",
       "      <td>0.082567</td>\n",
       "      <td>-0.166366</td>\n",
       "      <td>NaN</td>\n",
       "      <td>-0.423734</td>\n",
       "      <td>-0.345663</td>\n",
       "      <td>0.198928</td>\n",
       "      <td>0.375276</td>\n",
       "      <td>-0.743872</td>\n",
       "      <td>...</td>\n",
       "      <td>-0.064376</td>\n",
       "      <td>-0.424949</td>\n",
       "      <td>0.055426</td>\n",
       "      <td>0.533471</td>\n",
       "      <td>NaN</td>\n",
       "      <td>0.341787</td>\n",
       "      <td>-0.006527</td>\n",
       "      <td>-0.036921</td>\n",
       "      <td>-0.073528</td>\n",
       "      <td>-0.137423</td>\n",
       "    </tr>\n",
       "    <tr>\n",
       "      <th>31</th>\n",
       "      <td>NaN</td>\n",
       "      <td>0.645156</td>\n",
       "      <td>-0.878196</td>\n",
       "      <td>0.367849</td>\n",
       "      <td>0.005746</td>\n",
       "      <td>-0.880798</td>\n",
       "      <td>0.856194</td>\n",
       "      <td>-0.323193</td>\n",
       "      <td>-0.647682</td>\n",
       "      <td>0.245577</td>\n",
       "      <td>...</td>\n",
       "      <td>NaN</td>\n",
       "      <td>0.100000</td>\n",
       "      <td>-0.050000</td>\n",
       "      <td>0.128571</td>\n",
       "      <td>-0.400000</td>\n",
       "      <td>-0.300000</td>\n",
       "      <td>-0.300000</td>\n",
       "      <td>0.050000</td>\n",
       "      <td>0.200000</td>\n",
       "      <td>0.000000</td>\n",
       "    </tr>\n",
       "    <tr>\n",
       "      <th>32</th>\n",
       "      <td>NaN</td>\n",
       "      <td>0.041862</td>\n",
       "      <td>-0.196793</td>\n",
       "      <td>0.577482</td>\n",
       "      <td>0.462197</td>\n",
       "      <td>NaN</td>\n",
       "      <td>-0.236260</td>\n",
       "      <td>-0.967952</td>\n",
       "      <td>-0.586638</td>\n",
       "      <td>-0.139003</td>\n",
       "      <td>...</td>\n",
       "      <td>NaN</td>\n",
       "      <td>-0.111111</td>\n",
       "      <td>0.111111</td>\n",
       "      <td>-0.148148</td>\n",
       "      <td>0.388889</td>\n",
       "      <td>NaN</td>\n",
       "      <td>-0.055556</td>\n",
       "      <td>-0.222222</td>\n",
       "      <td>-0.222222</td>\n",
       "      <td>0.055556</td>\n",
       "    </tr>\n",
       "    <tr>\n",
       "      <th>33</th>\n",
       "      <td>-0.426644</td>\n",
       "      <td>NaN</td>\n",
       "      <td>-0.037469</td>\n",
       "      <td>-0.091537</td>\n",
       "      <td>-0.939595</td>\n",
       "      <td>-0.148221</td>\n",
       "      <td>0.544318</td>\n",
       "      <td>0.093652</td>\n",
       "      <td>0.202385</td>\n",
       "      <td>0.087441</td>\n",
       "      <td>...</td>\n",
       "      <td>-0.026017</td>\n",
       "      <td>NaN</td>\n",
       "      <td>0.190423</td>\n",
       "      <td>-0.458899</td>\n",
       "      <td>-0.080127</td>\n",
       "      <td>-0.026017</td>\n",
       "      <td>-0.293937</td>\n",
       "      <td>0.334717</td>\n",
       "      <td>0.017271</td>\n",
       "      <td>0.001038</td>\n",
       "    </tr>\n",
       "    <tr>\n",
       "      <th>34</th>\n",
       "      <td>-0.303028</td>\n",
       "      <td>0.234143</td>\n",
       "      <td>-0.709908</td>\n",
       "      <td>-0.147380</td>\n",
       "      <td>NaN</td>\n",
       "      <td>-0.141333</td>\n",
       "      <td>NaN</td>\n",
       "      <td>NaN</td>\n",
       "      <td>0.733272</td>\n",
       "      <td>0.552293</td>\n",
       "      <td>...</td>\n",
       "      <td>-0.267446</td>\n",
       "      <td>0.204644</td>\n",
       "      <td>0.108553</td>\n",
       "      <td>-0.072098</td>\n",
       "      <td>NaN</td>\n",
       "      <td>-0.251167</td>\n",
       "      <td>NaN</td>\n",
       "      <td>NaN</td>\n",
       "      <td>0.041854</td>\n",
       "      <td>0.367434</td>\n",
       "    </tr>\n",
       "    <tr>\n",
       "      <th>35</th>\n",
       "      <td>0.889152</td>\n",
       "      <td>-0.608657</td>\n",
       "      <td>-0.942533</td>\n",
       "      <td>-0.108378</td>\n",
       "      <td>-0.651252</td>\n",
       "      <td>-0.410277</td>\n",
       "      <td>0.396094</td>\n",
       "      <td>0.014619</td>\n",
       "      <td>-0.435430</td>\n",
       "      <td>NaN</td>\n",
       "      <td>...</td>\n",
       "      <td>-0.087657</td>\n",
       "      <td>-0.291357</td>\n",
       "      <td>0.518520</td>\n",
       "      <td>0.113581</td>\n",
       "      <td>0.316051</td>\n",
       "      <td>0.012347</td>\n",
       "      <td>0.214816</td>\n",
       "      <td>-0.190123</td>\n",
       "      <td>-0.088888</td>\n",
       "      <td>NaN</td>\n",
       "    </tr>\n",
       "    <tr>\n",
       "      <th>36</th>\n",
       "      <td>-0.193807</td>\n",
       "      <td>0.443762</td>\n",
       "      <td>0.406048</td>\n",
       "      <td>-0.471282</td>\n",
       "      <td>-0.309064</td>\n",
       "      <td>-0.565929</td>\n",
       "      <td>NaN</td>\n",
       "      <td>NaN</td>\n",
       "      <td>-0.913693</td>\n",
       "      <td>1.257026</td>\n",
       "      <td>...</td>\n",
       "      <td>-0.000900</td>\n",
       "      <td>-0.000900</td>\n",
       "      <td>0.223822</td>\n",
       "      <td>-0.555955</td>\n",
       "      <td>0.057305</td>\n",
       "      <td>0.110111</td>\n",
       "      <td>NaN</td>\n",
       "      <td>NaN</td>\n",
       "      <td>-0.222922</td>\n",
       "      <td>0.110111</td>\n",
       "    </tr>\n",
       "    <tr>\n",
       "      <th>37</th>\n",
       "      <td>0.118284</td>\n",
       "      <td>NaN</td>\n",
       "      <td>-0.135449</td>\n",
       "      <td>1.286806</td>\n",
       "      <td>-0.396319</td>\n",
       "      <td>-0.928185</td>\n",
       "      <td>-0.021252</td>\n",
       "      <td>0.038031</td>\n",
       "      <td>-0.055224</td>\n",
       "      <td>-0.400413</td>\n",
       "      <td>...</td>\n",
       "      <td>0.126176</td>\n",
       "      <td>NaN</td>\n",
       "      <td>0.023796</td>\n",
       "      <td>0.228556</td>\n",
       "      <td>-0.232153</td>\n",
       "      <td>0.228556</td>\n",
       "      <td>-0.078583</td>\n",
       "      <td>-0.001798</td>\n",
       "      <td>0.025456</td>\n",
       "      <td>-0.180963</td>\n",
       "    </tr>\n",
       "    <tr>\n",
       "      <th>38</th>\n",
       "      <td>NaN</td>\n",
       "      <td>2.520521</td>\n",
       "      <td>-0.581775</td>\n",
       "      <td>NaN</td>\n",
       "      <td>-0.393418</td>\n",
       "      <td>NaN</td>\n",
       "      <td>NaN</td>\n",
       "      <td>-0.540808</td>\n",
       "      <td>0.364690</td>\n",
       "      <td>-0.541621</td>\n",
       "      <td>...</td>\n",
       "      <td>NaN</td>\n",
       "      <td>0.066954</td>\n",
       "      <td>-0.038012</td>\n",
       "      <td>NaN</td>\n",
       "      <td>0.013606</td>\n",
       "      <td>NaN</td>\n",
       "      <td>NaN</td>\n",
       "      <td>0.072142</td>\n",
       "      <td>0.066954</td>\n",
       "      <td>-0.253132</td>\n",
       "    </tr>\n",
       "    <tr>\n",
       "      <th>39</th>\n",
       "      <td>-0.358628</td>\n",
       "      <td>0.471860</td>\n",
       "      <td>-0.801500</td>\n",
       "      <td>1.000578</td>\n",
       "      <td>-0.961725</td>\n",
       "      <td>0.012519</td>\n",
       "      <td>NaN</td>\n",
       "      <td>NaN</td>\n",
       "      <td>NaN</td>\n",
       "      <td>1.806458</td>\n",
       "      <td>...</td>\n",
       "      <td>-0.090770</td>\n",
       "      <td>-0.051238</td>\n",
       "      <td>0.067357</td>\n",
       "      <td>0.304547</td>\n",
       "      <td>0.245250</td>\n",
       "      <td>-0.079446</td>\n",
       "      <td>NaN</td>\n",
       "      <td>NaN</td>\n",
       "      <td>NaN</td>\n",
       "      <td>-0.169834</td>\n",
       "    </tr>\n",
       "    <tr>\n",
       "      <th>40</th>\n",
       "      <td>-0.867985</td>\n",
       "      <td>NaN</td>\n",
       "      <td>-0.879849</td>\n",
       "      <td>-0.377402</td>\n",
       "      <td>0.903123</td>\n",
       "      <td>0.628245</td>\n",
       "      <td>-0.009920</td>\n",
       "      <td>-0.247067</td>\n",
       "      <td>-0.128099</td>\n",
       "      <td>-0.446770</td>\n",
       "      <td>...</td>\n",
       "      <td>-0.333757</td>\n",
       "      <td>NaN</td>\n",
       "      <td>0.221446</td>\n",
       "      <td>-0.111676</td>\n",
       "      <td>-0.185703</td>\n",
       "      <td>0.002064</td>\n",
       "      <td>-0.444797</td>\n",
       "      <td>0.168625</td>\n",
       "      <td>0.193686</td>\n",
       "      <td>0.221446</td>\n",
       "    </tr>\n",
       "    <tr>\n",
       "      <th>41</th>\n",
       "      <td>1.137488</td>\n",
       "      <td>0.493734</td>\n",
       "      <td>0.004554</td>\n",
       "      <td>-0.679407</td>\n",
       "      <td>0.006380</td>\n",
       "      <td>-0.296920</td>\n",
       "      <td>0.335577</td>\n",
       "      <td>-0.677267</td>\n",
       "      <td>-0.582415</td>\n",
       "      <td>-0.283224</td>\n",
       "      <td>...</td>\n",
       "      <td>-0.050633</td>\n",
       "      <td>-0.240506</td>\n",
       "      <td>0.012658</td>\n",
       "      <td>0.329114</td>\n",
       "      <td>-0.050633</td>\n",
       "      <td>0.471519</td>\n",
       "      <td>-0.240506</td>\n",
       "      <td>0.139241</td>\n",
       "      <td>-0.145570</td>\n",
       "      <td>-0.240506</td>\n",
       "    </tr>\n",
       "    <tr>\n",
       "      <th>42</th>\n",
       "      <td>-0.913006</td>\n",
       "      <td>NaN</td>\n",
       "      <td>-0.050062</td>\n",
       "      <td>-0.050062</td>\n",
       "      <td>-0.031156</td>\n",
       "      <td>0.065625</td>\n",
       "      <td>NaN</td>\n",
       "      <td>1.022189</td>\n",
       "      <td>0.568477</td>\n",
       "      <td>-0.217605</td>\n",
       "      <td>...</td>\n",
       "      <td>0.650060</td>\n",
       "      <td>NaN</td>\n",
       "      <td>0.237545</td>\n",
       "      <td>-0.381228</td>\n",
       "      <td>-0.174970</td>\n",
       "      <td>-0.174970</td>\n",
       "      <td>NaN</td>\n",
       "      <td>0.036302</td>\n",
       "      <td>0.067335</td>\n",
       "      <td>-0.173716</td>\n",
       "    </tr>\n",
       "    <tr>\n",
       "      <th>43</th>\n",
       "      <td>0.030248</td>\n",
       "      <td>-0.680780</td>\n",
       "      <td>NaN</td>\n",
       "      <td>-0.909215</td>\n",
       "      <td>0.591736</td>\n",
       "      <td>-0.107027</td>\n",
       "      <td>0.206384</td>\n",
       "      <td>NaN</td>\n",
       "      <td>0.114477</td>\n",
       "      <td>0.210173</td>\n",
       "      <td>...</td>\n",
       "      <td>0.177013</td>\n",
       "      <td>0.272446</td>\n",
       "      <td>NaN</td>\n",
       "      <td>-0.618266</td>\n",
       "      <td>-0.141099</td>\n",
       "      <td>0.242955</td>\n",
       "      <td>-0.198359</td>\n",
       "      <td>NaN</td>\n",
       "      <td>-0.093382</td>\n",
       "      <td>0.081579</td>\n",
       "    </tr>\n",
       "    <tr>\n",
       "      <th>44</th>\n",
       "      <td>-0.717880</td>\n",
       "      <td>-0.925064</td>\n",
       "      <td>NaN</td>\n",
       "      <td>-0.311623</td>\n",
       "      <td>-0.155153</td>\n",
       "      <td>-0.155153</td>\n",
       "      <td>0.782363</td>\n",
       "      <td>0.355236</td>\n",
       "      <td>-0.026727</td>\n",
       "      <td>0.060465</td>\n",
       "      <td>...</td>\n",
       "      <td>-0.480207</td>\n",
       "      <td>0.044641</td>\n",
       "      <td>NaN</td>\n",
       "      <td>-0.064373</td>\n",
       "      <td>0.403441</td>\n",
       "      <td>-0.168331</td>\n",
       "      <td>0.143544</td>\n",
       "      <td>-0.133678</td>\n",
       "      <td>-0.097341</td>\n",
       "      <td>0.110577</td>\n",
       "    </tr>\n",
       "    <tr>\n",
       "      <th>45</th>\n",
       "      <td>-0.374900</td>\n",
       "      <td>-0.785332</td>\n",
       "      <td>-0.332703</td>\n",
       "      <td>2.113039</td>\n",
       "      <td>0.194334</td>\n",
       "      <td>NaN</td>\n",
       "      <td>0.030385</td>\n",
       "      <td>NaN</td>\n",
       "      <td>0.316934</td>\n",
       "      <td>-0.733638</td>\n",
       "      <td>...</td>\n",
       "      <td>-0.133799</td>\n",
       "      <td>0.039441</td>\n",
       "      <td>0.099996</td>\n",
       "      <td>-0.364786</td>\n",
       "      <td>0.002815</td>\n",
       "      <td>NaN</td>\n",
       "      <td>0.042249</td>\n",
       "      <td>NaN</td>\n",
       "      <td>0.039441</td>\n",
       "      <td>0.195304</td>\n",
       "    </tr>\n",
       "    <tr>\n",
       "      <th>46</th>\n",
       "      <td>0.218234</td>\n",
       "      <td>0.238933</td>\n",
       "      <td>-0.483095</td>\n",
       "      <td>-0.019164</td>\n",
       "      <td>NaN</td>\n",
       "      <td>0.224647</td>\n",
       "      <td>NaN</td>\n",
       "      <td>0.740205</td>\n",
       "      <td>-0.512639</td>\n",
       "      <td>-0.254898</td>\n",
       "      <td>...</td>\n",
       "      <td>-0.085799</td>\n",
       "      <td>0.066568</td>\n",
       "      <td>0.015779</td>\n",
       "      <td>0.117357</td>\n",
       "      <td>NaN</td>\n",
       "      <td>0.083497</td>\n",
       "      <td>NaN</td>\n",
       "      <td>0.218934</td>\n",
       "      <td>0.020718</td>\n",
       "      <td>-0.187377</td>\n",
       "    </tr>\n",
       "    <tr>\n",
       "      <th>47</th>\n",
       "      <td>NaN</td>\n",
       "      <td>NaN</td>\n",
       "      <td>0.790203</td>\n",
       "      <td>-0.779365</td>\n",
       "      <td>-0.636826</td>\n",
       "      <td>NaN</td>\n",
       "      <td>-0.190959</td>\n",
       "      <td>-0.424564</td>\n",
       "      <td>-0.033113</td>\n",
       "      <td>0.247202</td>\n",
       "      <td>...</td>\n",
       "      <td>NaN</td>\n",
       "      <td>NaN</td>\n",
       "      <td>-0.012768</td>\n",
       "      <td>0.039191</td>\n",
       "      <td>0.039191</td>\n",
       "      <td>NaN</td>\n",
       "      <td>-0.010242</td>\n",
       "      <td>0.044245</td>\n",
       "      <td>-0.030088</td>\n",
       "      <td>0.004552</td>\n",
       "    </tr>\n",
       "    <tr>\n",
       "      <th>48</th>\n",
       "      <td>NaN</td>\n",
       "      <td>-0.839654</td>\n",
       "      <td>0.992031</td>\n",
       "      <td>-0.121779</td>\n",
       "      <td>-0.296308</td>\n",
       "      <td>0.115684</td>\n",
       "      <td>-0.738229</td>\n",
       "      <td>1.656383</td>\n",
       "      <td>-0.153893</td>\n",
       "      <td>-0.789744</td>\n",
       "      <td>...</td>\n",
       "      <td>NaN</td>\n",
       "      <td>0.000000</td>\n",
       "      <td>-0.136364</td>\n",
       "      <td>0.045455</td>\n",
       "      <td>0.045455</td>\n",
       "      <td>0.000000</td>\n",
       "      <td>-0.090909</td>\n",
       "      <td>0.272727</td>\n",
       "      <td>0.090909</td>\n",
       "      <td>-0.454545</td>\n",
       "    </tr>\n",
       "    <tr>\n",
       "      <th>49</th>\n",
       "      <td>-0.292383</td>\n",
       "      <td>0.949906</td>\n",
       "      <td>NaN</td>\n",
       "      <td>-0.532519</td>\n",
       "      <td>-0.044778</td>\n",
       "      <td>0.872682</td>\n",
       "      <td>-0.624778</td>\n",
       "      <td>0.844216</td>\n",
       "      <td>-0.025159</td>\n",
       "      <td>-0.939798</td>\n",
       "      <td>...</td>\n",
       "      <td>0.052632</td>\n",
       "      <td>-0.210526</td>\n",
       "      <td>NaN</td>\n",
       "      <td>-0.052632</td>\n",
       "      <td>0.157895</td>\n",
       "      <td>0.052632</td>\n",
       "      <td>0.157895</td>\n",
       "      <td>0.263158</td>\n",
       "      <td>-0.157895</td>\n",
       "      <td>-0.157895</td>\n",
       "    </tr>\n",
       "    <tr>\n",
       "      <th>50</th>\n",
       "      <td>0.527610</td>\n",
       "      <td>0.494132</td>\n",
       "      <td>-0.694630</td>\n",
       "      <td>-0.428011</td>\n",
       "      <td>-0.987588</td>\n",
       "      <td>-0.921148</td>\n",
       "      <td>NaN</td>\n",
       "      <td>1.399701</td>\n",
       "      <td>0.172745</td>\n",
       "      <td>-0.450681</td>\n",
       "      <td>...</td>\n",
       "      <td>0.034548</td>\n",
       "      <td>0.049762</td>\n",
       "      <td>0.277971</td>\n",
       "      <td>-0.123677</td>\n",
       "      <td>-0.082725</td>\n",
       "      <td>0.095404</td>\n",
       "      <td>NaN</td>\n",
       "      <td>-0.039302</td>\n",
       "      <td>-0.087163</td>\n",
       "      <td>0.186688</td>\n",
       "    </tr>\n",
       "  </tbody>\n",
       "</table>\n",
       "<p>50 rows × 30 columns</p>\n",
       "</div>"
      ],
      "text/plain": [
       "            Dif_price_per_unit                                           \n",
       "region                      1         2         3         4         5    \n",
       "product_sku                                                              \n",
       "1                     0.038431 -0.087647  1.262358 -0.357414  0.029756  \\\n",
       "2                    -0.602890  0.447483  0.114073  0.692639       NaN   \n",
       "3                          NaN  0.001060 -0.728493       NaN       NaN   \n",
       "4                    -0.905674       NaN -0.020678  0.756579 -0.212037   \n",
       "5                    -0.213357 -0.104139  0.957311  0.807180  0.292478   \n",
       "6                     0.163561 -0.190106       NaN -0.127095  3.013675   \n",
       "7                    -0.244121 -0.484003 -0.459478 -0.478827       NaN   \n",
       "8                          NaN       NaN       NaN -0.542491       NaN   \n",
       "9                    -0.280121  2.331497 -0.054488       NaN -0.650007   \n",
       "10                    0.230241 -0.078854  0.230241 -0.071034  3.590456   \n",
       "11                         NaN       NaN  0.897485       NaN  0.292488   \n",
       "12                   -0.624182  0.096821 -0.096810       NaN -0.096810   \n",
       "13                   -0.509237 -0.920546 -0.141392       NaN  0.057628   \n",
       "14                   -0.198728 -0.798202       NaN       NaN -0.117570   \n",
       "15                   -0.580913       NaN       NaN -0.003777 -0.195278   \n",
       "16                   -0.990657  0.664893 -0.573180  3.215835 -0.603419   \n",
       "17                   -0.272064 -0.041734 -0.768313 -0.130199  0.571959   \n",
       "18                         NaN  0.330661 -0.054667 -0.808755  0.082585   \n",
       "19                   -0.083152  0.225666 -0.569740  0.108111       NaN   \n",
       "20                   -0.003555  0.290931 -0.150222       NaN -0.122513   \n",
       "21                   -0.143733 -0.735742 -0.394400  0.896297  0.184403   \n",
       "22                   -0.033340  1.806409       NaN -0.396486       NaN   \n",
       "23                         NaN  0.781005 -0.367593  0.560927 -0.481735   \n",
       "24                         NaN  0.288458       NaN -0.998043  1.558270   \n",
       "25                         NaN -0.070930  0.485397 -0.113741  0.381769   \n",
       "26                         NaN  0.254912 -0.253385 -0.640470       NaN   \n",
       "27                   -0.571033  2.494382 -0.627302  0.300106 -0.039610   \n",
       "28                         NaN       NaN  0.154813 -0.496778       NaN   \n",
       "29                   -0.195763 -0.024149 -0.614306 -0.258850  0.159549   \n",
       "30                    0.355710 -0.706905  0.082567 -0.166366       NaN   \n",
       "31                         NaN  0.645156 -0.878196  0.367849  0.005746   \n",
       "32                         NaN  0.041862 -0.196793  0.577482  0.462197   \n",
       "33                   -0.426644       NaN -0.037469 -0.091537 -0.939595   \n",
       "34                   -0.303028  0.234143 -0.709908 -0.147380       NaN   \n",
       "35                    0.889152 -0.608657 -0.942533 -0.108378 -0.651252   \n",
       "36                   -0.193807  0.443762  0.406048 -0.471282 -0.309064   \n",
       "37                    0.118284       NaN -0.135449  1.286806 -0.396319   \n",
       "38                         NaN  2.520521 -0.581775       NaN -0.393418   \n",
       "39                   -0.358628  0.471860 -0.801500  1.000578 -0.961725   \n",
       "40                   -0.867985       NaN -0.879849 -0.377402  0.903123   \n",
       "41                    1.137488  0.493734  0.004554 -0.679407  0.006380   \n",
       "42                   -0.913006       NaN -0.050062 -0.050062 -0.031156   \n",
       "43                    0.030248 -0.680780       NaN -0.909215  0.591736   \n",
       "44                   -0.717880 -0.925064       NaN -0.311623 -0.155153   \n",
       "45                   -0.374900 -0.785332 -0.332703  2.113039  0.194334   \n",
       "46                    0.218234  0.238933 -0.483095 -0.019164       NaN   \n",
       "47                         NaN       NaN  0.790203 -0.779365 -0.636826   \n",
       "48                         NaN -0.839654  0.992031 -0.121779 -0.296308   \n",
       "49                   -0.292383  0.949906       NaN -0.532519 -0.044778   \n",
       "50                    0.527610  0.494132 -0.694630 -0.428011 -0.987588   \n",
       "\n",
       "                                                               ...   \n",
       "region             6         7         8         9         10  ...   \n",
       "product_sku                                                    ...   \n",
       "1           -0.069515       NaN -0.655096 -0.375154  0.153681  ...  \\\n",
       "2                 NaN -0.378149 -0.788604  0.561471 -0.405821  ...   \n",
       "3           -0.990258       NaN -0.663186  0.793272       NaN  ...   \n",
       "4                 NaN -0.758811 -0.063782  0.403599 -0.549184  ...   \n",
       "5           -0.585232 -0.784316  0.001424  1.269486 -0.038562  ...   \n",
       "6           -0.431090 -0.202306 -0.681056 -0.807481 -0.025271  ...   \n",
       "7            0.034218 -0.699119  2.041125  0.243287  1.732697  ...   \n",
       "8           -0.508963 -0.258345  0.481117       NaN  0.324768  ...   \n",
       "9           -0.800905  1.398981  0.505577 -0.968584 -0.081362  ...   \n",
       "10          -0.553126 -0.469672 -0.645556 -0.431042 -0.797505  ...   \n",
       "11          -0.252300 -0.431951       NaN       NaN -0.878586  ...   \n",
       "12          -0.096810       NaN -0.096810  1.022899 -0.377065  ...   \n",
       "13          -0.289118  0.009054  0.692820  0.175435  0.662013  ...   \n",
       "14          -0.816233  0.550207 -0.084239  1.606191 -0.108690  ...   \n",
       "15           2.225632 -0.143071 -0.152540 -0.708964 -0.724923  ...   \n",
       "16          -0.694594  1.375221  0.039968 -0.050690       NaN  ...   \n",
       "17          -0.250183       NaN -0.731855       NaN  1.372340  ...   \n",
       "18           1.806266 -0.245861 -0.178035 -0.329792       NaN  ...   \n",
       "19           0.447885 -0.512509  0.692547 -0.749809 -0.481102  ...   \n",
       "20          -0.463238  0.174724       NaN  1.163625       NaN  ...   \n",
       "21                NaN       NaN  0.248141  0.152814 -0.344078  ...   \n",
       "22                NaN       NaN -0.445683 -0.063874 -0.445942  ...   \n",
       "23                NaN -0.507125  0.974069 -0.962659  1.100478  ...   \n",
       "24          -0.415418  0.580853 -0.434228  0.053502 -0.207083  ...   \n",
       "25          -0.609433  0.202857  0.895147  0.102268 -0.459093  ...   \n",
       "26          -0.204622       NaN       NaN  0.778530  0.820829  ...   \n",
       "27          -0.435530 -0.558593 -0.791769 -0.290967  0.824895  ...   \n",
       "28           0.233964       NaN  0.100567  0.205719 -0.561364  ...   \n",
       "29          -0.285748 -0.647561 -0.158433  0.136666  2.750985  ...   \n",
       "30          -0.423734 -0.345663  0.198928  0.375276 -0.743872  ...   \n",
       "31          -0.880798  0.856194 -0.323193 -0.647682  0.245577  ...   \n",
       "32                NaN -0.236260 -0.967952 -0.586638 -0.139003  ...   \n",
       "33          -0.148221  0.544318  0.093652  0.202385  0.087441  ...   \n",
       "34          -0.141333       NaN       NaN  0.733272  0.552293  ...   \n",
       "35          -0.410277  0.396094  0.014619 -0.435430       NaN  ...   \n",
       "36          -0.565929       NaN       NaN -0.913693  1.257026  ...   \n",
       "37          -0.928185 -0.021252  0.038031 -0.055224 -0.400413  ...   \n",
       "38                NaN       NaN -0.540808  0.364690 -0.541621  ...   \n",
       "39           0.012519       NaN       NaN       NaN  1.806458  ...   \n",
       "40           0.628245 -0.009920 -0.247067 -0.128099 -0.446770  ...   \n",
       "41          -0.296920  0.335577 -0.677267 -0.582415 -0.283224  ...   \n",
       "42           0.065625       NaN  1.022189  0.568477 -0.217605  ...   \n",
       "43          -0.107027  0.206384       NaN  0.114477  0.210173  ...   \n",
       "44          -0.155153  0.782363  0.355236 -0.026727  0.060465  ...   \n",
       "45                NaN  0.030385       NaN  0.316934 -0.733638  ...   \n",
       "46           0.224647       NaN  0.740205 -0.512639 -0.254898  ...   \n",
       "47                NaN -0.190959 -0.424564 -0.033113  0.247202  ...   \n",
       "48           0.115684 -0.738229  1.656383 -0.153893 -0.789744  ...   \n",
       "49           0.872682 -0.624778  0.844216 -0.025159 -0.939798  ...   \n",
       "50          -0.921148       NaN  1.399701  0.172745 -0.450681  ...   \n",
       "\n",
       "            Dif_units_sold                                                     \n",
       "region                  1         2         3         4         5         6    \n",
       "product_sku                                                                    \n",
       "1                 0.066845  0.016043 -0.085561 -0.161765  0.625668 -0.085561  \\\n",
       "2                 0.336114 -0.192117 -0.471769 -0.112169       NaN       NaN   \n",
       "3                      NaN  0.466667 -0.733333       NaN       NaN  0.244444   \n",
       "4                -0.350344       NaN  0.299311 -0.226600  0.022392       NaN   \n",
       "5                 0.123634 -0.026184 -0.363274  0.235997 -0.213456  0.057309   \n",
       "6                -0.194878 -0.426241       NaN -0.080591  0.377021 -0.254114   \n",
       "7                 0.157534 -0.020548  0.068493 -0.168950       NaN -0.465753   \n",
       "8                      NaN       NaN       NaN  0.289890       NaN  0.197755   \n",
       "9                -0.080303 -0.356212  0.287575       NaN  0.149621 -0.075831   \n",
       "10                0.144304  0.408374  0.496398  0.202986  0.056281  0.232328   \n",
       "11                     NaN       NaN  0.271042       NaN -0.068312 -0.060379   \n",
       "12               -0.214286 -0.312500  0.080357       NaN -0.214286  0.178571   \n",
       "13                0.129872  0.571996 -0.214002       NaN -0.443251  0.204754   \n",
       "14               -0.067271 -0.347090       NaN       NaN -0.111640 -0.253817   \n",
       "15                0.174818       NaN       NaN -0.064705  0.084448 -0.051108   \n",
       "16                0.070270  0.264865  0.216216  0.264865 -0.085405 -0.318919   \n",
       "17               -0.186664  0.220004 -0.084997 -0.017219  0.052207  0.050559   \n",
       "18                     NaN -0.011091  0.148144 -0.114289  0.033330  0.180948   \n",
       "19                0.293194 -0.104712  0.293194 -0.071553       NaN  0.027923   \n",
       "20                0.436862 -0.004242 -0.207249       NaN  0.040486 -0.108155   \n",
       "21               -0.177255  0.096993 -0.037908 -0.177255  0.098475       NaN   \n",
       "22                0.195086  0.032479       NaN -0.096629       NaN       NaN   \n",
       "23                     NaN -0.070293 -0.302720  0.022678 -0.006806       NaN   \n",
       "24                     NaN  0.043934       NaN -0.021312 -0.608525 -0.168115   \n",
       "25                     NaN  0.062177 -0.256476  0.170117 -0.256476 -0.150258   \n",
       "26                     NaN  0.489362  0.010638 -0.007092       NaN -0.361702   \n",
       "27               -0.065772  0.301590  0.022678 -0.070293  0.270599 -0.256234   \n",
       "28                     NaN       NaN -0.173314 -0.127182       NaN  0.293063   \n",
       "29               -0.069745 -0.173107 -0.069745  0.038642  0.009032  0.038642   \n",
       "30               -0.064376 -0.424949  0.055426  0.533471       NaN  0.341787   \n",
       "31                     NaN  0.100000 -0.050000  0.128571 -0.400000 -0.300000   \n",
       "32                     NaN -0.111111  0.111111 -0.148148  0.388889       NaN   \n",
       "33               -0.026017       NaN  0.190423 -0.458899 -0.080127 -0.026017   \n",
       "34               -0.267446  0.204644  0.108553 -0.072098       NaN -0.251167   \n",
       "35               -0.087657 -0.291357  0.518520  0.113581  0.316051  0.012347   \n",
       "36               -0.000900 -0.000900  0.223822 -0.555955  0.057305  0.110111   \n",
       "37                0.126176       NaN  0.023796  0.228556 -0.232153  0.228556   \n",
       "38                     NaN  0.066954 -0.038012       NaN  0.013606       NaN   \n",
       "39               -0.090770 -0.051238  0.067357  0.304547  0.245250 -0.079446   \n",
       "40               -0.333757       NaN  0.221446 -0.111676 -0.185703  0.002064   \n",
       "41               -0.050633 -0.240506  0.012658  0.329114 -0.050633  0.471519   \n",
       "42                0.650060       NaN  0.237545 -0.381228 -0.174970 -0.174970   \n",
       "43                0.177013  0.272446       NaN -0.618266 -0.141099  0.242955   \n",
       "44               -0.480207  0.044641       NaN -0.064373  0.403441 -0.168331   \n",
       "45               -0.133799  0.039441  0.099996 -0.364786  0.002815       NaN   \n",
       "46               -0.085799  0.066568  0.015779  0.117357       NaN  0.083497   \n",
       "47                     NaN       NaN -0.012768  0.039191  0.039191       NaN   \n",
       "48                     NaN  0.000000 -0.136364  0.045455  0.045455  0.000000   \n",
       "49                0.052632 -0.210526       NaN -0.052632  0.157895  0.052632   \n",
       "50                0.034548  0.049762  0.277971 -0.123677 -0.082725  0.095404   \n",
       "\n",
       "                                                     \n",
       "region             7         8         9         10  \n",
       "product_sku                                          \n",
       "1                 NaN  0.117647  0.117647 -0.187166  \n",
       "2           -0.347479  0.211825  0.258433  0.275480  \n",
       "3                 NaN  0.155556 -0.200000       NaN  \n",
       "4            0.206504 -0.053359  0.113696  0.051824  \n",
       "5           -0.022541  0.030909  0.129098  0.129098  \n",
       "6           -0.024610  0.153097  0.836028  0.262269  \n",
       "7            0.068493 -0.109589  0.513699  0.157534  \n",
       "8           -0.170785 -0.214612       NaN -0.022473  \n",
       "9            0.011666 -0.172273 -0.172273 -0.078067  \n",
       "10          -0.383836 -0.119766 -0.323727 -0.471860  \n",
       "11           0.271042       NaN       NaN -0.087698  \n",
       "12                NaN -0.312500  0.227679  0.113095  \n",
       "13           0.080747 -0.015114 -0.091190 -0.017502  \n",
       "14          -0.003578  0.026001  0.305820  0.305820  \n",
       "15           0.265189  0.054324  0.129633 -0.367405  \n",
       "16           0.167568 -0.318919 -0.027027       NaN  \n",
       "17                NaN -0.118886       NaN -0.034164  \n",
       "18          -0.212701  0.377773 -0.259515       NaN  \n",
       "19           0.492147 -0.204188 -0.154450 -0.054974  \n",
       "20          -0.108155       NaN -0.004242       NaN  \n",
       "21                NaN -0.081394  0.005577  0.279826  \n",
       "22                NaN  0.047911  0.032479 -0.186966  \n",
       "23           0.070293  0.162134  0.115648  0.022678  \n",
       "24           0.565901 -0.263604  0.272295  0.125491  \n",
       "25          -0.150258  0.699484 -0.150258  0.062177  \n",
       "26                NaN       NaN -0.042553 -0.042553  \n",
       "27           0.071423 -0.070293 -0.535147 -0.070293  \n",
       "28                NaN -0.321142  0.551676  0.163757  \n",
       "29           0.033616  0.136978  0.136978 -0.276469  \n",
       "30          -0.006527 -0.036921 -0.073528 -0.137423  \n",
       "31          -0.300000  0.050000  0.200000  0.000000  \n",
       "32          -0.055556 -0.222222 -0.222222  0.055556  \n",
       "33          -0.293937  0.334717  0.017271  0.001038  \n",
       "34                NaN       NaN  0.041854  0.367434  \n",
       "35           0.214816 -0.190123 -0.088888       NaN  \n",
       "36                NaN       NaN -0.222922  0.110111  \n",
       "37          -0.078583 -0.001798  0.025456 -0.180963  \n",
       "38                NaN  0.072142  0.066954 -0.253132  \n",
       "39                NaN       NaN       NaN -0.169834  \n",
       "40          -0.444797  0.168625  0.193686  0.221446  \n",
       "41          -0.240506  0.139241 -0.145570 -0.240506  \n",
       "42                NaN  0.036302  0.067335 -0.173716  \n",
       "43          -0.198359       NaN -0.093382  0.081579  \n",
       "44           0.143544 -0.133678 -0.097341  0.110577  \n",
       "45           0.042249       NaN  0.039441  0.195304  \n",
       "46                NaN  0.218934  0.020718 -0.187377  \n",
       "47          -0.010242  0.044245 -0.030088  0.004552  \n",
       "48          -0.090909  0.272727  0.090909 -0.454545  \n",
       "49           0.157895  0.263158 -0.157895 -0.157895  \n",
       "50                NaN -0.039302 -0.087163  0.186688  \n",
       "\n",
       "[50 rows x 30 columns]"
      ]
     },
     "execution_count": 569,
     "metadata": {},
     "output_type": "execute_result"
    }
   ],
   "source": [
    "p = df.pivot_table(index='product_sku', columns='region', values=['Dif_sales_revenue',\n",
    "                                                                  'Dif_price_per_unit', \n",
    "                                                                  'Dif_units_sold'])\n",
    "p"
   ]
  },
  {
   "attachments": {},
   "cell_type": "markdown",
   "metadata": {},
   "source": [
    "This a summary table of all differential statistics with product as the index and region as the column. I thought it would be hard to match the scenario with the word document provided so I created a handy tool below."
   ]
  },
  {
   "cell_type": "code",
   "execution_count": 570,
   "metadata": {},
   "outputs": [
    {
     "name": "stdout",
     "output_type": "stream",
     "text": [
      "df_5\n"
     ]
    },
    {
     "data": {
      "text/plain": [
       "str"
      ]
     },
     "execution_count": 570,
     "metadata": {},
     "output_type": "execute_result"
    }
   ],
   "source": [
    "regioninput = input(\"Welcome Regional Manager. Please enter your region between 1 to 10\")\n",
    "regiondataframe= \"df_\" + str(regioninput)\n",
    "print(regiondataframe)\n",
    "type(regiondataframe)"
   ]
  },
  {
   "attachments": {},
   "cell_type": "markdown",
   "metadata": {},
   "source": [
    "This tool prompts the regional manager or the VP of Sales to input a specfic number for the region they want to isolate for. The functions below just check the type and print the df to ensure the right number was entered."
   ]
  },
  {
   "cell_type": "code",
   "execution_count": 571,
   "metadata": {},
   "outputs": [
    {
     "data": {
      "text/html": [
       "<div>\n",
       "<style scoped>\n",
       "    .dataframe tbody tr th:only-of-type {\n",
       "        vertical-align: middle;\n",
       "    }\n",
       "\n",
       "    .dataframe tbody tr th {\n",
       "        vertical-align: top;\n",
       "    }\n",
       "\n",
       "    .dataframe thead th {\n",
       "        text-align: right;\n",
       "    }\n",
       "</style>\n",
       "<table border=\"1\" class=\"dataframe\">\n",
       "  <thead>\n",
       "    <tr style=\"text-align: right;\">\n",
       "      <th></th>\n",
       "      <th>region</th>\n",
       "      <th>product_sku</th>\n",
       "      <th>price_per_unit</th>\n",
       "      <th>units_sold</th>\n",
       "      <th>sale_date</th>\n",
       "      <th>year_sold</th>\n",
       "      <th>month_sold</th>\n",
       "      <th>quarter_sold</th>\n",
       "      <th>sales_revenue</th>\n",
       "      <th>CW_units_sold</th>\n",
       "      <th>CW_price_per_unit</th>\n",
       "      <th>CW_sales_revenue</th>\n",
       "      <th>Dif_sales_revenue</th>\n",
       "      <th>Dif_price_per_unit</th>\n",
       "      <th>Dif_units_sold</th>\n",
       "      <th>mtr_sales_revenue</th>\n",
       "      <th>mtr_price_per_unit</th>\n",
       "      <th>mtr_units_sold</th>\n",
       "    </tr>\n",
       "  </thead>\n",
       "  <tbody>\n",
       "    <tr>\n",
       "      <th>324</th>\n",
       "      <td>5</td>\n",
       "      <td>23</td>\n",
       "      <td>61.26</td>\n",
       "      <td>9.000000</td>\n",
       "      <td>2022-11-21</td>\n",
       "      <td>2022</td>\n",
       "      <td>11</td>\n",
       "      <td>4</td>\n",
       "      <td>551.340000</td>\n",
       "      <td>10.756078</td>\n",
       "      <td>110.870000</td>\n",
       "      <td>1185.405933</td>\n",
       "      <td>-0.534894</td>\n",
       "      <td>-0.447461</td>\n",
       "      <td>-0.163264</td>\n",
       "      <td>-1</td>\n",
       "      <td>-1</td>\n",
       "      <td>-1</td>\n",
       "    </tr>\n",
       "    <tr>\n",
       "      <th>681</th>\n",
       "      <td>5</td>\n",
       "      <td>40</td>\n",
       "      <td>287.20</td>\n",
       "      <td>5.000000</td>\n",
       "      <td>2023-11-13</td>\n",
       "      <td>2023</td>\n",
       "      <td>11</td>\n",
       "      <td>4</td>\n",
       "      <td>1436.000000</td>\n",
       "      <td>9.005721</td>\n",
       "      <td>145.816471</td>\n",
       "      <td>1283.889598</td>\n",
       "      <td>0.118476</td>\n",
       "      <td>0.969599</td>\n",
       "      <td>-0.444797</td>\n",
       "      <td>1</td>\n",
       "      <td>1</td>\n",
       "      <td>-1</td>\n",
       "    </tr>\n",
       "    <tr>\n",
       "      <th>570</th>\n",
       "      <td>5</td>\n",
       "      <td>29</td>\n",
       "      <td>305.43</td>\n",
       "      <td>10.000000</td>\n",
       "      <td>2023-07-25</td>\n",
       "      <td>2023</td>\n",
       "      <td>7</td>\n",
       "      <td>3</td>\n",
       "      <td>3054.300000</td>\n",
       "      <td>9.674771</td>\n",
       "      <td>122.687778</td>\n",
       "      <td>1166.638986</td>\n",
       "      <td>1.618034</td>\n",
       "      <td>1.489490</td>\n",
       "      <td>0.033616</td>\n",
       "      <td>1</td>\n",
       "      <td>1</td>\n",
       "      <td>1</td>\n",
       "    </tr>\n",
       "    <tr>\n",
       "      <th>549</th>\n",
       "      <td>5</td>\n",
       "      <td>27</td>\n",
       "      <td>138.34</td>\n",
       "      <td>12.000000</td>\n",
       "      <td>2023-07-04</td>\n",
       "      <td>2023</td>\n",
       "      <td>7</td>\n",
       "      <td>3</td>\n",
       "      <td>1660.080000</td>\n",
       "      <td>10.756078</td>\n",
       "      <td>78.374375</td>\n",
       "      <td>833.419064</td>\n",
       "      <td>0.991891</td>\n",
       "      <td>0.765118</td>\n",
       "      <td>0.115648</td>\n",
       "      <td>1</td>\n",
       "      <td>1</td>\n",
       "      <td>1</td>\n",
       "    </tr>\n",
       "    <tr>\n",
       "      <th>697</th>\n",
       "      <td>5</td>\n",
       "      <td>29</td>\n",
       "      <td>78.13</td>\n",
       "      <td>10.048626</td>\n",
       "      <td>2023-11-29</td>\n",
       "      <td>2023</td>\n",
       "      <td>11</td>\n",
       "      <td>4</td>\n",
       "      <td>785.099133</td>\n",
       "      <td>9.674771</td>\n",
       "      <td>122.687778</td>\n",
       "      <td>1166.638986</td>\n",
       "      <td>-0.327042</td>\n",
       "      <td>-0.363180</td>\n",
       "      <td>0.038642</td>\n",
       "      <td>-1</td>\n",
       "      <td>-1</td>\n",
       "      <td>1</td>\n",
       "    </tr>\n",
       "    <tr>\n",
       "      <th>...</th>\n",
       "      <td>...</td>\n",
       "      <td>...</td>\n",
       "      <td>...</td>\n",
       "      <td>...</td>\n",
       "      <td>...</td>\n",
       "      <td>...</td>\n",
       "      <td>...</td>\n",
       "      <td>...</td>\n",
       "      <td>...</td>\n",
       "      <td>...</td>\n",
       "      <td>...</td>\n",
       "      <td>...</td>\n",
       "      <td>...</td>\n",
       "      <td>...</td>\n",
       "      <td>...</td>\n",
       "      <td>...</td>\n",
       "      <td>...</td>\n",
       "      <td>...</td>\n",
       "    </tr>\n",
       "    <tr>\n",
       "      <th>655</th>\n",
       "      <td>5</td>\n",
       "      <td>42</td>\n",
       "      <td>142.57</td>\n",
       "      <td>8.000000</td>\n",
       "      <td>2023-10-18</td>\n",
       "      <td>2023</td>\n",
       "      <td>10</td>\n",
       "      <td>4</td>\n",
       "      <td>1140.560000</td>\n",
       "      <td>9.696617</td>\n",
       "      <td>82.247500</td>\n",
       "      <td>767.192413</td>\n",
       "      <td>0.486667</td>\n",
       "      <td>0.733427</td>\n",
       "      <td>-0.174970</td>\n",
       "      <td>1</td>\n",
       "      <td>1</td>\n",
       "      <td>-1</td>\n",
       "    </tr>\n",
       "    <tr>\n",
       "      <th>911</th>\n",
       "      <td>5</td>\n",
       "      <td>21</td>\n",
       "      <td>34.17</td>\n",
       "      <td>10.048626</td>\n",
       "      <td>2024-06-30</td>\n",
       "      <td>2024</td>\n",
       "      <td>6</td>\n",
       "      <td>2</td>\n",
       "      <td>343.361543</td>\n",
       "      <td>10.938991</td>\n",
       "      <td>95.285714</td>\n",
       "      <td>977.913732</td>\n",
       "      <td>-0.648884</td>\n",
       "      <td>-0.641394</td>\n",
       "      <td>-0.081394</td>\n",
       "      <td>-1</td>\n",
       "      <td>-1</td>\n",
       "      <td>-1</td>\n",
       "    </tr>\n",
       "    <tr>\n",
       "      <th>658</th>\n",
       "      <td>5</td>\n",
       "      <td>21</td>\n",
       "      <td>257.41</td>\n",
       "      <td>9.000000</td>\n",
       "      <td>2023-10-21</td>\n",
       "      <td>2023</td>\n",
       "      <td>10</td>\n",
       "      <td>4</td>\n",
       "      <td>2316.690000</td>\n",
       "      <td>10.938991</td>\n",
       "      <td>95.285714</td>\n",
       "      <td>977.913732</td>\n",
       "      <td>1.369013</td>\n",
       "      <td>1.701454</td>\n",
       "      <td>-0.177255</td>\n",
       "      <td>1</td>\n",
       "      <td>1</td>\n",
       "      <td>-1</td>\n",
       "    </tr>\n",
       "    <tr>\n",
       "      <th>407</th>\n",
       "      <td>5</td>\n",
       "      <td>1</td>\n",
       "      <td>78.94</td>\n",
       "      <td>16.000000</td>\n",
       "      <td>2023-02-12</td>\n",
       "      <td>2023</td>\n",
       "      <td>2</td>\n",
       "      <td>1</td>\n",
       "      <td>1263.040000</td>\n",
       "      <td>9.842105</td>\n",
       "      <td>76.658947</td>\n",
       "      <td>721.047895</td>\n",
       "      <td>0.751673</td>\n",
       "      <td>0.029756</td>\n",
       "      <td>0.625668</td>\n",
       "      <td>1</td>\n",
       "      <td>1</td>\n",
       "      <td>1</td>\n",
       "    </tr>\n",
       "    <tr>\n",
       "      <th>416</th>\n",
       "      <td>5</td>\n",
       "      <td>43</td>\n",
       "      <td>175.84</td>\n",
       "      <td>8.000000</td>\n",
       "      <td>2023-02-21</td>\n",
       "      <td>2023</td>\n",
       "      <td>2</td>\n",
       "      <td>1</td>\n",
       "      <td>1406.720000</td>\n",
       "      <td>10.478506</td>\n",
       "      <td>66.860952</td>\n",
       "      <td>679.324396</td>\n",
       "      <td>1.070763</td>\n",
       "      <td>1.629936</td>\n",
       "      <td>-0.236532</td>\n",
       "      <td>1</td>\n",
       "      <td>1</td>\n",
       "      <td>-1</td>\n",
       "    </tr>\n",
       "  </tbody>\n",
       "</table>\n",
       "<p>83 rows × 18 columns</p>\n",
       "</div>"
      ],
      "text/plain": [
       "     region  product_sku  price_per_unit  units_sold   sale_date  year_sold   \n",
       "324       5           23           61.26    9.000000  2022-11-21       2022  \\\n",
       "681       5           40          287.20    5.000000  2023-11-13       2023   \n",
       "570       5           29          305.43   10.000000  2023-07-25       2023   \n",
       "549       5           27          138.34   12.000000  2023-07-04       2023   \n",
       "697       5           29           78.13   10.048626  2023-11-29       2023   \n",
       "..      ...          ...             ...         ...         ...        ...   \n",
       "655       5           42          142.57    8.000000  2023-10-18       2023   \n",
       "911       5           21           34.17   10.048626  2024-06-30       2024   \n",
       "658       5           21          257.41    9.000000  2023-10-21       2023   \n",
       "407       5            1           78.94   16.000000  2023-02-12       2023   \n",
       "416       5           43          175.84    8.000000  2023-02-21       2023   \n",
       "\n",
       "     month_sold  quarter_sold  sales_revenue  CW_units_sold   \n",
       "324          11             4     551.340000      10.756078  \\\n",
       "681          11             4    1436.000000       9.005721   \n",
       "570           7             3    3054.300000       9.674771   \n",
       "549           7             3    1660.080000      10.756078   \n",
       "697          11             4     785.099133       9.674771   \n",
       "..          ...           ...            ...            ...   \n",
       "655          10             4    1140.560000       9.696617   \n",
       "911           6             2     343.361543      10.938991   \n",
       "658          10             4    2316.690000      10.938991   \n",
       "407           2             1    1263.040000       9.842105   \n",
       "416           2             1    1406.720000      10.478506   \n",
       "\n",
       "     CW_price_per_unit  CW_sales_revenue  Dif_sales_revenue   \n",
       "324         110.870000       1185.405933          -0.534894  \\\n",
       "681         145.816471       1283.889598           0.118476   \n",
       "570         122.687778       1166.638986           1.618034   \n",
       "549          78.374375        833.419064           0.991891   \n",
       "697         122.687778       1166.638986          -0.327042   \n",
       "..                 ...               ...                ...   \n",
       "655          82.247500        767.192413           0.486667   \n",
       "911          95.285714        977.913732          -0.648884   \n",
       "658          95.285714        977.913732           1.369013   \n",
       "407          76.658947        721.047895           0.751673   \n",
       "416          66.860952        679.324396           1.070763   \n",
       "\n",
       "     Dif_price_per_unit  Dif_units_sold  mtr_sales_revenue   \n",
       "324           -0.447461       -0.163264                 -1  \\\n",
       "681            0.969599       -0.444797                  1   \n",
       "570            1.489490        0.033616                  1   \n",
       "549            0.765118        0.115648                  1   \n",
       "697           -0.363180        0.038642                 -1   \n",
       "..                  ...             ...                ...   \n",
       "655            0.733427       -0.174970                  1   \n",
       "911           -0.641394       -0.081394                 -1   \n",
       "658            1.701454       -0.177255                  1   \n",
       "407            0.029756        0.625668                  1   \n",
       "416            1.629936       -0.236532                  1   \n",
       "\n",
       "     mtr_price_per_unit  mtr_units_sold  \n",
       "324                  -1              -1  \n",
       "681                   1              -1  \n",
       "570                   1               1  \n",
       "549                   1               1  \n",
       "697                  -1               1  \n",
       "..                  ...             ...  \n",
       "655                   1              -1  \n",
       "911                  -1              -1  \n",
       "658                   1              -1  \n",
       "407                   1               1  \n",
       "416                   1              -1  \n",
       "\n",
       "[83 rows x 18 columns]"
      ]
     },
     "execution_count": 571,
     "metadata": {},
     "output_type": "execute_result"
    }
   ],
   "source": [
    "regiondataframe = df[df[\"region\"]==int(regioninput)]\n",
    "regiondataframe"
   ]
  },
  {
   "attachments": {},
   "cell_type": "markdown",
   "metadata": {},
   "source": [
    "Then the region dataframe and regionipnut variables are used to create a df that is isolated for the specific region entered in the input."
   ]
  },
  {
   "cell_type": "code",
   "execution_count": 576,
   "metadata": {},
   "outputs": [
    {
     "data": {
      "text/html": [
       "<div>\n",
       "<style scoped>\n",
       "    .dataframe tbody tr th:only-of-type {\n",
       "        vertical-align: middle;\n",
       "    }\n",
       "\n",
       "    .dataframe tbody tr th {\n",
       "        vertical-align: top;\n",
       "    }\n",
       "\n",
       "    .dataframe thead tr th {\n",
       "        text-align: left;\n",
       "    }\n",
       "\n",
       "    .dataframe thead tr:last-of-type th {\n",
       "        text-align: right;\n",
       "    }\n",
       "</style>\n",
       "<table border=\"1\" class=\"dataframe\">\n",
       "  <thead>\n",
       "    <tr>\n",
       "      <th></th>\n",
       "      <th>Dif_price_per_unit</th>\n",
       "      <th>Dif_sales_revenue</th>\n",
       "      <th>Dif_units_sold</th>\n",
       "    </tr>\n",
       "    <tr>\n",
       "      <th>region</th>\n",
       "      <th>5</th>\n",
       "      <th>5</th>\n",
       "      <th>5</th>\n",
       "    </tr>\n",
       "    <tr>\n",
       "      <th>product_sku</th>\n",
       "      <th></th>\n",
       "      <th></th>\n",
       "      <th></th>\n",
       "    </tr>\n",
       "  </thead>\n",
       "  <tbody>\n",
       "    <tr>\n",
       "      <th>1</th>\n",
       "      <td>0.029756</td>\n",
       "      <td>0.751673</td>\n",
       "      <td>0.625668</td>\n",
       "    </tr>\n",
       "    <tr>\n",
       "      <th>4</th>\n",
       "      <td>-0.212037</td>\n",
       "      <td>-0.095355</td>\n",
       "      <td>0.022392</td>\n",
       "    </tr>\n",
       "    <tr>\n",
       "      <th>5</th>\n",
       "      <td>0.292478</td>\n",
       "      <td>0.086734</td>\n",
       "      <td>-0.213456</td>\n",
       "    </tr>\n",
       "    <tr>\n",
       "      <th>6</th>\n",
       "      <td>3.013675</td>\n",
       "      <td>4.047903</td>\n",
       "      <td>0.377021</td>\n",
       "    </tr>\n",
       "    <tr>\n",
       "      <th>9</th>\n",
       "      <td>-0.650007</td>\n",
       "      <td>-0.455052</td>\n",
       "      <td>0.149621</td>\n",
       "    </tr>\n",
       "    <tr>\n",
       "      <th>10</th>\n",
       "      <td>3.590456</td>\n",
       "      <td>3.465206</td>\n",
       "      <td>0.056281</td>\n",
       "    </tr>\n",
       "    <tr>\n",
       "      <th>11</th>\n",
       "      <td>0.292488</td>\n",
       "      <td>0.186556</td>\n",
       "      <td>-0.068312</td>\n",
       "    </tr>\n",
       "    <tr>\n",
       "      <th>12</th>\n",
       "      <td>-0.096810</td>\n",
       "      <td>-0.321430</td>\n",
       "      <td>-0.214286</td>\n",
       "    </tr>\n",
       "    <tr>\n",
       "      <th>13</th>\n",
       "      <td>0.057628</td>\n",
       "      <td>-0.543768</td>\n",
       "      <td>-0.443251</td>\n",
       "    </tr>\n",
       "    <tr>\n",
       "      <th>14</th>\n",
       "      <td>-0.117570</td>\n",
       "      <td>-0.238331</td>\n",
       "      <td>-0.111640</td>\n",
       "    </tr>\n",
       "    <tr>\n",
       "      <th>15</th>\n",
       "      <td>-0.195278</td>\n",
       "      <td>-0.111596</td>\n",
       "      <td>0.084448</td>\n",
       "    </tr>\n",
       "    <tr>\n",
       "      <th>16</th>\n",
       "      <td>-0.603419</td>\n",
       "      <td>-0.684376</td>\n",
       "      <td>-0.085405</td>\n",
       "    </tr>\n",
       "    <tr>\n",
       "      <th>17</th>\n",
       "      <td>0.571959</td>\n",
       "      <td>0.730830</td>\n",
       "      <td>0.052207</td>\n",
       "    </tr>\n",
       "    <tr>\n",
       "      <th>18</th>\n",
       "      <td>0.082585</td>\n",
       "      <td>0.106528</td>\n",
       "      <td>0.033330</td>\n",
       "    </tr>\n",
       "    <tr>\n",
       "      <th>20</th>\n",
       "      <td>-0.122513</td>\n",
       "      <td>0.010908</td>\n",
       "      <td>0.040486</td>\n",
       "    </tr>\n",
       "    <tr>\n",
       "      <th>21</th>\n",
       "      <td>0.184403</td>\n",
       "      <td>0.179000</td>\n",
       "      <td>0.098475</td>\n",
       "    </tr>\n",
       "    <tr>\n",
       "      <th>23</th>\n",
       "      <td>-0.481735</td>\n",
       "      <td>-0.446999</td>\n",
       "      <td>-0.006806</td>\n",
       "    </tr>\n",
       "    <tr>\n",
       "      <th>24</th>\n",
       "      <td>1.558270</td>\n",
       "      <td>0.085097</td>\n",
       "      <td>-0.608525</td>\n",
       "    </tr>\n",
       "    <tr>\n",
       "      <th>25</th>\n",
       "      <td>0.381769</td>\n",
       "      <td>0.039832</td>\n",
       "      <td>-0.256476</td>\n",
       "    </tr>\n",
       "    <tr>\n",
       "      <th>27</th>\n",
       "      <td>-0.039610</td>\n",
       "      <td>0.212507</td>\n",
       "      <td>0.270599</td>\n",
       "    </tr>\n",
       "    <tr>\n",
       "      <th>29</th>\n",
       "      <td>0.159549</td>\n",
       "      <td>0.193750</td>\n",
       "      <td>0.009032</td>\n",
       "    </tr>\n",
       "    <tr>\n",
       "      <th>31</th>\n",
       "      <td>0.005746</td>\n",
       "      <td>-0.249162</td>\n",
       "      <td>-0.400000</td>\n",
       "    </tr>\n",
       "    <tr>\n",
       "      <th>32</th>\n",
       "      <td>0.462197</td>\n",
       "      <td>1.019477</td>\n",
       "      <td>0.388889</td>\n",
       "    </tr>\n",
       "    <tr>\n",
       "      <th>33</th>\n",
       "      <td>-0.939595</td>\n",
       "      <td>-0.942610</td>\n",
       "      <td>-0.080127</td>\n",
       "    </tr>\n",
       "    <tr>\n",
       "      <th>35</th>\n",
       "      <td>-0.651252</td>\n",
       "      <td>-0.532262</td>\n",
       "      <td>0.316051</td>\n",
       "    </tr>\n",
       "    <tr>\n",
       "      <th>36</th>\n",
       "      <td>-0.309064</td>\n",
       "      <td>-0.346339</td>\n",
       "      <td>0.057305</td>\n",
       "    </tr>\n",
       "    <tr>\n",
       "      <th>37</th>\n",
       "      <td>-0.396319</td>\n",
       "      <td>-0.772888</td>\n",
       "      <td>-0.232153</td>\n",
       "    </tr>\n",
       "    <tr>\n",
       "      <th>38</th>\n",
       "      <td>-0.393418</td>\n",
       "      <td>-0.399630</td>\n",
       "      <td>0.013606</td>\n",
       "    </tr>\n",
       "    <tr>\n",
       "      <th>39</th>\n",
       "      <td>-0.961725</td>\n",
       "      <td>-0.963690</td>\n",
       "      <td>0.245250</td>\n",
       "    </tr>\n",
       "    <tr>\n",
       "      <th>40</th>\n",
       "      <td>0.903123</td>\n",
       "      <td>0.501406</td>\n",
       "      <td>-0.185703</td>\n",
       "    </tr>\n",
       "    <tr>\n",
       "      <th>41</th>\n",
       "      <td>0.006380</td>\n",
       "      <td>0.040776</td>\n",
       "      <td>-0.050633</td>\n",
       "    </tr>\n",
       "    <tr>\n",
       "      <th>42</th>\n",
       "      <td>-0.031156</td>\n",
       "      <td>-0.169074</td>\n",
       "      <td>-0.174970</td>\n",
       "    </tr>\n",
       "    <tr>\n",
       "      <th>43</th>\n",
       "      <td>0.591736</td>\n",
       "      <td>0.307785</td>\n",
       "      <td>-0.141099</td>\n",
       "    </tr>\n",
       "    <tr>\n",
       "      <th>44</th>\n",
       "      <td>-0.155153</td>\n",
       "      <td>0.244561</td>\n",
       "      <td>0.403441</td>\n",
       "    </tr>\n",
       "    <tr>\n",
       "      <th>45</th>\n",
       "      <td>0.194334</td>\n",
       "      <td>0.416932</td>\n",
       "      <td>0.002815</td>\n",
       "    </tr>\n",
       "    <tr>\n",
       "      <th>47</th>\n",
       "      <td>-0.636826</td>\n",
       "      <td>-0.590374</td>\n",
       "      <td>0.039191</td>\n",
       "    </tr>\n",
       "    <tr>\n",
       "      <th>48</th>\n",
       "      <td>-0.296308</td>\n",
       "      <td>-0.283320</td>\n",
       "      <td>0.045455</td>\n",
       "    </tr>\n",
       "    <tr>\n",
       "      <th>49</th>\n",
       "      <td>-0.044778</td>\n",
       "      <td>0.134438</td>\n",
       "      <td>0.157895</td>\n",
       "    </tr>\n",
       "    <tr>\n",
       "      <th>50</th>\n",
       "      <td>-0.987588</td>\n",
       "      <td>-0.988566</td>\n",
       "      <td>-0.082725</td>\n",
       "    </tr>\n",
       "  </tbody>\n",
       "</table>\n",
       "</div>"
      ],
      "text/plain": [
       "            Dif_price_per_unit Dif_sales_revenue Dif_units_sold\n",
       "region                       5                 5              5\n",
       "product_sku                                                    \n",
       "1                     0.029756          0.751673       0.625668\n",
       "4                    -0.212037         -0.095355       0.022392\n",
       "5                     0.292478          0.086734      -0.213456\n",
       "6                     3.013675          4.047903       0.377021\n",
       "9                    -0.650007         -0.455052       0.149621\n",
       "10                    3.590456          3.465206       0.056281\n",
       "11                    0.292488          0.186556      -0.068312\n",
       "12                   -0.096810         -0.321430      -0.214286\n",
       "13                    0.057628         -0.543768      -0.443251\n",
       "14                   -0.117570         -0.238331      -0.111640\n",
       "15                   -0.195278         -0.111596       0.084448\n",
       "16                   -0.603419         -0.684376      -0.085405\n",
       "17                    0.571959          0.730830       0.052207\n",
       "18                    0.082585          0.106528       0.033330\n",
       "20                   -0.122513          0.010908       0.040486\n",
       "21                    0.184403          0.179000       0.098475\n",
       "23                   -0.481735         -0.446999      -0.006806\n",
       "24                    1.558270          0.085097      -0.608525\n",
       "25                    0.381769          0.039832      -0.256476\n",
       "27                   -0.039610          0.212507       0.270599\n",
       "29                    0.159549          0.193750       0.009032\n",
       "31                    0.005746         -0.249162      -0.400000\n",
       "32                    0.462197          1.019477       0.388889\n",
       "33                   -0.939595         -0.942610      -0.080127\n",
       "35                   -0.651252         -0.532262       0.316051\n",
       "36                   -0.309064         -0.346339       0.057305\n",
       "37                   -0.396319         -0.772888      -0.232153\n",
       "38                   -0.393418         -0.399630       0.013606\n",
       "39                   -0.961725         -0.963690       0.245250\n",
       "40                    0.903123          0.501406      -0.185703\n",
       "41                    0.006380          0.040776      -0.050633\n",
       "42                   -0.031156         -0.169074      -0.174970\n",
       "43                    0.591736          0.307785      -0.141099\n",
       "44                   -0.155153          0.244561       0.403441\n",
       "45                    0.194334          0.416932       0.002815\n",
       "47                   -0.636826         -0.590374       0.039191\n",
       "48                   -0.296308         -0.283320       0.045455\n",
       "49                   -0.044778          0.134438       0.157895\n",
       "50                   -0.987588         -0.988566      -0.082725"
      ]
     },
     "execution_count": 576,
     "metadata": {},
     "output_type": "execute_result"
    }
   ],
   "source": [
    "p = regiondataframe.pivot_table(index='product_sku', columns='region', values=['Dif_sales_revenue',\n",
    "                                                                  'Dif_price_per_unit', \n",
    "                                                                  'Dif_units_sold'])\n",
    "p"
   ]
  },
  {
   "attachments": {},
   "cell_type": "markdown",
   "metadata": {},
   "source": [
    "Then a summary pivot table with the differential statistics for the single region for each product as the index is sprinted. This will allow the manager and VP of sales to directly compare the scenarios with the ones on the word document. If a product is missing then that product is not sold by that region.\n",
    "\n",
    "Running through the tool with input(5)\n",
    "\n",
    "product_sku 1 is of the high/high/high scenario \n",
    "\n",
    "This entails that means region_5 can extract a higher value with a higher volume of product_1 which is a result of a good strategy and high demand for product_1 as the sales revenue of product_1 in Region_5 is above average \n",
    "\n",
    "Therefore managers continue implementing this strategy as it is working, and note that this product is highly desired\n",
    "\n",
    "Therfore VP should reward this manager as they implemented a unique strategy for this product and think about expanding this product to other regions based on overall sales_revenue\n",
    "\n",
    "Looking back at step 3c product 1 has mid to low range sales comparatively to the rest of the product. Furthermore, in 2024 it is not doing the best based on the data year to date as it only slighlty above 2000 units. Thereofre all this is a good product for Region_5 it is not fit for expansion into the 2025 year.\n",
    "\n",
    "product_sku 2 is not on the list which indicates that it is not being sold by Region 5\n",
    "\n",
    "Looking at step 3c you can see that the product 2 although overall better than product one is a mid range product. Furthmore, product 2 has steadily been decreasing over the years based on the graphs from 2022 to 2024. Therefore, in 2025 this is not a product region 5 should adopt as a part of its sales strategy for 2025 year.\n",
    "\n",
    "product_sku 4 is of the low/low/high scenario \n",
    "\n",
    "According to the table this demonstrates region 5 is undercharging for Product_4, causing customers who would have paid at a higher price to obtain it for cheaper as the units_sold is above average in product_4 while the sales_revenue and price_per_unit for product_4 in region_5 is below average.\n",
    "\n",
    "Therefore the manger should lower the volume for this product and increase the price as then you can increase sales_revenue. This makes sense as the product is currently being bought hire the average meaning its in demand; however, Region 5 cannot extract value out of that product.\n",
    "\n",
    "Furthemore, the VP of sales needs to train this manager as they need to know when to increase price and lower volume of a product.\n",
    "\n",
    "Looking back at 3c product_4 was doing well in 2022 and has since declined being at a sales value of approximaetly 4000. However it is still able to generate decent sales for the company so maybe the sales pitch, marketing, or target audience should be changed in order to gain more value.\n",
    "\n",
    "As shown by combining this tool along with the graph from 3c insights that are generated from both the breadth and depth of analysis are creating powerful recommendations for just 3 products for one region of the company."
   ]
  },
  {
   "cell_type": "code",
   "execution_count": 577,
   "metadata": {},
   "outputs": [
    {
     "data": {
      "text/plain": [
       "<Axes: xlabel='year_sold', ylabel='sales_revenue'>"
      ]
     },
     "execution_count": 577,
     "metadata": {},
     "output_type": "execute_result"
    },
    {
     "data": {
      "image/png": "[encoded data removed]",
      "text/plain": [
       "<Figure size 640x480 with 1 Axes>"
      ]
     },
     "metadata": {},
     "output_type": "display_data"
    }
   ],
   "source": [
    "sns.barplot(x='year_sold',y='sales_revenue',data=regiondataframe, estimator=sum, errorbar=None)"
   ]
  },
  {
   "attachments": {},
   "cell_type": "markdown",
   "metadata": {},
   "source": [
    "With this code the oupt of the region's sales_revenue by year bar graph will be displayed.\n",
    "\n",
    "For region 5 it is clear that 2023 was its best year as discovered in the previous analysis."
   ]
  },
  {
   "cell_type": "code",
   "execution_count": 579,
   "metadata": {},
   "outputs": [
    {
     "data": {
      "text/plain": [
       "<Axes: xlabel='month_sold', ylabel='sales_revenue'>"
      ]
     },
     "execution_count": 579,
     "metadata": {},
     "output_type": "execute_result"
    },
    {
     "data": {
      "image/png": "[encoded data removed]",
      "text/plain": [
       "<Figure size 640x480 with 1 Axes>"
      ]
     },
     "metadata": {},
     "output_type": "display_data"
    }
   ],
   "source": [
    "sns.barplot(x='month_sold',y='sales_revenue',data=regiondataframe, errorbar=None)\n"
   ]
  },
  {
   "attachments": {},
   "cell_type": "markdown",
   "metadata": {},
   "source": [
    "With this code the oupt of the region's sales_revenue by month bar graph will be displayed.\n",
    "\n",
    "For region 5 it is clear that July, Augustm and October are its best months. IT is also clear that January, May, and September are the worst months."
   ]
  },
  {
   "cell_type": "code",
   "execution_count": 581,
   "metadata": {},
   "outputs": [
    {
     "data": {
      "text/plain": [
       "<Axes: xlabel='quarter_sold', ylabel='sales_revenue'>"
      ]
     },
     "execution_count": 581,
     "metadata": {},
     "output_type": "execute_result"
    },
    {
     "data": {
      "image/png": "[encoded data removed]",
      "text/plain": [
       "<Figure size 640x480 with 1 Axes>"
      ]
     },
     "metadata": {},
     "output_type": "display_data"
    }
   ],
   "source": [
    "sns.barplot(x='quarter_sold',y='sales_revenue',data=regiondataframe, errorbar=None)\n"
   ]
  },
  {
   "attachments": {},
   "cell_type": "markdown",
   "metadata": {},
   "source": [
    "With this code the oupt of the region's sales_revenue by quarter bar graph will be displayed.\n",
    "\n",
    "It is clear that quarter 3 is the best quarter on average; however, note that it could change with the availbilty of data.\n"
   ]
  },
  {
   "attachments": {},
   "cell_type": "markdown",
   "metadata": {},
   "source": [
    "To summarize this Assignment:\n",
    "\n",
    "We were provided a sales_data.csv for an ecommerce company with a goal of recommending several insights for their strategy next year.\n",
    "\n",
    "While answering the following questions:\n",
    "\n",
    "1) What conclusions can you draw about sales performance of various products and regions?\n",
    "\n",
    "2) What recommendations do you have for the business?\n",
    "\n",
    "3) Describe your data cleaning approach. How and why did you decide on which cleaning techniques to use?\n",
    "\n",
    "I started off this assignment by stating three steps.\n",
    "\n",
    "I used step 1 Cleaning the Data to answer question 3. I described my data cleaning approach through the annotation all the cells for ease of use for a future data scientist to pick off where I left of.\n",
    "\n",
    "I used step 2 to partially answer question 3 by futher demonstratng my ability to manipulate the data.\n",
    "\n",
    "Then I used step 3a to ouptut some basic summary statistics to get overall conclusions about sales performancee of various projects and regions.\n",
    "\n",
    "I used step 3b to further build upon recommendations by turning strategic insights into recommendations that can be easily acted upon.\n",
    "\n",
    "I then used step 3c and 3d to show how specific points and data insights can be combined with overall picture of data to demonstrate recommendations that use both eh breadth and depth of my data analysis.\n",
    "\n",
    "Overall I hope throghout this process I have not only recommended strategic insights for regional sales managers and the VP of Sales but also provided a tool along with a word document that will easily guide both managers along with the VP to create insights along with recommendations of their own. Lastly, I hope that a data scientist hired by the company can further build upon my work to create a more efficient sales strategy by setting up better data reporting standards."
   ]
  }
 ],
 "metadata": {
  "kernelspec": {
   "display_name": "Python 3",
   "language": "python",
   "name": "python3"
  },
  "language_info": {
   "codemirror_mode": {
    "name": "ipython",
    "version": 3
   },
   "file_extension": ".py",
   "mimetype": "text/x-python",
   "name": "python",
   "nbconvert_exporter": "python",
   "pygments_lexer": "ipython3",
   "version": "3.10.7"
  },
  "orig_nbformat": 4
 },
 "nbformat": 4,
 "nbformat_minor": 2
}
