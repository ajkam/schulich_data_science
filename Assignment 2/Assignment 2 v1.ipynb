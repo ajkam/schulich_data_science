{
 "cells": [
  {
   "attachments": {},
   "cell_type": "markdown",
   "metadata": {},
   "source": [
    "The objective for data analysis. I am assuming the role of a product analyst at a mobile application company. I have just finished running an A/B test surrounding two variants of a key feature. The data received was CTR and Average Time Spent in minutes along with some demographic qualifiers.\n",
    "\n",
    "My Approach will be to prepare a data analysis report with each step annotated so that someone in the future will be able to understand my code.\n",
    "\n",
    "The report will aim to complete the tasks listed:\n",
    "\n",
    "1. Analyze the results to determine which feature (if any) results in CTR or Time Spent lift.\n",
    "\n",
    "2. Conduct statistical testing to determine if there is a statistically significant difference between the features and the control group.\n",
    "\n",
    "3. Summarize your results. Make a recommendation to the engineering team about which feature to deploy. \n",
    "\n",
    "4. Create a roll-out plan. How quickly will you introduce the feature to your audience?"
   ]
  },
  {
   "cell_type": "code",
   "execution_count": 24,
   "metadata": {},
   "outputs": [],
   "source": [
    "import pandas as pd\n",
    "import seaborn as sns\n",
    "import numpy as np\n",
    "import matplotlib.pyplot as plt\n",
    "import math\n",
    "import scipy.stats\n",
    "from scipy import stats"
   ]
  },
  {
   "attachments": {},
   "cell_type": "markdown",
   "metadata": {},
   "source": [
    "Firstly all the necessary python libraries will be imported"
   ]
  },
  {
   "cell_type": "code",
   "execution_count": 25,
   "metadata": {},
   "outputs": [],
   "source": [
    "df = pd.read_csv(\"https://raw.githubusercontent.com/ajkam/schulich_data_science/main/Assignment%202/experiment_dataset.csv\")"
   ]
  },
  {
   "attachments": {},
   "cell_type": "markdown",
   "metadata": {},
   "source": [
    "Then the dataset will be read by python to be put into a pandas data frame. The data is located on my github."
   ]
  },
  {
   "attachments": {},
   "cell_type": "markdown",
   "metadata": {},
   "source": [
    "# Step 1: Analyze the results to determine if there is any lift\n",
    "\n",
    "This will help us understand if the Variant has resulted in any change in the key metrics CTR and Time Spent that were tracked throughout the experiment."
   ]
  },
  {
   "cell_type": "code",
   "execution_count": 59,
   "metadata": {},
   "outputs": [
    {
     "data": {
      "text/html": [
       "<div>\n",
       "<style scoped>\n",
       "    .dataframe tbody tr th:only-of-type {\n",
       "        vertical-align: middle;\n",
       "    }\n",
       "\n",
       "    .dataframe tbody tr th {\n",
       "        vertical-align: top;\n",
       "    }\n",
       "\n",
       "    .dataframe thead th {\n",
       "        text-align: right;\n",
       "    }\n",
       "</style>\n",
       "<table border=\"1\" class=\"dataframe\">\n",
       "  <thead>\n",
       "    <tr style=\"text-align: right;\">\n",
       "      <th></th>\n",
       "      <th>Unnamed: 0</th>\n",
       "      <th>Age</th>\n",
       "      <th>Location</th>\n",
       "      <th>Device</th>\n",
       "      <th>Variant</th>\n",
       "      <th>Time Spent</th>\n",
       "      <th>CTR</th>\n",
       "    </tr>\n",
       "  </thead>\n",
       "  <tbody>\n",
       "    <tr>\n",
       "      <th>0</th>\n",
       "      <td>0</td>\n",
       "      <td>62</td>\n",
       "      <td>Location2</td>\n",
       "      <td>Device2</td>\n",
       "      <td>Control</td>\n",
       "      <td>13.928669</td>\n",
       "      <td>0.084776</td>\n",
       "    </tr>\n",
       "    <tr>\n",
       "      <th>1</th>\n",
       "      <td>1</td>\n",
       "      <td>18</td>\n",
       "      <td>Location1</td>\n",
       "      <td>Device1</td>\n",
       "      <td>Variant B</td>\n",
       "      <td>11.310518</td>\n",
       "      <td>0.096859</td>\n",
       "    </tr>\n",
       "    <tr>\n",
       "      <th>2</th>\n",
       "      <td>2</td>\n",
       "      <td>21</td>\n",
       "      <td>Location2</td>\n",
       "      <td>Device1</td>\n",
       "      <td>Variant B</td>\n",
       "      <td>24.842100</td>\n",
       "      <td>0.097630</td>\n",
       "    </tr>\n",
       "    <tr>\n",
       "      <th>3</th>\n",
       "      <td>3</td>\n",
       "      <td>21</td>\n",
       "      <td>Location1</td>\n",
       "      <td>Device3</td>\n",
       "      <td>Variant B</td>\n",
       "      <td>20.061300</td>\n",
       "      <td>0.109783</td>\n",
       "    </tr>\n",
       "    <tr>\n",
       "      <th>4</th>\n",
       "      <td>4</td>\n",
       "      <td>57</td>\n",
       "      <td>Location1</td>\n",
       "      <td>Device2</td>\n",
       "      <td>Variant B</td>\n",
       "      <td>34.495503</td>\n",
       "      <td>0.068579</td>\n",
       "    </tr>\n",
       "    <tr>\n",
       "      <th>5</th>\n",
       "      <td>5</td>\n",
       "      <td>27</td>\n",
       "      <td>Location3</td>\n",
       "      <td>Device1</td>\n",
       "      <td>Variant B</td>\n",
       "      <td>26.129246</td>\n",
       "      <td>0.149341</td>\n",
       "    </tr>\n",
       "    <tr>\n",
       "      <th>6</th>\n",
       "      <td>6</td>\n",
       "      <td>37</td>\n",
       "      <td>Location3</td>\n",
       "      <td>Device3</td>\n",
       "      <td>Variant B</td>\n",
       "      <td>20.525362</td>\n",
       "      <td>0.095788</td>\n",
       "    </tr>\n",
       "    <tr>\n",
       "      <th>7</th>\n",
       "      <td>7</td>\n",
       "      <td>39</td>\n",
       "      <td>Location2</td>\n",
       "      <td>Device1</td>\n",
       "      <td>Variant A</td>\n",
       "      <td>21.525217</td>\n",
       "      <td>0.149985</td>\n",
       "    </tr>\n",
       "    <tr>\n",
       "      <th>8</th>\n",
       "      <td>8</td>\n",
       "      <td>54</td>\n",
       "      <td>Location3</td>\n",
       "      <td>Device2</td>\n",
       "      <td>Control</td>\n",
       "      <td>21.910608</td>\n",
       "      <td>0.135535</td>\n",
       "    </tr>\n",
       "    <tr>\n",
       "      <th>9</th>\n",
       "      <td>9</td>\n",
       "      <td>41</td>\n",
       "      <td>Location1</td>\n",
       "      <td>Device2</td>\n",
       "      <td>Variant A</td>\n",
       "      <td>27.642788</td>\n",
       "      <td>0.137266</td>\n",
       "    </tr>\n",
       "    <tr>\n",
       "      <th>10</th>\n",
       "      <td>10</td>\n",
       "      <td>24</td>\n",
       "      <td>Location2</td>\n",
       "      <td>Device3</td>\n",
       "      <td>Variant B</td>\n",
       "      <td>21.113016</td>\n",
       "      <td>0.120459</td>\n",
       "    </tr>\n",
       "    <tr>\n",
       "      <th>11</th>\n",
       "      <td>11</td>\n",
       "      <td>42</td>\n",
       "      <td>Location2</td>\n",
       "      <td>Device3</td>\n",
       "      <td>Variant B</td>\n",
       "      <td>19.659044</td>\n",
       "      <td>0.092851</td>\n",
       "    </tr>\n",
       "    <tr>\n",
       "      <th>12</th>\n",
       "      <td>12</td>\n",
       "      <td>42</td>\n",
       "      <td>Location2</td>\n",
       "      <td>Device3</td>\n",
       "      <td>Variant B</td>\n",
       "      <td>32.975053</td>\n",
       "      <td>0.137640</td>\n",
       "    </tr>\n",
       "    <tr>\n",
       "      <th>13</th>\n",
       "      <td>13</td>\n",
       "      <td>30</td>\n",
       "      <td>Location2</td>\n",
       "      <td>Device3</td>\n",
       "      <td>Variant A</td>\n",
       "      <td>26.208502</td>\n",
       "      <td>0.087875</td>\n",
       "    </tr>\n",
       "    <tr>\n",
       "      <th>14</th>\n",
       "      <td>14</td>\n",
       "      <td>19</td>\n",
       "      <td>Location3</td>\n",
       "      <td>Device3</td>\n",
       "      <td>Variant B</td>\n",
       "      <td>21.334800</td>\n",
       "      <td>0.129878</td>\n",
       "    </tr>\n",
       "    <tr>\n",
       "      <th>15</th>\n",
       "      <td>15</td>\n",
       "      <td>56</td>\n",
       "      <td>Location2</td>\n",
       "      <td>Device2</td>\n",
       "      <td>Variant A</td>\n",
       "      <td>7.800901</td>\n",
       "      <td>0.069781</td>\n",
       "    </tr>\n",
       "    <tr>\n",
       "      <th>16</th>\n",
       "      <td>16</td>\n",
       "      <td>57</td>\n",
       "      <td>Location1</td>\n",
       "      <td>Device3</td>\n",
       "      <td>Control</td>\n",
       "      <td>37.527368</td>\n",
       "      <td>0.130966</td>\n",
       "    </tr>\n",
       "    <tr>\n",
       "      <th>17</th>\n",
       "      <td>17</td>\n",
       "      <td>41</td>\n",
       "      <td>Location2</td>\n",
       "      <td>Device3</td>\n",
       "      <td>Variant A</td>\n",
       "      <td>32.699437</td>\n",
       "      <td>0.114626</td>\n",
       "    </tr>\n",
       "    <tr>\n",
       "      <th>18</th>\n",
       "      <td>18</td>\n",
       "      <td>64</td>\n",
       "      <td>Location3</td>\n",
       "      <td>Device3</td>\n",
       "      <td>Variant A</td>\n",
       "      <td>21.057186</td>\n",
       "      <td>0.101044</td>\n",
       "    </tr>\n",
       "    <tr>\n",
       "      <th>19</th>\n",
       "      <td>19</td>\n",
       "      <td>42</td>\n",
       "      <td>Location1</td>\n",
       "      <td>Device3</td>\n",
       "      <td>Control</td>\n",
       "      <td>21.532687</td>\n",
       "      <td>0.081168</td>\n",
       "    </tr>\n",
       "  </tbody>\n",
       "</table>\n",
       "</div>"
      ],
      "text/plain": [
       "    Unnamed: 0  Age   Location   Device    Variant  Time Spent       CTR\n",
       "0            0   62  Location2  Device2    Control   13.928669  0.084776\n",
       "1            1   18  Location1  Device1  Variant B   11.310518  0.096859\n",
       "2            2   21  Location2  Device1  Variant B   24.842100  0.097630\n",
       "3            3   21  Location1  Device3  Variant B   20.061300  0.109783\n",
       "4            4   57  Location1  Device2  Variant B   34.495503  0.068579\n",
       "5            5   27  Location3  Device1  Variant B   26.129246  0.149341\n",
       "6            6   37  Location3  Device3  Variant B   20.525362  0.095788\n",
       "7            7   39  Location2  Device1  Variant A   21.525217  0.149985\n",
       "8            8   54  Location3  Device2    Control   21.910608  0.135535\n",
       "9            9   41  Location1  Device2  Variant A   27.642788  0.137266\n",
       "10          10   24  Location2  Device3  Variant B   21.113016  0.120459\n",
       "11          11   42  Location2  Device3  Variant B   19.659044  0.092851\n",
       "12          12   42  Location2  Device3  Variant B   32.975053  0.137640\n",
       "13          13   30  Location2  Device3  Variant A   26.208502  0.087875\n",
       "14          14   19  Location3  Device3  Variant B   21.334800  0.129878\n",
       "15          15   56  Location2  Device2  Variant A    7.800901  0.069781\n",
       "16          16   57  Location1  Device3    Control   37.527368  0.130966\n",
       "17          17   41  Location2  Device3  Variant A   32.699437  0.114626\n",
       "18          18   64  Location3  Device3  Variant A   21.057186  0.101044\n",
       "19          19   42  Location1  Device3    Control   21.532687  0.081168"
      ]
     },
     "execution_count": 59,
     "metadata": {},
     "output_type": "execute_result"
    }
   ],
   "source": [
    "df.head(20)"
   ]
  },
  {
   "attachments": {},
   "cell_type": "markdown",
   "metadata": {},
   "source": [
    "View the first 20 rows of data to get an idea of what we are working with"
   ]
  },
  {
   "cell_type": "code",
   "execution_count": 27,
   "metadata": {},
   "outputs": [
    {
     "name": "stdout",
     "output_type": "stream",
     "text": [
      "<class 'pandas.core.frame.DataFrame'>\n",
      "RangeIndex: 1000 entries, 0 to 999\n",
      "Data columns (total 7 columns):\n",
      " #   Column      Non-Null Count  Dtype  \n",
      "---  ------      --------------  -----  \n",
      " 0   Unnamed: 0  1000 non-null   int64  \n",
      " 1   Age         1000 non-null   int64  \n",
      " 2   Location    1000 non-null   object \n",
      " 3   Device      1000 non-null   object \n",
      " 4   Variant     1000 non-null   object \n",
      " 5   Time Spent  1000 non-null   float64\n",
      " 6   CTR         1000 non-null   float64\n",
      "dtypes: float64(2), int64(2), object(3)\n",
      "memory usage: 54.8+ KB\n"
     ]
    }
   ],
   "source": [
    "df.info()"
   ]
  },
  {
   "attachments": {},
   "cell_type": "markdown",
   "metadata": {},
   "source": [
    "Understand key information about the dataset"
   ]
  },
  {
   "cell_type": "code",
   "execution_count": 28,
   "metadata": {},
   "outputs": [
    {
     "data": {
      "text/html": [
       "<div>\n",
       "<style scoped>\n",
       "    .dataframe tbody tr th:only-of-type {\n",
       "        vertical-align: middle;\n",
       "    }\n",
       "\n",
       "    .dataframe tbody tr th {\n",
       "        vertical-align: top;\n",
       "    }\n",
       "\n",
       "    .dataframe thead th {\n",
       "        text-align: right;\n",
       "    }\n",
       "</style>\n",
       "<table border=\"1\" class=\"dataframe\">\n",
       "  <thead>\n",
       "    <tr style=\"text-align: right;\">\n",
       "      <th></th>\n",
       "      <th>Unnamed: 0</th>\n",
       "      <th>Age</th>\n",
       "      <th>Time Spent</th>\n",
       "      <th>CTR</th>\n",
       "    </tr>\n",
       "  </thead>\n",
       "  <tbody>\n",
       "    <tr>\n",
       "      <th>count</th>\n",
       "      <td>1000.000000</td>\n",
       "      <td>1000.000000</td>\n",
       "      <td>1000.000000</td>\n",
       "      <td>1000.000000</td>\n",
       "    </tr>\n",
       "    <tr>\n",
       "      <th>mean</th>\n",
       "      <td>499.500000</td>\n",
       "      <td>40.715000</td>\n",
       "      <td>22.713345</td>\n",
       "      <td>0.109145</td>\n",
       "    </tr>\n",
       "    <tr>\n",
       "      <th>std</th>\n",
       "      <td>288.819436</td>\n",
       "      <td>13.655557</td>\n",
       "      <td>5.479292</td>\n",
       "      <td>0.022366</td>\n",
       "    </tr>\n",
       "    <tr>\n",
       "      <th>min</th>\n",
       "      <td>0.000000</td>\n",
       "      <td>18.000000</td>\n",
       "      <td>7.114806</td>\n",
       "      <td>0.012975</td>\n",
       "    </tr>\n",
       "    <tr>\n",
       "      <th>25%</th>\n",
       "      <td>249.750000</td>\n",
       "      <td>28.000000</td>\n",
       "      <td>19.216608</td>\n",
       "      <td>0.094286</td>\n",
       "    </tr>\n",
       "    <tr>\n",
       "      <th>50%</th>\n",
       "      <td>499.500000</td>\n",
       "      <td>41.000000</td>\n",
       "      <td>22.506707</td>\n",
       "      <td>0.108944</td>\n",
       "    </tr>\n",
       "    <tr>\n",
       "      <th>75%</th>\n",
       "      <td>749.250000</td>\n",
       "      <td>53.000000</td>\n",
       "      <td>26.255950</td>\n",
       "      <td>0.124238</td>\n",
       "    </tr>\n",
       "    <tr>\n",
       "      <th>max</th>\n",
       "      <td>999.000000</td>\n",
       "      <td>64.000000</td>\n",
       "      <td>39.395770</td>\n",
       "      <td>0.172728</td>\n",
       "    </tr>\n",
       "  </tbody>\n",
       "</table>\n",
       "</div>"
      ],
      "text/plain": [
       "        Unnamed: 0          Age   Time Spent          CTR\n",
       "count  1000.000000  1000.000000  1000.000000  1000.000000\n",
       "mean    499.500000    40.715000    22.713345     0.109145\n",
       "std     288.819436    13.655557     5.479292     0.022366\n",
       "min       0.000000    18.000000     7.114806     0.012975\n",
       "25%     249.750000    28.000000    19.216608     0.094286\n",
       "50%     499.500000    41.000000    22.506707     0.108944\n",
       "75%     749.250000    53.000000    26.255950     0.124238\n",
       "max     999.000000    64.000000    39.395770     0.172728"
      ]
     },
     "execution_count": 28,
     "metadata": {},
     "output_type": "execute_result"
    }
   ],
   "source": [
    "df.describe()"
   ]
  },
  {
   "attachments": {},
   "cell_type": "markdown",
   "metadata": {},
   "source": [
    "Describe the main measures of central tendency and other important factors of the dataset"
   ]
  },
  {
   "cell_type": "code",
   "execution_count": 29,
   "metadata": {},
   "outputs": [
    {
     "name": "stdout",
     "output_type": "stream",
     "text": [
      "['Location2' 'Location1' 'Location3']\n"
     ]
    }
   ],
   "source": [
    "print(df['Location'].unique())"
   ]
  },
  {
   "attachments": {},
   "cell_type": "markdown",
   "metadata": {},
   "source": [
    "Understand how many unique locations there are"
   ]
  },
  {
   "cell_type": "code",
   "execution_count": 30,
   "metadata": {},
   "outputs": [
    {
     "name": "stdout",
     "output_type": "stream",
     "text": [
      "['Device2' 'Device1' 'Device3']\n"
     ]
    }
   ],
   "source": [
    "print(df['Device'].unique())"
   ]
  },
  {
   "attachments": {},
   "cell_type": "markdown",
   "metadata": {},
   "source": [
    "Understand how many unique devices there are"
   ]
  },
  {
   "cell_type": "code",
   "execution_count": 31,
   "metadata": {},
   "outputs": [
    {
     "name": "stdout",
     "output_type": "stream",
     "text": [
      "[62 18 21 57 27 37 39 54 41 24 42 30 19 56 64 35 55 43 31 26 38 34 23 33\n",
      " 36 53 47 32 50 49 28 29 46 52 58 22 59 60 45 48 61 20 40 44 63 51 25]\n"
     ]
    }
   ],
   "source": [
    "print(df['Age'].unique())"
   ]
  },
  {
   "attachments": {},
   "cell_type": "markdown",
   "metadata": {},
   "source": [
    "Understand how many unique Ages there are"
   ]
  },
  {
   "cell_type": "code",
   "execution_count": 32,
   "metadata": {},
   "outputs": [
    {
     "name": "stdout",
     "output_type": "stream",
     "text": [
      "['Control' 'Variant B' 'Variant A']\n"
     ]
    }
   ],
   "source": [
    "print(df['Variant'].unique())"
   ]
  },
  {
   "attachments": {},
   "cell_type": "markdown",
   "metadata": {},
   "source": [
    "Understand how many unique Variants are"
   ]
  },
  {
   "cell_type": "code",
   "execution_count": 33,
   "metadata": {},
   "outputs": [
    {
     "data": {
      "text/html": [
       "<div>\n",
       "<style scoped>\n",
       "    .dataframe tbody tr th:only-of-type {\n",
       "        vertical-align: middle;\n",
       "    }\n",
       "\n",
       "    .dataframe tbody tr th {\n",
       "        vertical-align: top;\n",
       "    }\n",
       "\n",
       "    .dataframe thead th {\n",
       "        text-align: right;\n",
       "    }\n",
       "</style>\n",
       "<table border=\"1\" class=\"dataframe\">\n",
       "  <thead>\n",
       "    <tr style=\"text-align: right;\">\n",
       "      <th></th>\n",
       "      <th>Unnamed: 0</th>\n",
       "      <th>Age</th>\n",
       "      <th>Time Spent</th>\n",
       "      <th>CTR</th>\n",
       "    </tr>\n",
       "  </thead>\n",
       "  <tbody>\n",
       "    <tr>\n",
       "      <th>count</th>\n",
       "      <td>330.000000</td>\n",
       "      <td>330.000000</td>\n",
       "      <td>330.000000</td>\n",
       "      <td>330.000000</td>\n",
       "    </tr>\n",
       "    <tr>\n",
       "      <th>mean</th>\n",
       "      <td>503.448485</td>\n",
       "      <td>39.778788</td>\n",
       "      <td>24.805547</td>\n",
       "      <td>0.120269</td>\n",
       "    </tr>\n",
       "    <tr>\n",
       "      <th>std</th>\n",
       "      <td>292.544666</td>\n",
       "      <td>13.335836</td>\n",
       "      <td>4.964324</td>\n",
       "      <td>0.020109</td>\n",
       "    </tr>\n",
       "    <tr>\n",
       "      <th>min</th>\n",
       "      <td>7.000000</td>\n",
       "      <td>18.000000</td>\n",
       "      <td>7.800901</td>\n",
       "      <td>0.065667</td>\n",
       "    </tr>\n",
       "    <tr>\n",
       "      <th>25%</th>\n",
       "      <td>267.250000</td>\n",
       "      <td>28.000000</td>\n",
       "      <td>21.353587</td>\n",
       "      <td>0.107731</td>\n",
       "    </tr>\n",
       "    <tr>\n",
       "      <th>50%</th>\n",
       "      <td>492.000000</td>\n",
       "      <td>39.000000</td>\n",
       "      <td>24.955120</td>\n",
       "      <td>0.120203</td>\n",
       "    </tr>\n",
       "    <tr>\n",
       "      <th>75%</th>\n",
       "      <td>753.000000</td>\n",
       "      <td>51.000000</td>\n",
       "      <td>28.361732</td>\n",
       "      <td>0.134230</td>\n",
       "    </tr>\n",
       "    <tr>\n",
       "      <th>max</th>\n",
       "      <td>993.000000</td>\n",
       "      <td>64.000000</td>\n",
       "      <td>39.246751</td>\n",
       "      <td>0.172728</td>\n",
       "    </tr>\n",
       "  </tbody>\n",
       "</table>\n",
       "</div>"
      ],
      "text/plain": [
       "       Unnamed: 0         Age  Time Spent         CTR\n",
       "count  330.000000  330.000000  330.000000  330.000000\n",
       "mean   503.448485   39.778788   24.805547    0.120269\n",
       "std    292.544666   13.335836    4.964324    0.020109\n",
       "min      7.000000   18.000000    7.800901    0.065667\n",
       "25%    267.250000   28.000000   21.353587    0.107731\n",
       "50%    492.000000   39.000000   24.955120    0.120203\n",
       "75%    753.000000   51.000000   28.361732    0.134230\n",
       "max    993.000000   64.000000   39.246751    0.172728"
      ]
     },
     "execution_count": 33,
     "metadata": {},
     "output_type": "execute_result"
    }
   ],
   "source": [
    "Variant_A = df[df.Variant == 'Variant A']\n",
    "Variant_A.describe()"
   ]
  },
  {
   "attachments": {},
   "cell_type": "markdown",
   "metadata": {},
   "source": [
    "Create a Dataframe that contains the data where the Variant column is Variant A. The mean for time spent is 24.81 and the mean for CTR is 0.12. Note that the count is 330 so out of the 1000 data sample 330 users experienced Variant A."
   ]
  },
  {
   "cell_type": "code",
   "execution_count": 34,
   "metadata": {},
   "outputs": [
    {
     "data": {
      "text/html": [
       "<div>\n",
       "<style scoped>\n",
       "    .dataframe tbody tr th:only-of-type {\n",
       "        vertical-align: middle;\n",
       "    }\n",
       "\n",
       "    .dataframe tbody tr th {\n",
       "        vertical-align: top;\n",
       "    }\n",
       "\n",
       "    .dataframe thead th {\n",
       "        text-align: right;\n",
       "    }\n",
       "</style>\n",
       "<table border=\"1\" class=\"dataframe\">\n",
       "  <thead>\n",
       "    <tr style=\"text-align: right;\">\n",
       "      <th></th>\n",
       "      <th>Unnamed: 0</th>\n",
       "      <th>Age</th>\n",
       "      <th>Time Spent</th>\n",
       "      <th>CTR</th>\n",
       "    </tr>\n",
       "  </thead>\n",
       "  <tbody>\n",
       "    <tr>\n",
       "      <th>count</th>\n",
       "      <td>330.000000</td>\n",
       "      <td>330.000000</td>\n",
       "      <td>330.000000</td>\n",
       "      <td>330.000000</td>\n",
       "    </tr>\n",
       "    <tr>\n",
       "      <th>mean</th>\n",
       "      <td>499.427273</td>\n",
       "      <td>41.466667</td>\n",
       "      <td>23.343783</td>\n",
       "      <td>0.108933</td>\n",
       "    </tr>\n",
       "    <tr>\n",
       "      <th>std</th>\n",
       "      <td>287.500859</td>\n",
       "      <td>13.931676</td>\n",
       "      <td>5.239965</td>\n",
       "      <td>0.020988</td>\n",
       "    </tr>\n",
       "    <tr>\n",
       "      <th>min</th>\n",
       "      <td>1.000000</td>\n",
       "      <td>18.000000</td>\n",
       "      <td>9.681810</td>\n",
       "      <td>0.041402</td>\n",
       "    </tr>\n",
       "    <tr>\n",
       "      <th>25%</th>\n",
       "      <td>236.500000</td>\n",
       "      <td>29.000000</td>\n",
       "      <td>19.941617</td>\n",
       "      <td>0.095024</td>\n",
       "    </tr>\n",
       "    <tr>\n",
       "      <th>50%</th>\n",
       "      <td>513.500000</td>\n",
       "      <td>42.000000</td>\n",
       "      <td>23.198123</td>\n",
       "      <td>0.109100</td>\n",
       "    </tr>\n",
       "    <tr>\n",
       "      <th>75%</th>\n",
       "      <td>748.750000</td>\n",
       "      <td>53.000000</td>\n",
       "      <td>26.604511</td>\n",
       "      <td>0.123861</td>\n",
       "    </tr>\n",
       "    <tr>\n",
       "      <th>max</th>\n",
       "      <td>999.000000</td>\n",
       "      <td>64.000000</td>\n",
       "      <td>39.395770</td>\n",
       "      <td>0.166768</td>\n",
       "    </tr>\n",
       "  </tbody>\n",
       "</table>\n",
       "</div>"
      ],
      "text/plain": [
       "       Unnamed: 0         Age  Time Spent         CTR\n",
       "count  330.000000  330.000000  330.000000  330.000000\n",
       "mean   499.427273   41.466667   23.343783    0.108933\n",
       "std    287.500859   13.931676    5.239965    0.020988\n",
       "min      1.000000   18.000000    9.681810    0.041402\n",
       "25%    236.500000   29.000000   19.941617    0.095024\n",
       "50%    513.500000   42.000000   23.198123    0.109100\n",
       "75%    748.750000   53.000000   26.604511    0.123861\n",
       "max    999.000000   64.000000   39.395770    0.166768"
      ]
     },
     "execution_count": 34,
     "metadata": {},
     "output_type": "execute_result"
    }
   ],
   "source": [
    "Variant_B = df[df.Variant == 'Variant B']\n",
    "Variant_B.describe()"
   ]
  },
  {
   "attachments": {},
   "cell_type": "markdown",
   "metadata": {},
   "source": [
    "Create a Dataframe that contains the data where the Variant column is Variant B. The mean for time spent is 23.34 and the mean for CTR is 0.12. Note that the count is 330 so out of the 1000 data sample 330 users experienced Variant B."
   ]
  },
  {
   "cell_type": "code",
   "execution_count": 35,
   "metadata": {},
   "outputs": [
    {
     "data": {
      "text/html": [
       "<div>\n",
       "<style scoped>\n",
       "    .dataframe tbody tr th:only-of-type {\n",
       "        vertical-align: middle;\n",
       "    }\n",
       "\n",
       "    .dataframe tbody tr th {\n",
       "        vertical-align: top;\n",
       "    }\n",
       "\n",
       "    .dataframe thead th {\n",
       "        text-align: right;\n",
       "    }\n",
       "</style>\n",
       "<table border=\"1\" class=\"dataframe\">\n",
       "  <thead>\n",
       "    <tr style=\"text-align: right;\">\n",
       "      <th></th>\n",
       "      <th>Unnamed: 0</th>\n",
       "      <th>Age</th>\n",
       "      <th>Time Spent</th>\n",
       "      <th>CTR</th>\n",
       "    </tr>\n",
       "  </thead>\n",
       "  <tbody>\n",
       "    <tr>\n",
       "      <th>count</th>\n",
       "      <td>340.000000</td>\n",
       "      <td>340.000000</td>\n",
       "      <td>340.000000</td>\n",
       "      <td>340.000000</td>\n",
       "    </tr>\n",
       "    <tr>\n",
       "      <th>mean</th>\n",
       "      <td>495.738235</td>\n",
       "      <td>40.894118</td>\n",
       "      <td>20.070781</td>\n",
       "      <td>0.098554</td>\n",
       "    </tr>\n",
       "    <tr>\n",
       "      <th>std</th>\n",
       "      <td>287.254421</td>\n",
       "      <td>13.679236</td>\n",
       "      <td>5.124183</td>\n",
       "      <td>0.020523</td>\n",
       "    </tr>\n",
       "    <tr>\n",
       "      <th>min</th>\n",
       "      <td>0.000000</td>\n",
       "      <td>18.000000</td>\n",
       "      <td>7.114806</td>\n",
       "      <td>0.012975</td>\n",
       "    </tr>\n",
       "    <tr>\n",
       "      <th>25%</th>\n",
       "      <td>248.000000</td>\n",
       "      <td>28.000000</td>\n",
       "      <td>16.516020</td>\n",
       "      <td>0.084686</td>\n",
       "    </tr>\n",
       "    <tr>\n",
       "      <th>50%</th>\n",
       "      <td>484.000000</td>\n",
       "      <td>41.000000</td>\n",
       "      <td>20.337480</td>\n",
       "      <td>0.098895</td>\n",
       "    </tr>\n",
       "    <tr>\n",
       "      <th>75%</th>\n",
       "      <td>737.500000</td>\n",
       "      <td>53.000000</td>\n",
       "      <td>23.313397</td>\n",
       "      <td>0.111160</td>\n",
       "    </tr>\n",
       "    <tr>\n",
       "      <th>max</th>\n",
       "      <td>997.000000</td>\n",
       "      <td>64.000000</td>\n",
       "      <td>37.527368</td>\n",
       "      <td>0.168363</td>\n",
       "    </tr>\n",
       "  </tbody>\n",
       "</table>\n",
       "</div>"
      ],
      "text/plain": [
       "       Unnamed: 0         Age  Time Spent         CTR\n",
       "count  340.000000  340.000000  340.000000  340.000000\n",
       "mean   495.738235   40.894118   20.070781    0.098554\n",
       "std    287.254421   13.679236    5.124183    0.020523\n",
       "min      0.000000   18.000000    7.114806    0.012975\n",
       "25%    248.000000   28.000000   16.516020    0.084686\n",
       "50%    484.000000   41.000000   20.337480    0.098895\n",
       "75%    737.500000   53.000000   23.313397    0.111160\n",
       "max    997.000000   64.000000   37.527368    0.168363"
      ]
     },
     "execution_count": 35,
     "metadata": {},
     "output_type": "execute_result"
    }
   ],
   "source": [
    "Control = df[df.Variant == 'Control']\n",
    "Control.describe()"
   ]
  },
  {
   "attachments": {},
   "cell_type": "markdown",
   "metadata": {},
   "source": [
    "Create a Dataframe that contains the data where the Variant column is Control. The mean for time spent is 20.07 and the mean for CTR is 0.10. Note that the count is 340 so out of the 1000 data sample 330 users experienced no Variant as they were a part of the Control Group."
   ]
  },
  {
   "cell_type": "code",
   "execution_count": 65,
   "metadata": {},
   "outputs": [
    {
     "data": {
      "text/plain": [
       "Time Spent    39.395770\n",
       "CTR            0.172728\n",
       "dtype: float64"
      ]
     },
     "execution_count": 65,
     "metadata": {},
     "output_type": "execute_result"
    }
   ],
   "source": [
    "df[['Time Spent', 'CTR']].max()\n",
    "\n",
    "\n"
   ]
  },
  {
   "attachments": {},
   "cell_type": "markdown",
   "metadata": {},
   "source": [
    "Find the max of Time Spent and CTR. What is intereseting to note is that the Max Value of CTR does not even exceed 0.2. This demonstrates that most users have not come close to fully clicking throught the feature regardless of Variant."
   ]
  },
  {
   "cell_type": "code",
   "execution_count": 66,
   "metadata": {},
   "outputs": [
    {
     "data": {
      "text/plain": [
       "Time Spent    7.114806\n",
       "CTR           0.012975\n",
       "dtype: float64"
      ]
     },
     "execution_count": 66,
     "metadata": {},
     "output_type": "execute_result"
    }
   ],
   "source": [
    "df[['Time Spent', 'CTR']].min()"
   ]
  },
  {
   "attachments": {},
   "cell_type": "markdown",
   "metadata": {},
   "source": [
    "Find the min of Time Spent and CTR."
   ]
  },
  {
   "cell_type": "code",
   "execution_count": 36,
   "metadata": {},
   "outputs": [
    {
     "data": {
      "text/plain": [
       "Time Spent    24.805547\n",
       "CTR            0.120269\n",
       "dtype: float64"
      ]
     },
     "execution_count": 36,
     "metadata": {},
     "output_type": "execute_result"
    }
   ],
   "source": [
    "df.loc[df['Variant'] == 'Variant A', ['Time Spent', 'CTR']].mean()\n",
    "\n"
   ]
  },
  {
   "attachments": {},
   "cell_type": "markdown",
   "metadata": {},
   "source": [
    "Find the mean of Time Spent and CTR for Variant A"
   ]
  },
  {
   "cell_type": "code",
   "execution_count": 37,
   "metadata": {},
   "outputs": [
    {
     "data": {
      "text/plain": [
       "Time Spent    23.343783\n",
       "CTR            0.108933\n",
       "dtype: float64"
      ]
     },
     "execution_count": 37,
     "metadata": {},
     "output_type": "execute_result"
    }
   ],
   "source": [
    "df.loc[df['Variant'] == 'Variant B', ['Time Spent', 'CTR']].mean()\n"
   ]
  },
  {
   "attachments": {},
   "cell_type": "markdown",
   "metadata": {},
   "source": [
    "Find the mean of Time Spent and CTR for Variant B. Note that the means for both Time Spent and CTR are less than Variant A."
   ]
  },
  {
   "cell_type": "code",
   "execution_count": 38,
   "metadata": {},
   "outputs": [
    {
     "data": {
      "text/plain": [
       "Time Spent    20.070781\n",
       "CTR            0.098554\n",
       "dtype: float64"
      ]
     },
     "execution_count": 38,
     "metadata": {},
     "output_type": "execute_result"
    }
   ],
   "source": [
    "df.loc[df['Variant'] == 'Control', ['Time Spent', 'CTR']].mean()\n"
   ]
  },
  {
   "attachments": {},
   "cell_type": "markdown",
   "metadata": {},
   "source": [
    "Find the mean of Time Spent and CTR for Control Group. Note that the means for both Time Spent and CTR are less than Variant A and Variant B. Note that CTR drops below 0.1 in the Control Group."
   ]
  },
  {
   "cell_type": "code",
   "execution_count": 78,
   "metadata": {},
   "outputs": [
    {
     "data": {
      "text/html": [
       "<div>\n",
       "<style scoped>\n",
       "    .dataframe tbody tr th:only-of-type {\n",
       "        vertical-align: middle;\n",
       "    }\n",
       "\n",
       "    .dataframe tbody tr th {\n",
       "        vertical-align: top;\n",
       "    }\n",
       "\n",
       "    .dataframe thead th {\n",
       "        text-align: right;\n",
       "    }\n",
       "</style>\n",
       "<table border=\"1\" class=\"dataframe\">\n",
       "  <thead>\n",
       "    <tr style=\"text-align: right;\">\n",
       "      <th></th>\n",
       "      <th>Time Spent</th>\n",
       "    </tr>\n",
       "    <tr>\n",
       "      <th>Variant</th>\n",
       "      <th></th>\n",
       "    </tr>\n",
       "  </thead>\n",
       "  <tbody>\n",
       "    <tr>\n",
       "      <th>Control</th>\n",
       "      <td>20.070781</td>\n",
       "    </tr>\n",
       "    <tr>\n",
       "      <th>Variant A</th>\n",
       "      <td>24.805547</td>\n",
       "    </tr>\n",
       "    <tr>\n",
       "      <th>Variant B</th>\n",
       "      <td>23.343783</td>\n",
       "    </tr>\n",
       "  </tbody>\n",
       "</table>\n",
       "</div>"
      ],
      "text/plain": [
       "           Time Spent\n",
       "Variant              \n",
       "Control     20.070781\n",
       "Variant A   24.805547\n",
       "Variant B   23.343783"
      ]
     },
     "execution_count": 78,
     "metadata": {},
     "output_type": "execute_result"
    }
   ],
   "source": [
    "df.groupby('Variant')[['Time Spent']].mean()\n"
   ]
  },
  {
   "attachments": {},
   "cell_type": "markdown",
   "metadata": {},
   "source": [
    "Summarize all the means for time spent."
   ]
  },
  {
   "cell_type": "code",
   "execution_count": 79,
   "metadata": {},
   "outputs": [
    {
     "data": {
      "text/html": [
       "<div>\n",
       "<style scoped>\n",
       "    .dataframe tbody tr th:only-of-type {\n",
       "        vertical-align: middle;\n",
       "    }\n",
       "\n",
       "    .dataframe tbody tr th {\n",
       "        vertical-align: top;\n",
       "    }\n",
       "\n",
       "    .dataframe thead th {\n",
       "        text-align: right;\n",
       "    }\n",
       "</style>\n",
       "<table border=\"1\" class=\"dataframe\">\n",
       "  <thead>\n",
       "    <tr style=\"text-align: right;\">\n",
       "      <th></th>\n",
       "      <th>CTR</th>\n",
       "    </tr>\n",
       "    <tr>\n",
       "      <th>Variant</th>\n",
       "      <th></th>\n",
       "    </tr>\n",
       "  </thead>\n",
       "  <tbody>\n",
       "    <tr>\n",
       "      <th>Control</th>\n",
       "      <td>0.098554</td>\n",
       "    </tr>\n",
       "    <tr>\n",
       "      <th>Variant A</th>\n",
       "      <td>0.120269</td>\n",
       "    </tr>\n",
       "    <tr>\n",
       "      <th>Variant B</th>\n",
       "      <td>0.108933</td>\n",
       "    </tr>\n",
       "  </tbody>\n",
       "</table>\n",
       "</div>"
      ],
      "text/plain": [
       "                CTR\n",
       "Variant            \n",
       "Control    0.098554\n",
       "Variant A  0.120269\n",
       "Variant B  0.108933"
      ]
     },
     "execution_count": 79,
     "metadata": {},
     "output_type": "execute_result"
    }
   ],
   "source": [
    "df.groupby('Variant')[['CTR']].mean()\n"
   ]
  },
  {
   "attachments": {},
   "cell_type": "markdown",
   "metadata": {},
   "source": [
    "Summarize all the means for CTR."
   ]
  },
  {
   "cell_type": "code",
   "execution_count": 39,
   "metadata": {},
   "outputs": [
    {
     "data": {
      "text/plain": [
       "Time Spent    4.734766\n",
       "CTR           0.021715\n",
       "dtype: float64"
      ]
     },
     "execution_count": 39,
     "metadata": {},
     "output_type": "execute_result"
    }
   ],
   "source": [
    "Lift_A = df.loc[df['Variant'] == 'Variant A', ['Time Spent', 'CTR']].mean() - df.loc[df['Variant'] == 'Control', ['Time Spent', 'CTR']].mean()\n",
    "Lift_A\n",
    "\n"
   ]
  },
  {
   "attachments": {},
   "cell_type": "markdown",
   "metadata": {},
   "source": [
    "Find the Lift of CTR and Time Spent for Variant A v Control. This is done by using the loc function and a condition on the df to ensure it selects the values for the Variant column that are equal to Variant A then finding the mean for Time Spent and CTR. Then the above step is repeated for the Control Group. Finally the Variant A subset has the Control Group subset subtracted from it. This gives us the lift for Variant A versus Control Group for the CTR and Time Spent."
   ]
  },
  {
   "cell_type": "code",
   "execution_count": 69,
   "metadata": {},
   "outputs": [
    {
     "data": {
      "text/plain": [
       "Time Spent    23.590344\n",
       "CTR           22.033917\n",
       "dtype: float64"
      ]
     },
     "execution_count": 69,
     "metadata": {},
     "output_type": "execute_result"
    }
   ],
   "source": [
    "Lift_A_per = Lift_A / df.loc[df['Variant'] == 'Control', ['Time Spent', 'CTR']].mean() * 100\n",
    "Lift_A_per"
   ]
  },
  {
   "attachments": {},
   "cell_type": "markdown",
   "metadata": {},
   "source": [
    "This divides th Lift_A means by the Control Group means and multiplies by 100 to find the percent increases in average Time Spent and CTR between A and the Control Group.\n",
    "\n"
   ]
  },
  {
   "attachments": {},
   "cell_type": "markdown",
   "metadata": {},
   "source": []
  },
  {
   "cell_type": "code",
   "execution_count": 74,
   "metadata": {},
   "outputs": [
    {
     "data": {
      "text/plain": [
       "Time Spent    3.273002\n",
       "CTR           0.010379\n",
       "dtype: float64"
      ]
     },
     "execution_count": 74,
     "metadata": {},
     "output_type": "execute_result"
    }
   ],
   "source": [
    "Lift_B = df.loc[df['Variant'] == 'Variant B', ['Time Spent', 'CTR']].mean() - df.loc[df['Variant'] == 'Control', ['Time Spent', 'CTR']].mean() \n",
    "Lift_B"
   ]
  },
  {
   "attachments": {},
   "cell_type": "markdown",
   "metadata": {},
   "source": [
    "Find the Lift of CTR and Time Spent for Variant A v Control. This is done by repeating the above stesp but by switching Variant A for Variant B.\n",
    "\n",
    "Note that the lift values are different for Variant A and Variant B. Variant A lift values seem to be greater as shown."
   ]
  },
  {
   "cell_type": "code",
   "execution_count": 76,
   "metadata": {},
   "outputs": [
    {
     "data": {
      "text/plain": [
       "Time Spent    16.307297\n",
       "CTR           10.531151\n",
       "dtype: float64"
      ]
     },
     "execution_count": 76,
     "metadata": {},
     "output_type": "execute_result"
    }
   ],
   "source": [
    "Lift_B_per = Lift_B / df.loc[df['Variant'] == 'Control', ['Time Spent', 'CTR']].mean() * 100\n",
    "Lift_B_per"
   ]
  },
  {
   "attachments": {},
   "cell_type": "markdown",
   "metadata": {},
   "source": [
    "This follows the same steps to find the percent increase just swtich for Variant B. Note that the increase for Variant A were above 20% for both CTR and Time Spent. This could be a good or bad thing depeding on the interpretation of the metric."
   ]
  },
  {
   "cell_type": "code",
   "execution_count": 41,
   "metadata": {},
   "outputs": [
    {
     "data": {
      "text/plain": [
       "Time Spent    1.461764\n",
       "CTR           0.011336\n",
       "dtype: float64"
      ]
     },
     "execution_count": 41,
     "metadata": {},
     "output_type": "execute_result"
    }
   ],
   "source": [
    "Lift_AvB= df.loc[df['Variant'] == 'Variant A', ['Time Spent', 'CTR']].mean() - df.loc[df['Variant'] == 'Variant B', ['Time Spent', 'CTR']].mean()\n",
    "Lift_AvB\n"
   ]
  },
  {
   "attachments": {},
   "cell_type": "markdown",
   "metadata": {},
   "source": [
    "Find the Lift of CTR and Time Spent for Variant A v Variant B. This is done by repeating the above stesp.\n",
    "\n",
    "Note that the lift values are positive for Variant A compared Variant B. This is expected as Variant A was seen as graeter in the previous analysis."
   ]
  },
  {
   "cell_type": "code",
   "execution_count": 77,
   "metadata": {},
   "outputs": [
    {
     "data": {
      "text/plain": [
       "Time Spent     6.261900\n",
       "CTR           10.406809\n",
       "dtype: float64"
      ]
     },
     "execution_count": 77,
     "metadata": {},
     "output_type": "execute_result"
    }
   ],
   "source": [
    "Lift_AvB_per = Lift_AvB / df.loc[df['Variant'] == 'Variant B', ['Time Spent', 'CTR']].mean() * 100\n",
    "Lift_AvB_per\n",
    "\n",
    "\n"
   ]
  },
  {
   "attachments": {},
   "cell_type": "markdown",
   "metadata": {},
   "source": [
    "This follows the same steps to find the percent increase just swtich. \n",
    "This shows that users in Variant A spend on average 6% more time then Variant B and 23% more than the control group.\n",
    "This also shows that users in Variant A are 10% closer to clicking through the entire feature  than Variant B and 22% closer than the Control Group."
   ]
  },
  {
   "attachments": {},
   "cell_type": "markdown",
   "metadata": {},
   "source": [
    "# Step 2\n",
    "\n",
    "In the previous step we took the time to understand the dataset. From this we identified that there was change in the key metrics CTR and Time Spent that were tracked throughout the experiment based on the Variants A and B to the feature.\n",
    "\n",
    "We found that Variant A has a higher time spent and CTR than Variant B and the control group.\n",
    "Now we need to see if these changes are statistically signficnat.\n",
    "\n",
    "To do this we need to split up step 2 into two parts.\n",
    "\n",
    "Firstly we need to figure out if any factors other than the Variant are affecting the dataset.\n",
    "To do this we will use a One-Way Anova to calculate the F distribution to see if the means for Age, Device, and Location are the same across both metrics. The aim is for there to be no statistically significant difference and for the p value to be high. This is because if the opposite is true and there is a statistically significant difference then another factor is causing change to our data which clouds the results we can get from the experiment. \n",
    "\n",
    "It might lead to us selecting the wrong Variant to implement if this step was not implemented. \n",
    "However, if this step reveals a p-value close to alpha of 0.05 it might lead us to make changes to the rollout plan of the feature.\n",
    "\n",
    "Secondly we need to figure out if the Variant has a statistically signficant change.  This will help us understand if the lift changes from above are represent of the population. If there a statistically signifcant change for Time Spent and CTR then we will have a low p-value.  If the change is statistically significant it means we can make business decisions picking which Variant the engineers should implement. "
   ]
  },
  {
   "cell_type": "code",
   "execution_count": 46,
   "metadata": {},
   "outputs": [
    {
     "data": {
      "text/plain": [
       "Unnamed: 0    83416.666667\n",
       "Age             186.474249\n",
       "Time Spent       30.022642\n",
       "CTR               0.000500\n",
       "dtype: float64"
      ]
     },
     "execution_count": 46,
     "metadata": {},
     "output_type": "execute_result"
    }
   ],
   "source": [
    "df.var(numeric_only=True)\n"
   ]
  },
  {
   "attachments": {},
   "cell_type": "markdown",
   "metadata": {},
   "source": [
    "Check variance to ensure homoscedasticity to ensure parametric measures can be used for time sspent and CTR"
   ]
  },
  {
   "cell_type": "code",
   "execution_count": 47,
   "metadata": {},
   "outputs": [
    {
     "data": {
      "text/plain": [
       "Unnamed: 0    85582.381837\n",
       "Age             177.844533\n",
       "Time Spent       24.644508\n",
       "CTR               0.000404\n",
       "dtype: float64"
      ]
     },
     "execution_count": 47,
     "metadata": {},
     "output_type": "execute_result"
    }
   ],
   "source": [
    "Variant_A.var(numeric_only=True)"
   ]
  },
  {
   "attachments": {},
   "cell_type": "markdown",
   "metadata": {},
   "source": [
    "Time Spent and CTR variance are slightly different"
   ]
  },
  {
   "cell_type": "code",
   "execution_count": 48,
   "metadata": {},
   "outputs": [
    {
     "data": {
      "text/plain": [
       "Unnamed: 0    82656.743935\n",
       "Age             194.091591\n",
       "Time Spent       27.457230\n",
       "CTR               0.000440\n",
       "dtype: float64"
      ]
     },
     "execution_count": 48,
     "metadata": {},
     "output_type": "execute_result"
    }
   ],
   "source": [
    "Variant_B.var(numeric_only=True)"
   ]
  },
  {
   "attachments": {},
   "cell_type": "markdown",
   "metadata": {},
   "source": [
    "Time Spent and CTR variance are slightly different"
   ]
  },
  {
   "cell_type": "code",
   "execution_count": 49,
   "metadata": {},
   "outputs": [
    {
     "data": {
      "text/plain": [
       "Unnamed: 0    82515.102369\n",
       "Age             187.121499\n",
       "Time Spent       26.257248\n",
       "CTR               0.000421\n",
       "dtype: float64"
      ]
     },
     "execution_count": 49,
     "metadata": {},
     "output_type": "execute_result"
    }
   ],
   "source": [
    "Control.var(numeric_only=True)"
   ]
  },
  {
   "attachments": {},
   "cell_type": "markdown",
   "metadata": {},
   "source": [
    "Time Spent and CTR variance are slightly different"
   ]
  },
  {
   "attachments": {},
   "cell_type": "markdown",
   "metadata": {},
   "source": [
    "It seems that parametric measures can be used."
   ]
  },
  {
   "cell_type": "code",
   "execution_count": 53,
   "metadata": {},
   "outputs": [
    {
     "data": {
      "text/html": [
       "<div>\n",
       "<style scoped>\n",
       "    .dataframe tbody tr th:only-of-type {\n",
       "        vertical-align: middle;\n",
       "    }\n",
       "\n",
       "    .dataframe tbody tr th {\n",
       "        vertical-align: top;\n",
       "    }\n",
       "\n",
       "    .dataframe thead th {\n",
       "        text-align: right;\n",
       "    }\n",
       "</style>\n",
       "<table border=\"1\" class=\"dataframe\">\n",
       "  <thead>\n",
       "    <tr style=\"text-align: right;\">\n",
       "      <th></th>\n",
       "      <th>Time Spent</th>\n",
       "      <th>CTR</th>\n",
       "    </tr>\n",
       "    <tr>\n",
       "      <th>Location</th>\n",
       "      <th></th>\n",
       "      <th></th>\n",
       "    </tr>\n",
       "  </thead>\n",
       "  <tbody>\n",
       "    <tr>\n",
       "      <th>Location1</th>\n",
       "      <td>22.707286</td>\n",
       "      <td>0.110217</td>\n",
       "    </tr>\n",
       "    <tr>\n",
       "      <th>Location2</th>\n",
       "      <td>22.648998</td>\n",
       "      <td>0.108517</td>\n",
       "    </tr>\n",
       "    <tr>\n",
       "      <th>Location3</th>\n",
       "      <td>22.787691</td>\n",
       "      <td>0.108708</td>\n",
       "    </tr>\n",
       "  </tbody>\n",
       "</table>\n",
       "</div>"
      ],
      "text/plain": [
       "           Time Spent       CTR\n",
       "Location                       \n",
       "Location1   22.707286  0.110217\n",
       "Location2   22.648998  0.108517\n",
       "Location3   22.787691  0.108708"
      ]
     },
     "execution_count": 53,
     "metadata": {},
     "output_type": "execute_result"
    }
   ],
   "source": [
    "df.groupby('Location')[['Time Spent', 'CTR']].mean()\n"
   ]
  },
  {
   "attachments": {},
   "cell_type": "markdown",
   "metadata": {},
   "source": [
    "Understand whether the mean time spent and CTR varies by location. There seems to be marginal varaition in Location as Location 2 is 22.6 whereas Location3 is 22.8. There seems to be marginal variation in CTR as Location1 is 0.11 whereas the others are 0.108."
   ]
  },
  {
   "cell_type": "code",
   "execution_count": 54,
   "metadata": {},
   "outputs": [
    {
     "data": {
      "text/html": [
       "<div>\n",
       "<style scoped>\n",
       "    .dataframe tbody tr th:only-of-type {\n",
       "        vertical-align: middle;\n",
       "    }\n",
       "\n",
       "    .dataframe tbody tr th {\n",
       "        vertical-align: top;\n",
       "    }\n",
       "\n",
       "    .dataframe thead th {\n",
       "        text-align: right;\n",
       "    }\n",
       "</style>\n",
       "<table border=\"1\" class=\"dataframe\">\n",
       "  <thead>\n",
       "    <tr style=\"text-align: right;\">\n",
       "      <th></th>\n",
       "      <th>Time Spent</th>\n",
       "      <th>CTR</th>\n",
       "    </tr>\n",
       "    <tr>\n",
       "      <th>Device</th>\n",
       "      <th></th>\n",
       "      <th></th>\n",
       "    </tr>\n",
       "  </thead>\n",
       "  <tbody>\n",
       "    <tr>\n",
       "      <th>Device1</th>\n",
       "      <td>22.635032</td>\n",
       "      <td>0.109634</td>\n",
       "    </tr>\n",
       "    <tr>\n",
       "      <th>Device2</th>\n",
       "      <td>22.890021</td>\n",
       "      <td>0.109868</td>\n",
       "    </tr>\n",
       "    <tr>\n",
       "      <th>Device3</th>\n",
       "      <td>22.612276</td>\n",
       "      <td>0.107993</td>\n",
       "    </tr>\n",
       "  </tbody>\n",
       "</table>\n",
       "</div>"
      ],
      "text/plain": [
       "         Time Spent       CTR\n",
       "Device                       \n",
       "Device1   22.635032  0.109634\n",
       "Device2   22.890021  0.109868\n",
       "Device3   22.612276  0.107993"
      ]
     },
     "execution_count": 54,
     "metadata": {},
     "output_type": "execute_result"
    }
   ],
   "source": [
    "df.groupby('Device')[['Time Spent', 'CTR']].mean()\n"
   ]
  },
  {
   "attachments": {},
   "cell_type": "markdown",
   "metadata": {},
   "source": [
    "Understand whether the mean time spent and CTR varies by device. There seems to be marginal variation in Time Spent as Device1 in 22.6 whereas Device 2 is 22.9. There seems to be almost no variation in CTR as Device3 is 0.11 whereas the others are 0.108."
   ]
  },
  {
   "cell_type": "code",
   "execution_count": 55,
   "metadata": {},
   "outputs": [
    {
     "data": {
      "text/html": [
       "<div>\n",
       "<style scoped>\n",
       "    .dataframe tbody tr th:only-of-type {\n",
       "        vertical-align: middle;\n",
       "    }\n",
       "\n",
       "    .dataframe tbody tr th {\n",
       "        vertical-align: top;\n",
       "    }\n",
       "\n",
       "    .dataframe thead th {\n",
       "        text-align: right;\n",
       "    }\n",
       "</style>\n",
       "<table border=\"1\" class=\"dataframe\">\n",
       "  <thead>\n",
       "    <tr style=\"text-align: right;\">\n",
       "      <th></th>\n",
       "      <th>Time Spent</th>\n",
       "      <th>CTR</th>\n",
       "    </tr>\n",
       "    <tr>\n",
       "      <th>Age</th>\n",
       "      <th></th>\n",
       "      <th></th>\n",
       "    </tr>\n",
       "  </thead>\n",
       "  <tbody>\n",
       "    <tr>\n",
       "      <th>18</th>\n",
       "      <td>21.805160</td>\n",
       "      <td>0.104431</td>\n",
       "    </tr>\n",
       "    <tr>\n",
       "      <th>19</th>\n",
       "      <td>24.301099</td>\n",
       "      <td>0.113928</td>\n",
       "    </tr>\n",
       "    <tr>\n",
       "      <th>20</th>\n",
       "      <td>22.658484</td>\n",
       "      <td>0.106769</td>\n",
       "    </tr>\n",
       "    <tr>\n",
       "      <th>21</th>\n",
       "      <td>23.174444</td>\n",
       "      <td>0.106317</td>\n",
       "    </tr>\n",
       "    <tr>\n",
       "      <th>22</th>\n",
       "      <td>23.339777</td>\n",
       "      <td>0.111566</td>\n",
       "    </tr>\n",
       "    <tr>\n",
       "      <th>23</th>\n",
       "      <td>21.203465</td>\n",
       "      <td>0.111024</td>\n",
       "    </tr>\n",
       "    <tr>\n",
       "      <th>24</th>\n",
       "      <td>21.505956</td>\n",
       "      <td>0.109765</td>\n",
       "    </tr>\n",
       "    <tr>\n",
       "      <th>25</th>\n",
       "      <td>23.541231</td>\n",
       "      <td>0.109907</td>\n",
       "    </tr>\n",
       "    <tr>\n",
       "      <th>26</th>\n",
       "      <td>22.598906</td>\n",
       "      <td>0.110061</td>\n",
       "    </tr>\n",
       "    <tr>\n",
       "      <th>27</th>\n",
       "      <td>21.729390</td>\n",
       "      <td>0.105247</td>\n",
       "    </tr>\n",
       "    <tr>\n",
       "      <th>28</th>\n",
       "      <td>21.807757</td>\n",
       "      <td>0.103960</td>\n",
       "    </tr>\n",
       "    <tr>\n",
       "      <th>29</th>\n",
       "      <td>24.299111</td>\n",
       "      <td>0.100519</td>\n",
       "    </tr>\n",
       "    <tr>\n",
       "      <th>30</th>\n",
       "      <td>23.432915</td>\n",
       "      <td>0.106659</td>\n",
       "    </tr>\n",
       "    <tr>\n",
       "      <th>31</th>\n",
       "      <td>21.989786</td>\n",
       "      <td>0.104464</td>\n",
       "    </tr>\n",
       "    <tr>\n",
       "      <th>32</th>\n",
       "      <td>22.346828</td>\n",
       "      <td>0.112993</td>\n",
       "    </tr>\n",
       "    <tr>\n",
       "      <th>33</th>\n",
       "      <td>24.616644</td>\n",
       "      <td>0.114898</td>\n",
       "    </tr>\n",
       "    <tr>\n",
       "      <th>34</th>\n",
       "      <td>22.385361</td>\n",
       "      <td>0.106876</td>\n",
       "    </tr>\n",
       "    <tr>\n",
       "      <th>35</th>\n",
       "      <td>21.581871</td>\n",
       "      <td>0.111845</td>\n",
       "    </tr>\n",
       "    <tr>\n",
       "      <th>36</th>\n",
       "      <td>22.879286</td>\n",
       "      <td>0.107217</td>\n",
       "    </tr>\n",
       "    <tr>\n",
       "      <th>37</th>\n",
       "      <td>20.809576</td>\n",
       "      <td>0.120952</td>\n",
       "    </tr>\n",
       "    <tr>\n",
       "      <th>38</th>\n",
       "      <td>25.301273</td>\n",
       "      <td>0.117152</td>\n",
       "    </tr>\n",
       "    <tr>\n",
       "      <th>39</th>\n",
       "      <td>22.893486</td>\n",
       "      <td>0.105070</td>\n",
       "    </tr>\n",
       "    <tr>\n",
       "      <th>40</th>\n",
       "      <td>21.684611</td>\n",
       "      <td>0.121210</td>\n",
       "    </tr>\n",
       "    <tr>\n",
       "      <th>41</th>\n",
       "      <td>24.134836</td>\n",
       "      <td>0.110276</td>\n",
       "    </tr>\n",
       "    <tr>\n",
       "      <th>42</th>\n",
       "      <td>24.833502</td>\n",
       "      <td>0.113295</td>\n",
       "    </tr>\n",
       "    <tr>\n",
       "      <th>43</th>\n",
       "      <td>21.289182</td>\n",
       "      <td>0.106507</td>\n",
       "    </tr>\n",
       "    <tr>\n",
       "      <th>44</th>\n",
       "      <td>23.023596</td>\n",
       "      <td>0.106827</td>\n",
       "    </tr>\n",
       "    <tr>\n",
       "      <th>45</th>\n",
       "      <td>22.468996</td>\n",
       "      <td>0.099483</td>\n",
       "    </tr>\n",
       "    <tr>\n",
       "      <th>46</th>\n",
       "      <td>22.938505</td>\n",
       "      <td>0.110406</td>\n",
       "    </tr>\n",
       "    <tr>\n",
       "      <th>47</th>\n",
       "      <td>21.702336</td>\n",
       "      <td>0.119617</td>\n",
       "    </tr>\n",
       "    <tr>\n",
       "      <th>48</th>\n",
       "      <td>22.503268</td>\n",
       "      <td>0.108007</td>\n",
       "    </tr>\n",
       "    <tr>\n",
       "      <th>49</th>\n",
       "      <td>25.031848</td>\n",
       "      <td>0.115586</td>\n",
       "    </tr>\n",
       "    <tr>\n",
       "      <th>50</th>\n",
       "      <td>24.264450</td>\n",
       "      <td>0.104252</td>\n",
       "    </tr>\n",
       "    <tr>\n",
       "      <th>51</th>\n",
       "      <td>22.599297</td>\n",
       "      <td>0.106918</td>\n",
       "    </tr>\n",
       "    <tr>\n",
       "      <th>52</th>\n",
       "      <td>21.631632</td>\n",
       "      <td>0.106556</td>\n",
       "    </tr>\n",
       "    <tr>\n",
       "      <th>53</th>\n",
       "      <td>20.838519</td>\n",
       "      <td>0.107413</td>\n",
       "    </tr>\n",
       "    <tr>\n",
       "      <th>54</th>\n",
       "      <td>23.340736</td>\n",
       "      <td>0.108838</td>\n",
       "    </tr>\n",
       "    <tr>\n",
       "      <th>55</th>\n",
       "      <td>23.145363</td>\n",
       "      <td>0.108426</td>\n",
       "    </tr>\n",
       "    <tr>\n",
       "      <th>56</th>\n",
       "      <td>21.172350</td>\n",
       "      <td>0.109381</td>\n",
       "    </tr>\n",
       "    <tr>\n",
       "      <th>57</th>\n",
       "      <td>23.608306</td>\n",
       "      <td>0.106884</td>\n",
       "    </tr>\n",
       "    <tr>\n",
       "      <th>58</th>\n",
       "      <td>21.206153</td>\n",
       "      <td>0.107542</td>\n",
       "    </tr>\n",
       "    <tr>\n",
       "      <th>59</th>\n",
       "      <td>20.797435</td>\n",
       "      <td>0.106319</td>\n",
       "    </tr>\n",
       "    <tr>\n",
       "      <th>60</th>\n",
       "      <td>21.909116</td>\n",
       "      <td>0.114229</td>\n",
       "    </tr>\n",
       "    <tr>\n",
       "      <th>61</th>\n",
       "      <td>24.839548</td>\n",
       "      <td>0.105097</td>\n",
       "    </tr>\n",
       "    <tr>\n",
       "      <th>62</th>\n",
       "      <td>23.215577</td>\n",
       "      <td>0.111154</td>\n",
       "    </tr>\n",
       "    <tr>\n",
       "      <th>63</th>\n",
       "      <td>23.439610</td>\n",
       "      <td>0.111595</td>\n",
       "    </tr>\n",
       "    <tr>\n",
       "      <th>64</th>\n",
       "      <td>23.264560</td>\n",
       "      <td>0.105848</td>\n",
       "    </tr>\n",
       "  </tbody>\n",
       "</table>\n",
       "</div>"
      ],
      "text/plain": [
       "     Time Spent       CTR\n",
       "Age                      \n",
       "18    21.805160  0.104431\n",
       "19    24.301099  0.113928\n",
       "20    22.658484  0.106769\n",
       "21    23.174444  0.106317\n",
       "22    23.339777  0.111566\n",
       "23    21.203465  0.111024\n",
       "24    21.505956  0.109765\n",
       "25    23.541231  0.109907\n",
       "26    22.598906  0.110061\n",
       "27    21.729390  0.105247\n",
       "28    21.807757  0.103960\n",
       "29    24.299111  0.100519\n",
       "30    23.432915  0.106659\n",
       "31    21.989786  0.104464\n",
       "32    22.346828  0.112993\n",
       "33    24.616644  0.114898\n",
       "34    22.385361  0.106876\n",
       "35    21.581871  0.111845\n",
       "36    22.879286  0.107217\n",
       "37    20.809576  0.120952\n",
       "38    25.301273  0.117152\n",
       "39    22.893486  0.105070\n",
       "40    21.684611  0.121210\n",
       "41    24.134836  0.110276\n",
       "42    24.833502  0.113295\n",
       "43    21.289182  0.106507\n",
       "44    23.023596  0.106827\n",
       "45    22.468996  0.099483\n",
       "46    22.938505  0.110406\n",
       "47    21.702336  0.119617\n",
       "48    22.503268  0.108007\n",
       "49    25.031848  0.115586\n",
       "50    24.264450  0.104252\n",
       "51    22.599297  0.106918\n",
       "52    21.631632  0.106556\n",
       "53    20.838519  0.107413\n",
       "54    23.340736  0.108838\n",
       "55    23.145363  0.108426\n",
       "56    21.172350  0.109381\n",
       "57    23.608306  0.106884\n",
       "58    21.206153  0.107542\n",
       "59    20.797435  0.106319\n",
       "60    21.909116  0.114229\n",
       "61    24.839548  0.105097\n",
       "62    23.215577  0.111154\n",
       "63    23.439610  0.111595\n",
       "64    23.264560  0.105848"
      ]
     },
     "execution_count": 55,
     "metadata": {},
     "output_type": "execute_result"
    }
   ],
   "source": [
    "df.groupby('Age')[['Time Spent', 'CTR']].mean()\n"
   ]
  },
  {
   "attachments": {},
   "cell_type": "markdown",
   "metadata": {},
   "source": [
    "Understand whether the mean time spent and CTR varies by age. There is slight variation in time spent as the highest average time spent is 25.3 while the lowest is 20.8. There is also slight variation in CTR spent as the highest average time spent is 0.12 while the lowest is 0.099."
   ]
  },
  {
   "attachments": {},
   "cell_type": "markdown",
   "metadata": {},
   "source": [
    "Since Age, Device, and Location have no significnat variation based on their averages we need to validate if there is statistically no variation. To do this an ANOVA test will be used as it can test if the means of three+ independent groups are different. In this cae we are considering Age, Device, and Location to contain their own independent groups and we want to see if there averages (mean) are the same. Therefore our ANOVA test will have a high value."
   ]
  },
  {
   "cell_type": "code",
   "execution_count": 56,
   "metadata": {},
   "outputs": [
    {
     "name": "stdout",
     "output_type": "stream",
     "text": [
      "F_onewayResult(statistic=0.053578839670573676, pvalue=0.9478339402848069)\n"
     ]
    }
   ],
   "source": [
    "Loc_1 = df[df['Location'] == 'Location1']['Time Spent']\n",
    "Loc_2 = df[df['Location'] == 'Location2']['Time Spent']\n",
    "Loc_3 = df[df['Location'] == 'Location3']['Time Spent']\n",
    "\n",
    "p_val = stats.f_oneway(Loc_1, Loc_2, Loc_3)\n",
    "print(p_val)"
   ]
  },
  {
   "attachments": {},
   "cell_type": "markdown",
   "metadata": {},
   "source": [
    "To create the setup for ANOVA. A dataframe for each Location was created that stored the values for time spent. Then each dataframe was inputted as arguments in  spciy stats f_oneway function that creates a oneway ANOVA. The output was printed. The following steps were repeated for the rest of the ANOVA with slight changes based on the labels and quanity for variables."
   ]
  },
  {
   "attachments": {},
   "cell_type": "markdown",
   "metadata": {},
   "source": [
    "P-Value is high as desired so Location mean has no statistically significnat change in their averages for time spent."
   ]
  },
  {
   "cell_type": "code",
   "execution_count": 80,
   "metadata": {},
   "outputs": [
    {
     "name": "stdout",
     "output_type": "stream",
     "text": [
      "F_onewayResult(statistic=0.5792245145655729, pvalue=0.5605211716238133)\n"
     ]
    }
   ],
   "source": [
    "Loc_1 = df[df['Location'] == 'Location1']['CTR']\n",
    "Loc_2 = df[df['Location'] == 'Location2']['CTR']\n",
    "Loc_3 = df[df['Location'] == 'Location3']['CTR']\n",
    "\n",
    "p_val = stats.f_oneway(Loc_1, Loc_2, Loc_3)\n",
    "print(p_val)"
   ]
  },
  {
   "attachments": {},
   "cell_type": "markdown",
   "metadata": {},
   "source": [
    "P-Value is high as desired so Location mean has no statistically significnat change in their averages for click through rate."
   ]
  },
  {
   "cell_type": "code",
   "execution_count": 100,
   "metadata": {},
   "outputs": [
    {
     "name": "stdout",
     "output_type": "stream",
     "text": [
      "F_onewayResult(statistic=0.26645371811833884, pvalue=0.7661459958744103)\n"
     ]
    }
   ],
   "source": [
    "Dev_1 = df[df['Device'] == 'Device1']['Time Spent']\n",
    "Dev_2 = df[df['Device'] == 'Device2']['Time Spent']\n",
    "Dev_3 = df[df['Device'] == 'Device3']['Time Spent']\n",
    "\n",
    "p_val = stats.f_oneway(Dev_1, Dev_2, Dev_3)\n",
    "print(p_val)"
   ]
  },
  {
   "attachments": {},
   "cell_type": "markdown",
   "metadata": {},
   "source": [
    "P-Value is high as desired so Device mean has no statistically significnat change in their averages for time spent."
   ]
  },
  {
   "cell_type": "code",
   "execution_count": 89,
   "metadata": {},
   "outputs": [
    {
     "name": "stdout",
     "output_type": "stream",
     "text": [
      "F_onewayResult(statistic=0.7105872492654717, pvalue=0.4916042399968955)\n"
     ]
    }
   ],
   "source": [
    "Dev_1 = df[df['Device'] == 'Device1']['CTR']\n",
    "Dev_2 = df[df['Device'] == 'Device2']['CTR']\n",
    "Dev_3 = df[df['Device'] == 'Device3']['CTR']\n",
    "\n",
    "p_val = stats.f_oneway(Dev_1, Dev_2, Dev_3)\n",
    "print(p_val)"
   ]
  },
  {
   "attachments": {},
   "cell_type": "markdown",
   "metadata": {},
   "source": [
    "P-Value is high as desired so Location mean has no statistically significnat change in their averages for click through rate."
   ]
  },
  {
   "cell_type": "code",
   "execution_count": 94,
   "metadata": {},
   "outputs": [
    {
     "name": "stdout",
     "output_type": "stream",
     "text": [
      "F_onewayResult(statistic=1.0742039789844577, pvalue=0.34343140059340505)\n"
     ]
    }
   ],
   "source": [
    "Age_18 = df[df['Age']== 18]['Time Spent']\n",
    "Age_19 = df[df['Age']== 19]['Time Spent']\n",
    "Age_20 = df[df['Age']== 20]['Time Spent']\n",
    "Age_21 = df[df['Age']== 21]['Time Spent']\n",
    "Age_22 = df[df['Age']== 22]['Time Spent']\n",
    "Age_23 = df[df['Age']== 23]['Time Spent']\n",
    "Age_24 = df[df['Age']== 24]['Time Spent']\n",
    "Age_25 = df[df['Age']== 25]['Time Spent']\n",
    "Age_26 = df[df['Age']== 26]['Time Spent']\n",
    "Age_27 = df[df['Age']== 27]['Time Spent']\n",
    "Age_28 = df[df['Age']== 28]['Time Spent']\n",
    "Age_29 = df[df['Age']== 29]['Time Spent']\n",
    "Age_30 = df[df['Age']== 30]['Time Spent']\n",
    "Age_31 = df[df['Age']== 31]['Time Spent']\n",
    "Age_32 = df[df['Age']== 32]['Time Spent']\n",
    "Age_33 = df[df['Age']== 33]['Time Spent']\n",
    "Age_34 = df[df['Age']== 34]['Time Spent']\n",
    "Age_35 = df[df['Age']== 35]['Time Spent']\n",
    "Age_36 = df[df['Age']== 36]['Time Spent']\n",
    "Age_37 = df[df['Age']== 37]['Time Spent']\n",
    "Age_38 = df[df['Age']== 38]['Time Spent']\n",
    "Age_39 = df[df['Age']== 39]['Time Spent']\n",
    "Age_40 = df[df['Age']== 40]['Time Spent']\n",
    "Age_41 = df[df['Age']== 41]['Time Spent']\n",
    "Age_42 = df[df['Age']== 42]['Time Spent']\n",
    "Age_43 = df[df['Age']== 43]['Time Spent']\n",
    "Age_44 = df[df['Age']== 44]['Time Spent']\n",
    "Age_45 = df[df['Age']== 45]['Time Spent']\n",
    "Age_46 = df[df['Age']== 46]['Time Spent']\n",
    "Age_47 = df[df['Age']== 47]['Time Spent']\n",
    "Age_48 = df[df['Age']== 48]['Time Spent']\n",
    "Age_49 = df[df['Age']== 49]['Time Spent']\n",
    "Age_50 = df[df['Age']== 50]['Time Spent']\n",
    "Age_51 = df[df['Age']== 51]['Time Spent']\n",
    "Age_52 = df[df['Age']== 52]['Time Spent']\n",
    "Age_53 = df[df['Age']== 53]['Time Spent']\n",
    "Age_54 = df[df['Age']== 54]['Time Spent']\n",
    "Age_55 = df[df['Age']== 55]['Time Spent']\n",
    "Age_56 = df[df['Age']== 56]['Time Spent']\n",
    "Age_57 = df[df['Age']== 57]['Time Spent']\n",
    "Age_58 = df[df['Age']== 58]['Time Spent']\n",
    "Age_59 = df[df['Age']== 59]['Time Spent']\n",
    "Age_60 = df[df['Age']== 60]['Time Spent']\n",
    "Age_61 = df[df['Age']== 61]['Time Spent']\n",
    "Age_62 = df[df['Age']== 62]['Time Spent']\n",
    "Age_63 = df[df['Age']== 63]['Time Spent']\n",
    "Age_64 = df[df['Age']== 64]['Time Spent']\n",
    "\n",
    "p_val = stats.f_oneway(Age_18 ,\n",
    "Age_19 ,\n",
    "Age_20 ,\n",
    "Age_21 ,\n",
    "Age_22 ,\n",
    "Age_23 ,\n",
    "Age_24 ,\n",
    "Age_25 ,\n",
    "Age_26 ,\n",
    "Age_27 ,\n",
    "Age_28 ,\n",
    "Age_29 ,\n",
    "Age_30 ,\n",
    "Age_31 ,\n",
    "Age_32 ,\n",
    "Age_33 ,\n",
    "Age_34 ,\n",
    "Age_35 ,\n",
    "Age_36 ,\n",
    "Age_37 ,\n",
    "Age_38 ,\n",
    "Age_39 ,\n",
    "Age_40 ,\n",
    "Age_41 ,\n",
    "Age_42 ,\n",
    "Age_43 ,\n",
    "Age_44 ,\n",
    "Age_45 ,\n",
    "Age_46 ,\n",
    "Age_47 ,\n",
    "Age_48 ,\n",
    "Age_49 ,\n",
    "Age_50 ,\n",
    "Age_51 ,\n",
    "Age_52 ,\n",
    "Age_53 ,\n",
    "Age_54 ,\n",
    "Age_55 ,\n",
    "Age_56 ,\n",
    "Age_57 ,\n",
    "Age_58 ,\n",
    "Age_59 ,\n",
    "Age_60 ,\n",
    "Age_61 ,\n",
    "Age_62 ,\n",
    "Age_63 ,\n",
    "Age_64 \n",
    ")\n",
    "print(p_val)\n",
    "\n",
    "\n"
   ]
  },
  {
   "attachments": {},
   "cell_type": "markdown",
   "metadata": {},
   "source": [
    "P-Value is high as desired so Age mean has no statistically significnat change in their averages for time spent. However the P-Value is much lower when compared to Device and Location. This might indicate that Time Spent is not a metric that we should focus on as Age has influence althought not a statistically significant influence."
   ]
  },
  {
   "cell_type": "code",
   "execution_count": 95,
   "metadata": {},
   "outputs": [
    {
     "name": "stdout",
     "output_type": "stream",
     "text": [
      "F_onewayResult(statistic=0.9242462642861573, pvalue=0.6176826678261718)\n"
     ]
    }
   ],
   "source": [
    "Age_18 = df[df['Age']== 18]['CTR']\n",
    "Age_19 = df[df['Age']== 19]['CTR']\n",
    "Age_20 = df[df['Age']== 20]['CTR']\n",
    "Age_21 = df[df['Age']== 21]['CTR']\n",
    "Age_22 = df[df['Age']== 22]['CTR']\n",
    "Age_23 = df[df['Age']== 23]['CTR']\n",
    "Age_24 = df[df['Age']== 24]['CTR']\n",
    "Age_25 = df[df['Age']== 25]['CTR']\n",
    "Age_26 = df[df['Age']== 26]['CTR']\n",
    "Age_27 = df[df['Age']== 27]['CTR']\n",
    "Age_28 = df[df['Age']== 28]['CTR']\n",
    "Age_29 = df[df['Age']== 29]['CTR']\n",
    "Age_30 = df[df['Age']== 30]['CTR']\n",
    "Age_31 = df[df['Age']== 31]['CTR']\n",
    "Age_32 = df[df['Age']== 32]['CTR']\n",
    "Age_33 = df[df['Age']== 33]['CTR']\n",
    "Age_34 = df[df['Age']== 34]['CTR']\n",
    "Age_35 = df[df['Age']== 35]['CTR']\n",
    "Age_36 = df[df['Age']== 36]['CTR']\n",
    "Age_37 = df[df['Age']== 37]['CTR']\n",
    "Age_38 = df[df['Age']== 38]['CTR']\n",
    "Age_39 = df[df['Age']== 39]['CTR']\n",
    "Age_40 = df[df['Age']== 40]['CTR']\n",
    "Age_41 = df[df['Age']== 41]['CTR']\n",
    "Age_42 = df[df['Age']== 42]['CTR']\n",
    "Age_43 = df[df['Age']== 43]['CTR']\n",
    "Age_44 = df[df['Age']== 44]['CTR']\n",
    "Age_45 = df[df['Age']== 45]['CTR']\n",
    "Age_46 = df[df['Age']== 46]['CTR']\n",
    "Age_47 = df[df['Age']== 47]['CTR']\n",
    "Age_48 = df[df['Age']== 48]['CTR']\n",
    "Age_49 = df[df['Age']== 49]['CTR']\n",
    "Age_50 = df[df['Age']== 50]['CTR']\n",
    "Age_51 = df[df['Age']== 51]['CTR']\n",
    "Age_52 = df[df['Age']== 52]['CTR']\n",
    "Age_53 = df[df['Age']== 53]['CTR']\n",
    "Age_54 = df[df['Age']== 54]['CTR']\n",
    "Age_55 = df[df['Age']== 55]['CTR']\n",
    "Age_56 = df[df['Age']== 56]['CTR']\n",
    "Age_57 = df[df['Age']== 57]['CTR']\n",
    "Age_58 = df[df['Age']== 58]['CTR']\n",
    "Age_59 = df[df['Age']== 59]['CTR']\n",
    "Age_60 = df[df['Age']== 60]['CTR']\n",
    "Age_61 = df[df['Age']== 61]['CTR']\n",
    "Age_62 = df[df['Age']== 62]['CTR']\n",
    "Age_63 = df[df['Age']== 63]['CTR']\n",
    "Age_64 = df[df['Age']== 64]['CTR']\n",
    "\n",
    "p_val = stats.f_oneway(Age_18 ,\n",
    "Age_19 ,\n",
    "Age_20 ,\n",
    "Age_21 ,\n",
    "Age_22 ,\n",
    "Age_23 ,\n",
    "Age_24 ,\n",
    "Age_25 ,\n",
    "Age_26 ,\n",
    "Age_27 ,\n",
    "Age_28 ,\n",
    "Age_29 ,\n",
    "Age_30 ,\n",
    "Age_31 ,\n",
    "Age_32 ,\n",
    "Age_33 ,\n",
    "Age_34 ,\n",
    "Age_35 ,\n",
    "Age_36 ,\n",
    "Age_37 ,\n",
    "Age_38 ,\n",
    "Age_39 ,\n",
    "Age_40 ,\n",
    "Age_41 ,\n",
    "Age_42 ,\n",
    "Age_43 ,\n",
    "Age_44 ,\n",
    "Age_45 ,\n",
    "Age_46 ,\n",
    "Age_47 ,\n",
    "Age_48 ,\n",
    "Age_49 ,\n",
    "Age_50 ,\n",
    "Age_51 ,\n",
    "Age_52 ,\n",
    "Age_53 ,\n",
    "Age_54 ,\n",
    "Age_55 ,\n",
    "Age_56 ,\n",
    "Age_57 ,\n",
    "Age_58 ,\n",
    "Age_59 ,\n",
    "Age_60 ,\n",
    "Age_61 ,\n",
    "Age_62 ,\n",
    "Age_63 ,\n",
    "Age_64 \n",
    ")\n",
    "print(p_val)"
   ]
  },
  {
   "attachments": {},
   "cell_type": "markdown",
   "metadata": {},
   "source": [
    "P-Value is high as desired so Location mean has no statistically significnat change in their averages for click through rate."
   ]
  },
  {
   "attachments": {},
   "cell_type": "markdown",
   "metadata": {},
   "source": [
    "# Note for improvement:\n",
    " As an entry level product analyst I used excel find and replace to iterate the first part of the code. And then I used text to columns to get the Age_# section by itself. Then I used a formula to add a comma at the end except for Age_64. Finally I used find and replace again to change it from Time Spent to CTR. Is it possible to write this with a for loop because I tried using df.iteruples() but I think I am missing something.\n",
    "\n",
    " Furthemore, because of this I decided not to include graphs as I concluded it would be too much effort to see the 46 different age groups and compare each individual distirbution much less plot them all on the same distribution."
   ]
  },
  {
   "attachments": {},
   "cell_type": "markdown",
   "metadata": {},
   "source": [
    "# End of Step 2 Part 1 and Start of Part 2\n",
    "\n",
    "The previous results have revealed that none of the means are statistically significnat across the groups tested. However Age and Time Spent had the lowest p-value which might reveal some information when deciding how to rollout the feature because Age somewhat influences time spent.\n",
    "\n",
    "To begin part two we will move on to assesing the effets of the Variants.\n",
    "In comparison to the last section we desired a high p-value we would prefer a low p-value below the confidence level of alpha =0.05. This will show that there a statistically signficant change. T"
   ]
  },
  {
   "cell_type": "code",
   "execution_count": 104,
   "metadata": {},
   "outputs": [
    {
     "name": "stdout",
     "output_type": "stream",
     "text": [
      "F_onewayResult(statistic=93.58891593622702, pvalue=5.638952705781554e-38)\n"
     ]
    }
   ],
   "source": [
    "Var_A = df[df['Variant'] == 'Variant A']['CTR']\n",
    "Var_B = df[df['Variant'] == 'Variant B']['CTR']\n",
    "Cont = df[df['Variant'] == 'Control']['CTR']\n",
    "\n",
    "p_val = stats.f_oneway(Var_A, Var_B, Cont)\n",
    "print(p_val)"
   ]
  },
  {
   "attachments": {},
   "cell_type": "markdown",
   "metadata": {},
   "source": [
    "This runs a oneway anova to see if there a statistically significnat difference between all averages for CTR. Since the p-value is below alpha there is a difference. However this does not verify if Variant A or Variant B is better based on the lift data."
   ]
  },
  {
   "cell_type": "code",
   "execution_count": 105,
   "metadata": {},
   "outputs": [
    {
     "name": "stdout",
     "output_type": "stream",
     "text": [
      "F_onewayResult(statistic=75.60840947416146, pvalue=2.676826588910432e-31)\n"
     ]
    }
   ],
   "source": [
    "Var_A = df[df['Variant'] == 'Variant A']['Time Spent']\n",
    "Var_B = df[df['Variant'] == 'Variant B']['Time Spent']\n",
    "Cont = df[df['Variant'] == 'Control']['Time Spent']\n",
    "\n",
    "p_val = stats.f_oneway(Var_A, Var_B, Cont)\n",
    "print(p_val)"
   ]
  },
  {
   "attachments": {},
   "cell_type": "markdown",
   "metadata": {},
   "source": [
    "This runs a oneway anova to see if there a statistically significnat difference between all averages for time spent. Since the p-value is below alpha there is a difference. However this does not verify if Variant A or Variant B is better based on the lift data."
   ]
  },
  {
   "cell_type": "code",
   "execution_count": 106,
   "metadata": {},
   "outputs": [
    {
     "name": "stdout",
     "output_type": "stream",
     "text": [
      "Ttest_indResult(statistic=13.829424737499187, pvalue=1.9602781373243157e-38)\n",
      "Ttest_indResult(statistic=6.4718143491783255, pvalue=1.8743198199982106e-10)\n",
      "Ttest_indResult(statistic=7.08499696316128, pvalue=3.587180487986577e-12)\n"
     ]
    }
   ],
   "source": [
    "Var_A = df[df['Variant'] == 'Variant A']['CTR']\n",
    "Var_B = df[df['Variant'] == 'Variant B']['CTR']\n",
    "Cont = df[df['Variant'] == 'Control']['CTR']\n",
    "\n",
    "p_val = stats.ttest_ind(Var_A, Cont)\n",
    "p_val2 = stats.ttest_ind(Var_B, Cont)\n",
    "p_val3 = stats.ttest_ind(Var_A, Var_B)\n",
    "print(p_val)\n",
    "print(p_val2)\n",
    "print(p_val3)"
   ]
  },
  {
   "attachments": {},
   "cell_type": "markdown",
   "metadata": {},
   "source": [
    "This code uses the stats.ttest function to run a t-test based on the above for CTR. The three null hypothesis are that there is firstly no statistical difference between Var_A and Control. Then no statistical difference between Var_B and Control and lastly no statistical difference between Var_A and Var_B.\n",
    "\n",
    "Since the p-values are all belove 0.05 we can say that we can reject all the null hypothesis making there be a statistically signficant difference between the means.\n",
    "\n",
    "Below each t-test distribution is plotted to demonstrate a visual comparison of the results and show a statistically significnat difference in the mean."
   ]
  },
  {
   "cell_type": "code",
   "execution_count": 122,
   "metadata": {},
   "outputs": [
    {
     "data": {
      "image/png": "[encoded data removed]",
      "text/plain": [
       "<Figure size 640x480 with 1 Axes>"
      ]
     },
     "metadata": {},
     "output_type": "display_data"
    }
   ],
   "source": [
    "sns.histplot(data=Var_A,  color='skyblue', label='Variant A', kde= True)\n",
    "sns.histplot(data=Cont, color='lightgreen', label='Control', kde= True)\n",
    "\n",
    "\n",
    "A_mean= Var_A.mean()\n",
    "Cont_mean= Cont.mean()\n",
    "\n",
    "\n",
    "plt.axvline(x=A_mean, linewidth=3, color='blue', label=\"A_mean\")\n",
    "plt.axvline(x=Cont_mean, linewidth=3, color='green', label=\"Cont_mean\")\n",
    "\n",
    "\n",
    "plt.xlabel('CTR')\n",
    "plt.ylabel('Density')\n",
    "plt.title('T-Test Distribution: Variant A vs Control (CTR)')\n",
    "\n",
    "plt.legend()\n",
    "plt.show()"
   ]
  },
  {
   "attachments": {},
   "cell_type": "markdown",
   "metadata": {},
   "source": [
    "This plot uses the seaborn library and matplotlib library to plot the distribution. \n",
    "\n",
    "Firstly a distribution was created using seaborn histplot. Within seaborn the colors were changed to be ligher more transparent versions of themsevles according to https://matplotlib.org/stable/gallery/color/named_colors.html. Then they were labelled for each group. Lastly with within seaborn the kde function was set to True which applies a density estimate.\n",
    "\n",
    "https://www.statology.org/seaborn-normal-distribution/\n",
    "\n",
    "\n",
    "Then the mean for each location was found. After which matplotlib was used to with a function called axvline to plot the man so that there was visibilty for the user to see how close the means of the distirubitons were. X was set to each of the means. Linewidth was set to three. The regulars color were left so they woudld stand out comparatively. The means were then labelled.\n",
    "\n",
    "https://stackoverflow.com/questions/67613774/how-to-add-a-mean-and-median-line-to-a-seaborn-displot\n",
    "\n",
    "Afterwards the axis labels and titles were plotted using matplotlib. A legend was also created. Finally the distribution was plotted.\n",
    "\n",
    "The following steps were repeated for the rest of the t-distribution with slight changes based on the labels and change from CTR to Time Spent."
   ]
  },
  {
   "cell_type": "code",
   "execution_count": 125,
   "metadata": {},
   "outputs": [
    {
     "data": {
      "image/png": "[encoded data removed]",
      "text/plain": [
       "<Figure size 640x480 with 1 Axes>"
      ]
     },
     "metadata": {},
     "output_type": "display_data"
    }
   ],
   "source": [
    "sns.histplot(data=Var_B,  color='lightsalmon', label='Variant B', kde= True)\n",
    "sns.histplot(data=Cont, color='lightgreen', label='Control', kde= True)\n",
    "\n",
    "\n",
    "B_mean= Var_B.mean()\n",
    "Cont_mean= Cont.mean()\n",
    "\n",
    "\n",
    "plt.axvline(x=Cont_mean, linewidth=3, color='green', label=\"Cont_mean\")\n",
    "plt.axvline(x=B_mean, linewidth=3, color='red', label=\"B_mean\")\n",
    "\n",
    "\n",
    "plt.xlabel('CTR')\n",
    "plt.ylabel('Density')\n",
    "plt.title('T-Test Distribution: Variant B vs Control (CTR)')\n",
    "\n",
    "plt.legend()\n",
    "plt.show()"
   ]
  },
  {
   "cell_type": "code",
   "execution_count": 126,
   "metadata": {},
   "outputs": [
    {
     "data": {
      "image/png": "[encoded data removed]",
      "text/plain": [
       "<Figure size 640x480 with 1 Axes>"
      ]
     },
     "metadata": {},
     "output_type": "display_data"
    }
   ],
   "source": [
    "sns.histplot(data=Var_A,  color='skyblue', label='Variant A', kde= True)\n",
    "sns.histplot(data=Var_B, color='lightsalmon', label='Variant B', kde= True)\n",
    "\n",
    "\n",
    "A_mean= Var_A.mean()\n",
    "B_mean= Var_B.mean()\n",
    "\n",
    "\n",
    "plt.axvline(x=A_mean, linewidth=3, color='blue', label=\"A_mean\")\n",
    "plt.axvline(x=B_mean, linewidth=3, color='red', label=\"B_mean\")\n",
    "\n",
    "\n",
    "plt.xlabel('CTR')\n",
    "plt.ylabel('Density')\n",
    "plt.title('T-Test Distribution: Variant A vs Variant B (CTR)')\n",
    "\n",
    "plt.legend()\n",
    "plt.show()\n"
   ]
  },
  {
   "cell_type": "code",
   "execution_count": 127,
   "metadata": {},
   "outputs": [
    {
     "name": "stdout",
     "output_type": "stream",
     "text": [
      "Ttest_indResult(statistic=12.142363487472364, pvalue=8.488565644996449e-31)\n",
      "Ttest_indResult(statistic=8.174237395991806, pvalue=1.496358076285182e-15)\n",
      "Ttest_indResult(statistic=3.6788175394209075, pvalue=0.0002534771014765265)\n"
     ]
    }
   ],
   "source": [
    "Var_A = df[df['Variant'] == 'Variant A']['Time Spent']\n",
    "Var_B = df[df['Variant'] == 'Variant B']['Time Spent']\n",
    "Cont = df[df['Variant'] == 'Control']['Time Spent']\n",
    "\n",
    "p_val = stats.ttest_ind(Var_A, Cont)\n",
    "p_val2 = stats.ttest_ind(Var_B, Cont)\n",
    "p_val3 = stats.ttest_ind(Var_A, Var_B)\n",
    "print(p_val)\n",
    "print(p_val2)\n",
    "print(p_val3)"
   ]
  },
  {
   "attachments": {},
   "cell_type": "markdown",
   "metadata": {},
   "source": [
    "This code uses the stats.ttest function to run a t-test based on the above for Time Spent. The three null hypothesis are that there is firstly no statistical difference between Var_A and Control. Then no statistical difference between Var_B and Control and lastly no statistical difference between Var_A and Var_B.\n",
    "\n",
    "Since the p-values are all belove 0.05 we can say that we can reject all the null hypothesis making there be a statistically signficant difference between the means.\n",
    "\n",
    "Below each t-test distribution is plotted to demonstrate a visual comparison of the results and show a statistically significnat difference in the mean."
   ]
  },
  {
   "cell_type": "code",
   "execution_count": 135,
   "metadata": {},
   "outputs": [
    {
     "data": {
      "image/png": "[encoded data removed]",
      "text/plain": [
       "<Figure size 640x480 with 1 Axes>"
      ]
     },
     "metadata": {},
     "output_type": "display_data"
    }
   ],
   "source": [
    "sns.histplot(data=Var_A,  color='skyblue', label='Variant A', kde= True)\n",
    "sns.histplot(data=Cont, color='lightgreen', label='Control', kde= True)\n",
    "\n",
    "\n",
    "A_mean= Var_A.mean()\n",
    "Cont_mean= Cont.mean()\n",
    "\n",
    "\n",
    "plt.axvline(x=A_mean, linewidth=3, color='blue', label=\"A_mean\")\n",
    "plt.axvline(x=Cont_mean, linewidth=3, color='green', label=\"Cont_mean\")\n",
    "\n",
    "\n",
    "plt.xlabel('Time Spent')\n",
    "plt.ylabel('Density')\n",
    "plt.title('T-Test Distribution: Variant A vs Control (Time Spent)')\n",
    "\n",
    "plt.legend()\n",
    "plt.show()\n"
   ]
  },
  {
   "cell_type": "code",
   "execution_count": 136,
   "metadata": {},
   "outputs": [
    {
     "data": {
      "image/png": "[encoded data removed]",
      "text/plain": [
       "<Figure size 640x480 with 1 Axes>"
      ]
     },
     "metadata": {},
     "output_type": "display_data"
    }
   ],
   "source": [
    "sns.histplot(data=Var_B,  color='lightsalmon', label='Variant B', kde= True)\n",
    "sns.histplot(data=Cont, color='lightgreen', label='Control', kde= True)\n",
    "\n",
    "\n",
    "B_mean= Var_B.mean()\n",
    "Cont_mean= Cont.mean()\n",
    "\n",
    "\n",
    "plt.axvline(x=Cont_mean, linewidth=3, color='green', label=\"Cont_mean\")\n",
    "plt.axvline(x=B_mean, linewidth=3, color='red', label=\"B_mean\")\n",
    "\n",
    "\n",
    "plt.xlabel('Time Spent')\n",
    "plt.ylabel('Density')\n",
    "plt.title('T-Test Distribution: Variant B vs Control (Time SPent)')\n",
    "\n",
    "plt.legend()\n",
    "plt.show()"
   ]
  },
  {
   "cell_type": "code",
   "execution_count": 137,
   "metadata": {},
   "outputs": [
    {
     "data": {
      "image/png": "[encoded data removed]",
      "text/plain": [
       "<Figure size 640x480 with 1 Axes>"
      ]
     },
     "metadata": {},
     "output_type": "display_data"
    }
   ],
   "source": [
    "sns.histplot(data=Var_A,  color='skyblue', label='Variant A', kde= True)\n",
    "sns.histplot(data=Var_B, color='lightsalmon', label='Variant B', kde= True)\n",
    "\n",
    "\n",
    "A_mean= Var_A.mean()\n",
    "B_mean= Var_B.mean()\n",
    "\n",
    "\n",
    "plt.axvline(x=A_mean, linewidth=3, color='blue', label=\"A_mean\")\n",
    "plt.axvline(x=B_mean, linewidth=3, color='red', label=\"B_mean\")\n",
    "\n",
    "\n",
    "plt.xlabel('Time Spent')\n",
    "plt.ylabel('Density')\n",
    "plt.title('T-Test Distribution: Variant A vs Variant B (Time Spent)')\n",
    "\n",
    "plt.legend()\n",
    "plt.show()"
   ]
  },
  {
   "attachments": {},
   "cell_type": "markdown",
   "metadata": {},
   "source": [
    "# Step 3 Summarize the Results\n",
    "\n",
    "So what has this report provided us with.\n",
    "\n",
    "In Step 1: We found that there is lift for Variant A compared to both Variant B and the control group.\n",
    "\n",
    "This shows that users in Variant A spend on average 6% more time then Variant B and 23% more than the control group.\n",
    "This also shows that users in Variant A are 10% closer to clicking through the entire feature  than Variant B and 22% closer than the Control Group.\n",
    "\n",
    "In Step 2 Part 1:We also found out none of the other factors of Age, Location, and Device in the sample have an affect on the mean. However age had the lowest p-value of 0.343 for Time Spent which means age group might affect Time Spent.\n",
    "\n",
    "In Step 2 Part 2: We finally concluded that there is a statistically significant difference in the mean. This is shown as all the null hypothesis were rejected. However, we should note that the highest p-value was for Time Spent between Var_A and Var_B. As seen in the graph it seems to have least difference in mean.\n",
    "\n",
    "# Step 3 Recommendation to Engineering Team\n",
    "\n",
    "So what is the recommendation. Well this can only be defined by looking at the business applications of the two metrics.\n",
    "\n",
    "Which is the key metric in terms of business application.\n",
    "\n",
    "I believe the key metric is Click Through Rate. This is because the business is a mobile application and the A/B test was regarding an important feature. In terms of helping the company earn revenue no matter how much time the spend using the feature if they do not click through everything in the feature they have not clicked on the windows that prompt them to make a purchase.\n",
    "\n",
    "Therefore time spent is an afterthought when compared to the CTR. Based on this the Recommendation to the engineering team is to pick Variant A to implement.\n",
    "\n",
    "However, we can agree that a higher CTR is better as it means as on average the user is closer to clikcing on a window that prompts them to make a feature. On the other hand the time spent has two possible causes. A higher time spent could indicate the user enjoys the featue or the user does not understand the feature. The first possiblity is good and second is bad. This should be addressesd in the rollout plan."
   ]
  },
  {
   "attachments": {},
   "cell_type": "markdown",
   "metadata": {},
   "source": [
    "# Step 4 Rollout Plan\n",
    "\n",
    "Firstly two issues need to be adressed.\n",
    "\n",
    "A: The cause for the higher Time Spent for Variant A\n",
    "B: The Age effect on Time Spent\n",
    "\n",
    "My hypothesis based on the Time Spent is that Age might be affecting the Time Spent on Variant A as it is possible older users might not understand the new changes to Variant A's version of the key feature.\n",
    "\n",
    "The rollout plan's first course of action is to verifty if this is true by running a new test or gaining user feedback by age to determine whether this is truly an issue. If not age another A/B test should be created to analyze whether time spent in general due to the user enjoying the feature or the user not understanding the feature. As this could lead to another business decision in making Variant A as the outcome of them liking the feature is ideal but the outcome of them not understanding the feature is not ideal.\n",
    "\n",
    "Secondly I think the company should get a focus group of people who liked and did not like Variant A as although the average was better there might be some people who did not enjoy the feature. Utilizing a customer survey to gain user feedback would be helpful.\n",
    "\n",
    "Thirdly I would rollout to a small audience and run a beta test of the new feature to ensure it works in one Location and one Device. The Location and Device should be chosen based on which has the best synergy with Variant A's version of the feature. \n",
    "\n",
    "Fourthly once the initial beta test is done then they monitor and collect feeback.\n",
    "\n",
    "Fifthly they should analyze the feeback and improve the feature based on the feedback.\n",
    "\n",
    "The sixth step would be to repeat steps three to five with a gradual expansion of the size until there is enough positive feedback while ensuring the back end of the feature can handle more users.\n",
    "\n",
    "The seventh step would be launch the feature for all applications on all devices and locations while ensuring a proper customer support staff is setup to deal with issues.\n",
    "\n"
   ]
  }
 ],
 "metadata": {
  "kernelspec": {
   "display_name": "base",
   "language": "python",
   "name": "python3"
  },
  "language_info": {
   "codemirror_mode": {
    "name": "ipython",
    "version": 3
   },
   "file_extension": ".py",
   "mimetype": "text/x-python",
   "name": "python",
   "nbconvert_exporter": "python",
   "pygments_lexer": "ipython3",
   "version": "3.10.9"
  },
  "orig_nbformat": 4
 },
 "nbformat": 4,
 "nbformat_minor": 2
}
